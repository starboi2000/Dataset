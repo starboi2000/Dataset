{
  "nbformat": 4,
  "nbformat_minor": 0,
  "metadata": {
    "colab": {
      "name": "googlefrom_detaction.ipynb",
      "provenance": [],
      "collapsed_sections": []
    },
    "kernelspec": {
      "name": "python3",
      "display_name": "Python 3"
    },
    "language_info": {
      "name": "python"
    }
  },
  "cells": [
    {
      "cell_type": "code",
      "metadata": {
        "id": "jfx8zxYA62aU"
      },
      "source": [
        "from bs4 import BeautifulSoup\n",
        "import pickle\n",
        "import re"
      ],
      "execution_count": null,
      "outputs": []
    },
    {
      "cell_type": "markdown",
      "metadata": {
        "id": "eC99RPEb5j8U"
      },
      "source": [
        "###Detects if that particular link is belongs to a google form or not if not then the site is phishing or not?"
      ]
    },
    {
      "cell_type": "code",
      "metadata": {
        "id": "m_qhduF_701I"
      },
      "source": [
        "import requests\n",
        "ht = input('enter:')\n",
        "html_text = requests.get(ht).text\n",
        "\n",
        "# print(html_text)\n",
        "soup = BeautifulSoup(html_text, 'lxml')\n",
        "forms = soup.find('div', class_ = 'freebirdFormviewerViewFormContentWrapper')\n",
        "# print(forms)\n",
        "if forms == None:\n",
        "  print(\"Not a google form\")\n",
        "  \n",
        "  new_strings = []\n",
        "# word = 'https://www.'\n",
        "  for i in ([ht]):\n",
        "    # sites_1.append(i[8:])\n",
        "    new_strings.append(re.sub(r'https?:\\/\\/', '', i))\n",
        "# sites_1  \n",
        "# site = input('Enter site: ').lower()\n",
        "# predict1 = []\n",
        "  loaded_model = pickle.load(open('/content/phishing.pkl', 'rb'))\n",
        "# predict1.append(site)\n",
        "  result = loaded_model.predict(new_strings)\n",
        "  print(new_strings)\n",
        "  print('This is a ' +result+ 'site' )\n",
        "else:\n",
        "  print(\"This is a google form (more info click here)\")\n",
        "  print(ht)\n",
        "  # entity_name = forms.find_all('div', class_ = 'freebirdFormviewerViewNumberedItemContainer')\n",
        "  # print(entity_name)\n",
        "  entity_name = forms.find_all('div', class_ = 'm2' )\n",
        "  # nn = entity_name['data-params'][5]\n",
        "  for j in range(len(entity_name)):\n",
        "    i = 0\n",
        "    nn = ''\n",
        "    while(entity_name[j]['data-params'][i] != \"\\\"\"):\n",
        "      i += 1\n",
        "    i += 1\n",
        "    while(entity_name[j]['data-params'][i] != \"\\\"\"):\n",
        "      nn += entity_name[j]['data-params'][i]\n",
        "      i += 1\n",
        "    # print(nn)\n",
        "    # if nn in li:\n",
        "    #   print(nn +' [Not SAfe]')\n",
        "    # else:\n",
        "    #   print(nn + \" [safe]\")\n",
        "    re_pattern = r'\\b(?:cvv|password|account|expiration|otp|ifsc)\\b'\n",
        "    n1 = re.findall(re_pattern, nn.lower())\n",
        "    if n1:\n",
        "      print(nn +' [Not SAfe]')\n",
        "    else:\n",
        "      print(nn +\" [safe]\")"
      ],
      "execution_count": null,
      "outputs": []
    },
    {
      "cell_type": "code",
      "metadata": {
        "id": "pHamJpFV2cNC",
        "colab": {
          "base_uri": "https://localhost:8080/"
        },
        "outputId": "d422e57e-b209-431b-e0e7-61c1760aec27"
      },
      "source": [
        "ht = ['https://www.google.com/search?q=how+to+check+a+unknown+url+is+phising+or+not+in+python&rlz=1C1CHBD_enIN928IN929&oq=how+to+check+a+unknown+url+is+phising+or+not+in+python&aqs=chrome..69i57.19740j0j7&sourceid=chrome&ie=UTF-8']\n",
        "if (ht[0][4]) == 's':\n",
        "  print(\"safe\")\n",
        "else:\n",
        "  print('Not Safe')"
      ],
      "execution_count": null,
      "outputs": [
        {
          "output_type": "stream",
          "text": [
            "safe\n"
          ],
          "name": "stdout"
        }
      ]
    },
    {
      "cell_type": "code",
      "metadata": {
        "id": "KpxY4RUMER-z"
      },
      "source": [
        "nn = 'CVV'.lower()\n",
        "# result = (?:^|(?<= ))(Name|Roll)(?:(?= )|$)\n",
        "result = re.match(r'(?:^|(?<= ))(cvv|account|password|)(?:(?= )|$)',nn)\n",
        "# li = ['Name', 'Roll']\n",
        "\n",
        "# for i in li:\n",
        "    # print(i)\n",
        "\n",
        "if result:\n",
        "  print('Not SAfe')\n",
        "else:\n",
        "  print(\"safe\")"
      ],
      "execution_count": null,
      "outputs": []
    },
    {
      "cell_type": "code",
      "metadata": {
        "id": "1qeNVSA39D4O",
        "colab": {
          "base_uri": "https://localhost:8080/"
        },
        "outputId": "6c137af0-e33d-478d-ae08-a4185dac0049"
      },
      "source": [
        "sec = 'Account Number'\n",
        "re_pattern = r'\\b(?:cvv|password|account|expiration|otp|ifsc)\\b'\n",
        "n1 = re.findall(re_pattern, sec.lower())\n",
        "if n1:\n",
        "  print(sec +' [Not SAfe]')\n",
        "else:\n",
        "  print(sec +\" [safe]\")"
      ],
      "execution_count": null,
      "outputs": [
        {
          "output_type": "stream",
          "text": [
            "Account Number [Not SAfe]\n"
          ],
          "name": "stdout"
        }
      ]
    },
    {
      "cell_type": "code",
      "metadata": {
        "id": "i5LfN7X0ZehR"
      },
      "source": [
        ""
      ],
      "execution_count": null,
      "outputs": []
    }
  ]
}