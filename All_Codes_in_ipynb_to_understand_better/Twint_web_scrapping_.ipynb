{
  "nbformat": 4,
  "nbformat_minor": 0,
  "metadata": {
    "kernelspec": {
      "display_name": "Python 3",
      "language": "python",
      "name": "python3"
    },
    "language_info": {
      "codemirror_mode": {
        "name": "ipython",
        "version": 3
      },
      "file_extension": ".py",
      "mimetype": "text/x-python",
      "name": "python",
      "nbconvert_exporter": "python",
      "pygments_lexer": "ipython3",
      "version": "3.6.5"
    },
    "colab": {
      "name": " Twint web scrapping .ipynb",
      "provenance": []
    }
  },
  "cells": [
    {
      "cell_type": "markdown",
      "metadata": {
        "id": "HEuMCxQ5ULaj"
      },
      "source": [
        "### Install libraries"
      ]
    },
    {
      "cell_type": "code",
      "metadata": {
        "id": "d6GBQz27ULau"
      },
      "source": [
        "!git clone --depth=1 https://github.com/twintproject/twint.git\n",
        "%cd twint\n",
        "!pip3 install . -r requirements.txt"
      ],
      "execution_count": null,
      "outputs": []
    },
    {
      "cell_type": "code",
      "metadata": {
        "id": "GxGCS_5ZULax"
      },
      "source": [
        "import nest_asyncio\n",
        "nest_asyncio.apply()# used once to enable concurrent actions within a Jupyter notebook."
      ],
      "execution_count": null,
      "outputs": []
    },
    {
      "cell_type": "code",
      "metadata": {
        "id": "sV534A7IULay"
      },
      "source": [
        "import twint "
      ],
      "execution_count": null,
      "outputs": []
    },
    {
      "cell_type": "markdown",
      "metadata": {
        "id": "We0Ro6piULaz"
      },
      "source": [
        "### 1. Scrape the tweets of user"
      ]
    },
    {
      "cell_type": "code",
      "metadata": {
        "id": "3qXPh-ndULaz"
      },
      "source": [
        "# Configure\n",
        "c = twint.Config()\n",
        "c.Limit = 1\n",
        "c.Username = \"narendramodi\"\n",
        "\n",
        "# Run\n",
        "twint.run.Search(c)"
      ],
      "execution_count": null,
      "outputs": []
    },
    {
      "cell_type": "markdown",
      "metadata": {
        "id": "LUe_EGB5ULa0"
      },
      "source": [
        "### 2. Scrape the tweets from specific date"
      ]
    },
    {
      "cell_type": "code",
      "metadata": {
        "id": "ipMSStqdULa1",
        "outputId": "79ee06cd-620c-4068-998b-d00eaaacf967"
      },
      "source": [
        "c = twint.Config()\n",
        "c.Lang = \"en\"\n",
        "c.Username = \"narendramodi\"\n",
        "c.Hide_output = True\n",
        "c.Since = '2020-10-12'\n",
        "c.until= '2021-01-20'\n",
        "# Run\n",
        "twint.run.Search(c)\n",
        "weets_df = twint.storage.panda.Tweets_df"
      ],
      "execution_count": null,
      "outputs": [
        {
          "output_type": "stream",
          "text": [
            "[!] No more data! Scraping will stop now.\n",
            "found 0 deleted tweets in this search.\n"
          ],
          "name": "stdout"
        }
      ]
    },
    {
      "cell_type": "markdown",
      "metadata": {
        "id": "Ookqr37UULa2"
      },
      "source": [
        "### 3. Scrape tweets for specific search strings"
      ]
    },
    {
      "cell_type": "code",
      "metadata": {
        "id": "K83-Kon0ULa2"
      },
      "source": [
        "# Configure\n",
        "c = twint.Config()\n",
        "c.Lang = \"en\"\n",
        "c.Hide_output = True\n",
        "c.Username = \"narendramodi\"\n",
        "c.Search = ['India','bjp']\n",
        "c.Limit = 1\n",
        "# Run\n",
        "twint.run.Search(c)"
      ],
      "execution_count": null,
      "outputs": []
    },
    {
      "cell_type": "markdown",
      "metadata": {
        "id": "cFL6tNvsULa3"
      },
      "source": [
        "### 4. Scrape tweets Images, Videos or Media (images or videos)"
      ]
    },
    {
      "cell_type": "code",
      "metadata": {
        "id": "8efybK2wULa4"
      },
      "source": [
        "# Configure\n",
        "c = twint.Config()\n",
        "c.Username = \"narendramodi\"\n",
        "c.Limit = 1\n",
        "#c.Images= True\n",
        "#c.Vidoes = True\n",
        "c.Media = True\n",
        "\n",
        "# Run\n",
        "twint.run.Search(c)"
      ],
      "execution_count": null,
      "outputs": []
    },
    {
      "cell_type": "markdown",
      "metadata": {
        "id": "2IZagnXRULa4"
      },
      "source": [
        "### 5. Scrape popular tweets of user"
      ]
    },
    {
      "cell_type": "code",
      "metadata": {
        "id": "M-FvCvBRULa5"
      },
      "source": [
        "import twint\n",
        "\n",
        "# Configure\n",
        "c = twint.Config()\n",
        "c.Username = \"narendramodi\"\n",
        "c.Limit = 1\n",
        "c.Popular_tweets = True\n",
        "\n",
        "# Run\n",
        "twint.run.Search(c)"
      ],
      "execution_count": null,
      "outputs": []
    },
    {
      "cell_type": "markdown",
      "metadata": {
        "id": "6DmoNkbqULa6"
      },
      "source": [
        "### 6. Filter scraped tweets based on min likes, min retweets, and min replies"
      ]
    },
    {
      "cell_type": "code",
      "metadata": {
        "id": "4Et7kT0vULa6"
      },
      "source": [
        "c = twint.Config()\n",
        "c.Username = \"narendramodi\"\n",
        "c.Limit = 1\n",
        "c.Min_likes = 5000\n",
        "c.Min_replies = 1000\n",
        "c.Min_retweets = 100\n",
        "\n",
        "twint.run.Search(c)"
      ],
      "execution_count": null,
      "outputs": []
    },
    {
      "cell_type": "markdown",
      "metadata": {
        "id": "_HhUI_73ULa7"
      },
      "source": [
        "### 7.  Store as Pandas DataFrame"
      ]
    },
    {
      "cell_type": "code",
      "metadata": {
        "id": "GcFYPoWVULa7"
      },
      "source": [
        "import twint\n",
        "\n",
        "c = twint.Config()\n",
        "c.Limit = 1\n",
        "c.Username = 'narendramodi'\n",
        "c.Pandas = True\n",
        "\n",
        "twint.run.Search(c)\n",
        "\n",
        "Tweets_df = twint.storage.panda.Tweets_df"
      ],
      "execution_count": null,
      "outputs": []
    },
    {
      "cell_type": "code",
      "metadata": {
        "id": "gMpXrBpqULa8",
        "outputId": "6f52d6b3-b72f-46a6-80a3-42391f933bf3"
      },
      "source": [
        "Tweets_df.head()"
      ],
      "execution_count": null,
      "outputs": [
        {
          "output_type": "execute_result",
          "data": {
            "text/html": [
              "<div>\n",
              "<style scoped>\n",
              "    .dataframe tbody tr th:only-of-type {\n",
              "        vertical-align: middle;\n",
              "    }\n",
              "\n",
              "    .dataframe tbody tr th {\n",
              "        vertical-align: top;\n",
              "    }\n",
              "\n",
              "    .dataframe thead th {\n",
              "        text-align: right;\n",
              "    }\n",
              "</style>\n",
              "<table border=\"1\" class=\"dataframe\">\n",
              "  <thead>\n",
              "    <tr style=\"text-align: right;\">\n",
              "      <th></th>\n",
              "      <th>id</th>\n",
              "      <th>conversation_id</th>\n",
              "      <th>created_at</th>\n",
              "      <th>date</th>\n",
              "      <th>timezone</th>\n",
              "      <th>place</th>\n",
              "      <th>tweet</th>\n",
              "      <th>language</th>\n",
              "      <th>hashtags</th>\n",
              "      <th>cashtags</th>\n",
              "      <th>...</th>\n",
              "      <th>geo</th>\n",
              "      <th>source</th>\n",
              "      <th>user_rt_id</th>\n",
              "      <th>user_rt</th>\n",
              "      <th>retweet_id</th>\n",
              "      <th>reply_to</th>\n",
              "      <th>retweet_date</th>\n",
              "      <th>translate</th>\n",
              "      <th>trans_src</th>\n",
              "      <th>trans_dest</th>\n",
              "    </tr>\n",
              "  </thead>\n",
              "  <tbody>\n",
              "    <tr>\n",
              "      <th>0</th>\n",
              "      <td>1357351156826083328</td>\n",
              "      <td>1357351156826083328</td>\n",
              "      <td>1.612453e+12</td>\n",
              "      <td>2021-02-04 15:31:48</td>\n",
              "      <td>+0000</td>\n",
              "      <td></td>\n",
              "      <td>Spoke to President @CyrilRamaphosa about the m...</td>\n",
              "      <td>en</td>\n",
              "      <td>[]</td>\n",
              "      <td>[]</td>\n",
              "      <td>...</td>\n",
              "      <td></td>\n",
              "      <td></td>\n",
              "      <td></td>\n",
              "      <td></td>\n",
              "      <td></td>\n",
              "      <td>[]</td>\n",
              "      <td></td>\n",
              "      <td></td>\n",
              "      <td></td>\n",
              "      <td></td>\n",
              "    </tr>\n",
              "    <tr>\n",
              "      <th>1</th>\n",
              "      <td>1357285897612492807</td>\n",
              "      <td>1357285897612492807</td>\n",
              "      <td>1.612437e+12</td>\n",
              "      <td>2021-02-04 11:12:29</td>\n",
              "      <td>+0000</td>\n",
              "      <td></td>\n",
              "      <td>आज जब हम चौरी चौरा शताब्दी वर्ष मना रहे हैं, त...</td>\n",
              "      <td>hi</td>\n",
              "      <td>[]</td>\n",
              "      <td>[]</td>\n",
              "      <td>...</td>\n",
              "      <td></td>\n",
              "      <td></td>\n",
              "      <td></td>\n",
              "      <td></td>\n",
              "      <td></td>\n",
              "      <td>[]</td>\n",
              "      <td></td>\n",
              "      <td></td>\n",
              "      <td></td>\n",
              "      <td></td>\n",
              "    </tr>\n",
              "    <tr>\n",
              "      <th>2</th>\n",
              "      <td>1357285827425009664</td>\n",
              "      <td>1357285827425009664</td>\n",
              "      <td>1.612437e+12</td>\n",
              "      <td>2021-02-04 11:12:13</td>\n",
              "      <td>+0000</td>\n",
              "      <td></td>\n",
              "      <td>हमारा किसान अगर और सशक्त होगा, तो कृषि क्षेत्र...</td>\n",
              "      <td>hi</td>\n",
              "      <td>[]</td>\n",
              "      <td>[]</td>\n",
              "      <td>...</td>\n",
              "      <td></td>\n",
              "      <td></td>\n",
              "      <td></td>\n",
              "      <td></td>\n",
              "      <td></td>\n",
              "      <td>[]</td>\n",
              "      <td></td>\n",
              "      <td></td>\n",
              "      <td></td>\n",
              "      <td></td>\n",
              "    </tr>\n",
              "    <tr>\n",
              "      <th>3</th>\n",
              "      <td>1357285703550455809</td>\n",
              "      <td>1357285703550455809</td>\n",
              "      <td>1.612437e+12</td>\n",
              "      <td>2021-02-04 11:11:43</td>\n",
              "      <td>+0000</td>\n",
              "      <td></td>\n",
              "      <td>पहले की सरकारों ने बजट को ऐसी घोषणाओं का माध्य...</td>\n",
              "      <td>hi</td>\n",
              "      <td>[]</td>\n",
              "      <td>[]</td>\n",
              "      <td>...</td>\n",
              "      <td></td>\n",
              "      <td></td>\n",
              "      <td></td>\n",
              "      <td></td>\n",
              "      <td></td>\n",
              "      <td>[]</td>\n",
              "      <td></td>\n",
              "      <td></td>\n",
              "      <td></td>\n",
              "      <td></td>\n",
              "    </tr>\n",
              "    <tr>\n",
              "      <th>4</th>\n",
              "      <td>1357285626924662787</td>\n",
              "      <td>1357285626924662787</td>\n",
              "      <td>1.612437e+12</td>\n",
              "      <td>2021-02-04 11:11:25</td>\n",
              "      <td>+0000</td>\n",
              "      <td></td>\n",
              "      <td>सामूहिकता की जिस शक्ति ने गुलामी की बेड़ियों क...</td>\n",
              "      <td>hi</td>\n",
              "      <td>[]</td>\n",
              "      <td>[]</td>\n",
              "      <td>...</td>\n",
              "      <td></td>\n",
              "      <td></td>\n",
              "      <td></td>\n",
              "      <td></td>\n",
              "      <td></td>\n",
              "      <td>[]</td>\n",
              "      <td></td>\n",
              "      <td></td>\n",
              "      <td></td>\n",
              "      <td></td>\n",
              "    </tr>\n",
              "  </tbody>\n",
              "</table>\n",
              "<p>5 rows × 38 columns</p>\n",
              "</div>"
            ],
            "text/plain": [
              "                    id      conversation_id    created_at  \\\n",
              "0  1357351156826083328  1357351156826083328  1.612453e+12   \n",
              "1  1357285897612492807  1357285897612492807  1.612437e+12   \n",
              "2  1357285827425009664  1357285827425009664  1.612437e+12   \n",
              "3  1357285703550455809  1357285703550455809  1.612437e+12   \n",
              "4  1357285626924662787  1357285626924662787  1.612437e+12   \n",
              "\n",
              "                  date timezone place  \\\n",
              "0  2021-02-04 15:31:48    +0000         \n",
              "1  2021-02-04 11:12:29    +0000         \n",
              "2  2021-02-04 11:12:13    +0000         \n",
              "3  2021-02-04 11:11:43    +0000         \n",
              "4  2021-02-04 11:11:25    +0000         \n",
              "\n",
              "                                               tweet language hashtags  \\\n",
              "0  Spoke to President @CyrilRamaphosa about the m...       en       []   \n",
              "1  आज जब हम चौरी चौरा शताब्दी वर्ष मना रहे हैं, त...       hi       []   \n",
              "2  हमारा किसान अगर और सशक्त होगा, तो कृषि क्षेत्र...       hi       []   \n",
              "3  पहले की सरकारों ने बजट को ऐसी घोषणाओं का माध्य...       hi       []   \n",
              "4  सामूहिकता की जिस शक्ति ने गुलामी की बेड़ियों क...       hi       []   \n",
              "\n",
              "  cashtags  ...  geo source user_rt_id user_rt  retweet_id reply_to  \\\n",
              "0       []  ...                                                  []   \n",
              "1       []  ...                                                  []   \n",
              "2       []  ...                                                  []   \n",
              "3       []  ...                                                  []   \n",
              "4       []  ...                                                  []   \n",
              "\n",
              "  retweet_date translate trans_src  trans_dest  \n",
              "0                                               \n",
              "1                                               \n",
              "2                                               \n",
              "3                                               \n",
              "4                                               \n",
              "\n",
              "[5 rows x 38 columns]"
            ]
          },
          "metadata": {
            "tags": []
          },
          "execution_count": 27
        }
      ]
    },
    {
      "cell_type": "code",
      "metadata": {
        "id": "x57-jhoiULa9",
        "outputId": "7ddbda7b-a3fb-4d54-a78b-21fcaace85c6"
      },
      "source": [
        "Tweets_df.info()"
      ],
      "execution_count": null,
      "outputs": [
        {
          "output_type": "stream",
          "text": [
            "<class 'pandas.core.frame.DataFrame'>\n",
            "RangeIndex: 100 entries, 0 to 99\n",
            "Data columns (total 38 columns):\n",
            " #   Column           Non-Null Count  Dtype  \n",
            "---  ------           --------------  -----  \n",
            " 0   id               100 non-null    object \n",
            " 1   conversation_id  100 non-null    object \n",
            " 2   created_at       100 non-null    float64\n",
            " 3   date             100 non-null    object \n",
            " 4   timezone         100 non-null    object \n",
            " 5   place            100 non-null    object \n",
            " 6   tweet            100 non-null    object \n",
            " 7   language         100 non-null    object \n",
            " 8   hashtags         100 non-null    object \n",
            " 9   cashtags         100 non-null    object \n",
            " 10  user_id          100 non-null    int64  \n",
            " 11  user_id_str      100 non-null    object \n",
            " 12  username         100 non-null    object \n",
            " 13  name             100 non-null    object \n",
            " 14  day              100 non-null    int64  \n",
            " 15  hour             100 non-null    object \n",
            " 16  link             100 non-null    object \n",
            " 17  urls             100 non-null    object \n",
            " 18  photos           100 non-null    object \n",
            " 19  video            100 non-null    int64  \n",
            " 20  thumbnail        100 non-null    object \n",
            " 21  retweet          100 non-null    bool   \n",
            " 22  nlikes           100 non-null    int64  \n",
            " 23  nreplies         100 non-null    int64  \n",
            " 24  nretweets        100 non-null    int64  \n",
            " 25  quote_url        100 non-null    object \n",
            " 26  search           100 non-null    object \n",
            " 27  near             100 non-null    object \n",
            " 28  geo              100 non-null    object \n",
            " 29  source           100 non-null    object \n",
            " 30  user_rt_id       100 non-null    object \n",
            " 31  user_rt          100 non-null    object \n",
            " 32  retweet_id       100 non-null    object \n",
            " 33  reply_to         100 non-null    object \n",
            " 34  retweet_date     100 non-null    object \n",
            " 35  translate        100 non-null    object \n",
            " 36  trans_src        100 non-null    object \n",
            " 37  trans_dest       100 non-null    object \n",
            "dtypes: bool(1), float64(1), int64(6), object(30)\n",
            "memory usage: 29.1+ KB\n"
          ],
          "name": "stdout"
        }
      ]
    },
    {
      "cell_type": "markdown",
      "metadata": {
        "id": "0SE4rqY9ULa9"
      },
      "source": [
        "### 8. Scrape hashtags"
      ]
    },
    {
      "cell_type": "code",
      "metadata": {
        "id": "g2rB-qMPULa-"
      },
      "source": [
        "c = twint.Config()\n",
        "c.Search = '#blacklivesmatter'\n",
        "c.Limit = 20\n",
        "twint.run.Search(c)"
      ],
      "execution_count": null,
      "outputs": []
    },
    {
      "cell_type": "markdown",
      "metadata": {
        "id": "lvepEiP_ULa-"
      },
      "source": [
        "### 9. Display the tweet"
      ]
    },
    {
      "cell_type": "code",
      "metadata": {
        "id": "thDIZHafULa_"
      },
      "source": [
        "from IPython.display import HTML\n",
        "import requests\n",
        "\n",
        "def show_tweet(link):\n",
        "    '''Display the contents of a tweet. '''\n",
        "    url = 'https://publish.twitter.com/oembed?url=%s' % link\n",
        "    response = requests.get(url)\n",
        "    html = response.json()[\"html\"]\n",
        "    display(HTML(html))"
      ],
      "execution_count": null,
      "outputs": []
    },
    {
      "cell_type": "code",
      "metadata": {
        "id": "Tok66bxMULa_",
        "outputId": "9577cac9-5da1-4f05-d1c9-60642059564b"
      },
      "source": [
        "sample_tweet_link = Tweets_df.sample(1)['link'].values[0]\n",
        "display(sample_tweet_link)\n",
        "show_tweet(sample_tweet_link)"
      ],
      "execution_count": null,
      "outputs": [
        {
          "output_type": "display_data",
          "data": {
            "text/plain": [
              "'https://twitter.com/narendramodi/status/1356258406617788420'"
            ]
          },
          "metadata": {
            "tags": []
          }
        },
        {
          "output_type": "display_data",
          "data": {
            "text/html": [
              "<blockquote class=\"twitter-tweet\"><p lang=\"en\" dir=\"ltr\">Spoke to my friend PM <a href=\"https://twitter.com/netanyahu?ref_src=twsrc%5Etfw\">@netanyahu</a> and assured him that the attack near the Israeli Embassy in New Delhi will be fully investigated and perpetrators brought to justice.</p>&mdash; Narendra Modi (@narendramodi) <a href=\"https://twitter.com/narendramodi/status/1356258406617788420?ref_src=twsrc%5Etfw\">February 1, 2021</a></blockquote>\n",
              "<script async src=\"https://platform.twitter.com/widgets.js\" charset=\"utf-8\"></script>\n"
            ],
            "text/plain": [
              "<IPython.core.display.HTML object>"
            ]
          },
          "metadata": {
            "tags": []
          }
        }
      ]
    },
    {
      "cell_type": "code",
      "metadata": {
        "id": "pFDn6is_ULbA",
        "outputId": "3ac2d893-c0d7-483d-a005-7e3a9e54b29c"
      },
      "source": [
        "rt_links = Tweets_df.sort_values(by= 'nretweets', ascending = False)['link'].values\n",
        "\n",
        "for url in rt_links[:5]:\n",
        "    print('* ' * 19)\n",
        "    show_tweet(url)"
      ],
      "execution_count": null,
      "outputs": [
        {
          "output_type": "stream",
          "text": [
            "* * * * * * * * * * * * * * * * * * * \n"
          ],
          "name": "stdout"
        },
        {
          "output_type": "display_data",
          "data": {
            "text/html": [
              "<blockquote class=\"twitter-tweet\"><p lang=\"und\" dir=\"ltr\">देशवासियों को गणतंत्र दिवस की ढेरों शुभकामनाएं। जय हिंद!<br><br>Wishing all the people of India a Happy <a href=\"https://twitter.com/hashtag/RepublicDay?src=hash&amp;ref_src=twsrc%5Etfw\">#RepublicDay</a>. Jai Hind!</p>&mdash; Narendra Modi (@narendramodi) <a href=\"https://twitter.com/narendramodi/status/1353876965497872384?ref_src=twsrc%5Etfw\">January 26, 2021</a></blockquote>\n",
              "<script async src=\"https://platform.twitter.com/widgets.js\" charset=\"utf-8\"></script>\n"
            ],
            "text/plain": [
              "<IPython.core.display.HTML object>"
            ]
          },
          "metadata": {
            "tags": []
          }
        },
        {
          "output_type": "stream",
          "text": [
            "* * * * * * * * * * * * * * * * * * * \n"
          ],
          "name": "stdout"
        },
        {
          "output_type": "display_data",
          "data": {
            "text/html": [
              "<blockquote class=\"twitter-tweet\"><p lang=\"en\" dir=\"ltr\">Glad to see your affection towards India. :)<br><br>We believe that the world is our family and want to play our role in strengthening the fight against COVID-19. <a href=\"https://t.co/zwpB3CNxLG\">https://t.co/zwpB3CNxLG</a></p>&mdash; Narendra Modi (@narendramodi) <a href=\"https://twitter.com/narendramodi/status/1356980689531400192?ref_src=twsrc%5Etfw\">February 3, 2021</a></blockquote>\n",
              "<script async src=\"https://platform.twitter.com/widgets.js\" charset=\"utf-8\"></script>\n"
            ],
            "text/plain": [
              "<IPython.core.display.HTML object>"
            ]
          },
          "metadata": {
            "tags": []
          }
        },
        {
          "output_type": "stream",
          "text": [
            "* * * * * * * * * * * * * * * * * * * \n"
          ],
          "name": "stdout"
        },
        {
          "output_type": "display_data",
          "data": {
            "text/html": [
              "<blockquote class=\"twitter-tweet\"><p lang=\"en\" dir=\"ltr\">Glimpses from the Beating Retreat Ceremony this evening. <a href=\"https://t.co/Ey6Ud4e0FE\">pic.twitter.com/Ey6Ud4e0FE</a></p>&mdash; Narendra Modi (@narendramodi) <a href=\"https://twitter.com/narendramodi/status/1355185996057382913?ref_src=twsrc%5Etfw\">January 29, 2021</a></blockquote>\n",
              "<script async src=\"https://platform.twitter.com/widgets.js\" charset=\"utf-8\"></script>\n"
            ],
            "text/plain": [
              "<IPython.core.display.HTML object>"
            ]
          },
          "metadata": {
            "tags": []
          }
        },
        {
          "output_type": "stream",
          "text": [
            "* * * * * * * * * * * * * * * * * * * \n"
          ],
          "name": "stdout"
        },
        {
          "output_type": "display_data",
          "data": {
            "text/html": [
              "<blockquote class=\"twitter-tweet\"><p lang=\"en\" dir=\"ltr\">Speaking at the start of the Budget Session. <a href=\"https://t.co/qhQMTEXOsG\">https://t.co/qhQMTEXOsG</a></p>&mdash; Narendra Modi (@narendramodi) <a href=\"https://twitter.com/narendramodi/status/1355020037933862912?ref_src=twsrc%5Etfw\">January 29, 2021</a></blockquote>\n",
              "<script async src=\"https://platform.twitter.com/widgets.js\" charset=\"utf-8\"></script>\n"
            ],
            "text/plain": [
              "<IPython.core.display.HTML object>"
            ]
          },
          "metadata": {
            "tags": []
          }
        },
        {
          "output_type": "stream",
          "text": [
            "* * * * * * * * * * * * * * * * * * * \n"
          ],
          "name": "stdout"
        },
        {
          "output_type": "display_data",
          "data": {
            "text/html": [
              "<blockquote class=\"twitter-tweet\"><p lang=\"ro\" dir=\"ltr\">Centenary celebrations of Chauri Chaura incident. <a href=\"https://t.co/X9yixxmrIX\">https://t.co/X9yixxmrIX</a></p>&mdash; Narendra Modi (@narendramodi) <a href=\"https://twitter.com/narendramodi/status/1357206700437065730?ref_src=twsrc%5Etfw\">February 4, 2021</a></blockquote>\n",
              "<script async src=\"https://platform.twitter.com/widgets.js\" charset=\"utf-8\"></script>\n"
            ],
            "text/plain": [
              "<IPython.core.display.HTML object>"
            ]
          },
          "metadata": {
            "tags": []
          }
        }
      ]
    },
    {
      "cell_type": "markdown",
      "metadata": {
        "id": "itI2yZqsULbB"
      },
      "source": [
        "### 10. Modular Function"
      ]
    },
    {
      "cell_type": "code",
      "metadata": {
        "id": "krC5cm2vULbB"
      },
      "source": [
        "import twint\n",
        "def scrape_user():\n",
        "    print (\"Fetching Tweets\")\n",
        "    c = twint.Config()\n",
        "    c.Lang = \"en\"\n",
        "    # choose username (optional)\n",
        "    c.Username = input('Username: ') # I used a different account for this project. Changed the username to protect the user's privacy.\n",
        "    # choose beginning time (narrow results)\n",
        "    # c.Since = input('Date (format: \"%Y-%m-%d %H:%M:%S\"): ')\n",
        "    c.Pandas = True\n",
        "    c.limit = 10  \n",
        "    twint.run.Search(c)\n",
        "    Tweets_df = twint.storage.panda.Tweets_df\n",
        "    return( Tweets_df)"
      ],
      "execution_count": null,
      "outputs": []
    },
    {
      "cell_type": "code",
      "metadata": {
        "id": "sei_WTtLULbC"
      },
      "source": [
        "bb=scrape_user()\n",
        "print('Scraping Done!')"
      ],
      "execution_count": null,
      "outputs": []
    },
    {
      "cell_type": "code",
      "metadata": {
        "id": "wPtfvoskULbE",
        "outputId": "b773ae62-d0f2-4f39-ec0d-af99c66c4868"
      },
      "source": [
        "bb.shape"
      ],
      "execution_count": null,
      "outputs": [
        {
          "output_type": "execute_result",
          "data": {
            "text/plain": [
              "(2552, 38)"
            ]
          },
          "metadata": {
            "tags": []
          },
          "execution_count": 25
        }
      ]
    },
    {
      "cell_type": "code",
      "metadata": {
        "id": "vbvgzfgoULbF"
      },
      "source": [
        "#https://nealcaren.org/lessons/twint/"
      ],
      "execution_count": null,
      "outputs": []
    }
  ]
}