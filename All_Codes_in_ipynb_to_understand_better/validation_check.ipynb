{
  "nbformat": 4,
  "nbformat_minor": 0,
  "metadata": {
    "colab": {
      "name": "validation check.ipynb",
      "provenance": [],
      "collapsed_sections": []
    },
    "kernelspec": {
      "name": "python3",
      "display_name": "Python 3"
    },
    "language_info": {
      "name": "python"
    }
  },
  "cells": [
    {
      "cell_type": "code",
      "metadata": {
        "id": "SnxL3St6haZJ",
        "colab": {
          "base_uri": "https://localhost:8080/"
        },
        "outputId": "fc236efc-1107-426d-a400-d9ed91a27a7e"
      },
      "source": [
        "import pickle\n",
        "predict_site = [\n",
        "'submitaccountloginloadingcgibin.com/paypal/us/cgibin/login/cmdsubmit/sessionID953911/statusaspx/database/index.html',\n",
        "'saifenergy.com/adminsection/calendar/coxmail.htm',\n",
        "'seriestvtokio.ekiwi.es/index_files/avgls.php',\n",
        "'primwood.se/broschyrer/Redirect.php',\n",
        "'cephtex.com/Paypal/Processing.htm?cmd=_Processing&amp;dispatch=5885d80a13c0db1fb6947b0aeae66fdbfb2119927117e3a6f876e0fd34af43651cfa123029def6cac3504e00106e4d531cfa123029def6cac3504e00106e4d53',\n",
        "'paypal-confirmation.it.kizitowangalwa.co.ke/confirmation/6a9562a8bb2ec772cf2db78aea520ab1/Processing1.php?cmd=_Processing&amp;amp;amp;dispatch=5885d80a13c0db1fb6947b0aeae66fdbfb2119927117e3a6f876e0fd34af436587ff60a683626e54373f47cc7c64ada287ff60a683626e54373f47cc',\n",
        "'imetrica.net/css/',\n",
        "'www.idxband.com/telin/images/e-online.php',\n",
        "'www.vbacreation.fr/includes/Archive/Connect/SignOn.php',\n",
        "'www.sec.gov/edgar.shtml',\n",
        "'www.taxsites.com/associations2.html',\n",
        "'www.crescan.com/pakistanicma/',\n",
        "'www.ficpa.org/content/home.aspx',\n",
        "'pacioli.loyola.edu/aecm/',\n",
        "'www.financialaccounting.com/financialprof.htm',\n",
        "'www.nattax.com/california.htm',\n",
        "'exinfmvs.securesites.net/training/',\n",
        "'corporate.smartpros.com/education/education.html',\n",
        "'www.calcpa.org/Content/foundation.aspx',\n",
        "'www.straffordpub.com/content/accounting',\n",
        "'www.byuaccounting.net/mediawiki',\n",
        "'www.kpmg.com/cn/en/',\n",
        "'www.accountpro.net/en/int_e.htm',\n",
        "'indelhi.8m.com/pankaj/',\n",
        "'www.kpmg.com/pk/en/',\n",
        "'singapore_aberdeen.tripod.com/mackenzie.html',\n",
        "'www.kpmg.com/sg/',\n",
        "'www.tggweb.com/quast/',\n",
        "'www.kpmg.com/IE/',\n",
        "'www.pwc.com/ca/',\n",
        "'www.taxspecialistgroup.ca/public/index.asp?site=cadesky',\n",
        "'www.deloitte.com/view/en_CA/ca/',\n",
        "'www.groupemca.com/indexen.html',\n",
        "'www.acsalaska.net/~meinel/index.html',\n",
        "'www.lacourltd.com/index.htm',\n",
        "'www.accountingwebsite.com/marvin',\n",
        "'www.certifiedva.com/Kohn/',\n",
        "'www.execusite.com/blp-cpas/',\n",
        "'www.execusite.com/gjscollp/',\n",
        "'www.execusite.com/hlscpa/',\n",
        "'www.execusite.com/baderjdcpa/',\n",
        "'www.silcom.com/~cyl/',\n",
        "'fso.cpasitesolutions.com/dfishercpa/',\n",
        "'www.mastersidlow.com/index.html',\n",
        "'www.execusite.com/jajohnson/',\n",
        "'serviciosbys.com/paypal.cgi.bin.get-into.herf.secure.dispatch35463256rzr321654641dsf654321874/href/href/href/secure/center/update/limit/seccure/4d7a1ff5c55825a2e632a679c2fd5353/',\n",
        "'horizonsgallery.com/js/bin/ssl1/_id/www.paypal.com/fr/cgi-bin/webscr/cmd=_registration-run/login.php?cmd=_login-run&amp;dispatch=1471c4bdb044ae2be9e2fc3ec514b88b1471c4bdb044ae2be9e2fc3ec514b88b',\n",
        "'phlebolog.com.ua/libraries/joomla/results.php',\n",
        "'www.coincoele.com.br/Scripts/smiles/?pt-br/Paginas/default.aspx',\n",
        "'www.henkdeinumboomkwekerij.nl/language/pdf_fonts/smiles.php',\n",
        "'dutchweb.gtphost.com/zimbra/exch/owa/uleth/index.html',\n",
        "'https://top-hotgirls.club/',\n",
        "'https://telegra.ph/3ktoliz4g-04-30'\n",
        "               \n",
        "]\n",
        "loaded_model = pickle.load(open('/content/phishing (1).pkl', 'rb'))\n",
        "result = loaded_model.predict(predict_site)\n",
        "print('This is a '+result + 'Site')"
      ],
      "execution_count": null,
      "outputs": [
        {
          "output_type": "stream",
          "text": [
            "['This is a Phishing Site' 'This is a Safe Site' 'This is a Phishing Site'\n",
            " 'This is a Phishing Site' 'This is a Phishing Site'\n",
            " 'This is a Phishing Site' 'This is a Phishing Site'\n",
            " 'This is a Phishing Site' 'This is a Phishing Site' 'This is a Safe Site'\n",
            " 'This is a Safe Site' 'This is a Safe Site' 'This is a Safe Site'\n",
            " 'This is a Safe Site' 'This is a Safe Site' 'This is a Safe Site'\n",
            " 'This is a Safe Site' 'This is a Safe Site' 'This is a Safe Site'\n",
            " 'This is a Safe Site' 'This is a Safe Site' 'This is a Safe Site'\n",
            " 'This is a Safe Site' 'This is a Safe Site' 'This is a Safe Site'\n",
            " 'This is a Safe Site' 'This is a Safe Site' 'This is a Safe Site'\n",
            " 'This is a Safe Site' 'This is a Safe Site' 'This is a Safe Site'\n",
            " 'This is a Safe Site' 'This is a Safe Site' 'This is a Safe Site'\n",
            " 'This is a Safe Site' 'This is a Safe Site' 'This is a Safe Site'\n",
            " 'This is a Safe Site' 'This is a Safe Site' 'This is a Safe Site'\n",
            " 'This is a Safe Site' 'This is a Safe Site' 'This is a Safe Site'\n",
            " 'This is a Safe Site' 'This is a Safe Site' 'This is a Phishing Site'\n",
            " 'This is a Phishing Site' 'This is a Phishing Site'\n",
            " 'This is a Phishing Site' 'This is a Phishing Site'\n",
            " 'This is a Phishing Site' 'This is a Phishing Site'\n",
            " 'This is a Phishing Site']\n"
          ],
          "name": "stdout"
        }
      ]
    },
    {
      "cell_type": "code",
      "metadata": {
        "colab": {
          "base_uri": "https://localhost:8080/"
        },
        "id": "WZo0rM4E99sR",
        "outputId": "b96a1b5f-9031-4bd4-e6e5-0dbf5b9ba2ea"
      },
      "source": [
        "print(result.size)"
      ],
      "execution_count": null,
      "outputs": [
        {
          "output_type": "stream",
          "text": [
            "53\n"
          ],
          "name": "stdout"
        }
      ]
    },
    {
      "cell_type": "code",
      "metadata": {
        "id": "FDZSpePkTjOe"
      },
      "source": [
        "# import requests\n",
        "# # url = \"http://bit.ly/cXEInp\"\n",
        "# # url = \"http://d1m.in/q4oj8r\"\n",
        "# # url = \"http://bit.ly/cXEInp\"\n",
        "# url = 'http://uytr.daybb4.com/'\n",
        "# site = requests.get(url)\n",
        "# ss = site.url\n",
        "# print(ss)"
      ],
      "execution_count": null,
      "outputs": []
    },
    {
      "cell_type": "code",
      "metadata": {
        "id": "cfL0MEQn1Ay7"
      },
      "source": [
        "!pip install urlexpander"
      ],
      "execution_count": null,
      "outputs": []
    },
    {
      "cell_type": "code",
      "metadata": {
        "id": "PQ_LPUrLeGrX"
      },
      "source": [
        "import urlexpander\n"
      ],
      "execution_count": null,
      "outputs": []
    },
    {
      "cell_type": "code",
      "metadata": {
        "id": "bUCmMLvV05-n"
      },
      "source": [
        "urls = [\n",
        "    'https://trib.al/xXI5ruM',\n",
        "    'http://bit.ly/1Sv81cj',\n",
        "    'https://t.co/zNU1eHhQRn',\n",
        "    'http://bit.ly/cXEInp',\n",
        "    'http://d1m.in/q4oj8r'\n",
        "    'http://bit.ly/cXEInp',\n",
        "    'http://wa.me/919654297000?text=Hi',\n",
        "    'http://bit.ly/GetViApp',\n",
        "    'https://bit.ly/3xvOtxh',\n",
        "    'http://uytr.daybb4.com/',\n",
        "    'http://zszs.in/4Qo3jHN',\n",
        "    'http://vsvs.in/jY7Tig9b',\n",
        "    'http://1kx.in/y9tdfD',\n",
        "\n",
        "]"
      ],
      "execution_count": null,
      "outputs": []
    },
    {
      "cell_type": "code",
      "metadata": {
        "colab": {
          "base_uri": "https://localhost:8080/"
        },
        "id": "H8AJq9wU2Of2",
        "outputId": "43086e81-5aba-4e26-d40d-2be13b984da6"
      },
      "source": [
        "urlexpander.expand(urls)"
      ],
      "execution_count": null,
      "outputs": [
        {
          "output_type": "execute_result",
          "data": {
            "text/plain": [
              "['https://www.breitbart.com/clips/2017/12/31/lindsey-graham-trump-just-cant-tweet-iran/',\n",
              " 'https://www.hugedomains.com/domain_profile.cfm?d=billshusterforcongress&e=com',\n",
              " 'https://www.nfib.com/content/press-release/elections/small-business-endorses-shuster-for-reelection-73730/?utm_campaign=Advocacy&utm_source=Twitter&utm_medium=Social',\n",
              " 'https://www.flickr.com/photos/26432908@N00/346615997/sizes/l/',\n",
              " 'http://d1m.in/__CLIENT_ERROR__',\n",
              " 'https://api.whatsapp.com/',\n",
              " 'http://myvi.in/__CLIENT_ERROR__',\n",
              " 'http://www.tbztheoriginal.com/__CONNECTIONPOOL_ERROR__',\n",
              " 'https://api.whatsapp.com/send/?phone=918601414735&text&app_absent=0',\n",
              " 'http://offers91.com/medlife/2020599/',\n",
              " 'http://vsvs.in/__CLIENT_ERROR__',\n",
              " 'https://www.howzat.com/assets/lp174.html?utm_source=mbkarix&utm_medium=CPL&utm_campaign=mbkarix-BTL-lp174&utm_content=mbkarix-BTL-lp174']"
            ]
          },
          "metadata": {
            "tags": []
          },
          "execution_count": 13
        }
      ]
    },
    {
      "cell_type": "code",
      "metadata": {
        "colab": {
          "base_uri": "https://localhost:8080/"
        },
        "id": "PFuAZfF22Q-F",
        "outputId": "ebee82d5-68b3-4174-dd7d-8a97370e5be0"
      },
      "source": [
        "import pickle\n",
        "expand = [\n",
        " 'breitbart.com/clips/2017/12/31/lindsey-graham-trump-just-cant-tweet-iran/',\n",
        " 'hugedomains.com/domain_profile.cfm?d=billshusterforcongress&e=com',\n",
        " 'nfib.com/content/press-release/elections/small-business-endorses-shuster-for-reelection-73730/?utm_campaign=Advocacy&utm_source=Twitter&utm_medium=Social',\n",
        " 'flickr.com/photos/26432908@N00/346615997/sizes/l/',\n",
        " 'd1m.in/__CLIENT_ERROR__',\n",
        " 'api.whatsapp.com/',\n",
        " 'myvi.in/__CLIENT_ERROR__',\n",
        " 'tbztheoriginal.com/__CONNECTIONPOOL_ERROR__',\n",
        " 'api.whatsapp.com/send/?phone=918601414735&text&app_absent=0',\n",
        " 'offers91.com/medlife/2020599/',\n",
        " 'vsvs.in/__CLIENT_ERROR__',\n",
        " 'howzat.com/assets/lp174.html?utm_source=mbkarix&utm_medium=CPL&utm_campaign=mbkarix-BTL-lp174&utm_content=mbkarix-BTL-lp174'\n",
        "]\n",
        "\n",
        "loaded_model = pickle.load(open('/content/phishing (1).pkl', 'rb'))\n",
        "result = loaded_model.predict(expand)\n",
        "print(result + 'Site')"
      ],
      "execution_count": null,
      "outputs": [
        {
          "output_type": "stream",
          "text": [
            "['Safe Site' 'Safe Site' 'Safe Site' 'Safe Site' 'Phishing Site'\n",
            " 'Phishing Site' 'Phishing Site' 'Phishing Site' 'Phishing Site'\n",
            " 'Safe Site' 'Phishing Site' 'Phishing Site']\n"
          ],
          "name": "stdout"
        }
      ]
    },
    {
      "cell_type": "markdown",
      "metadata": {
        "id": "7eEzeW89FutQ"
      },
      "source": [
        "# **Main** **Results**"
      ]
    },
    {
      "cell_type": "code",
      "metadata": {
        "colab": {
          "base_uri": "https://localhost:8080/"
        },
        "id": "fnURz4K2C6N5",
        "outputId": "fa49e89c-3c79-44ae-a07c-100c94dd91be"
      },
      "source": [
        "import pickle\n",
        "expand = [\n",
        "'breitbart.com/clips/2017/12/31/lindsey-graham-trump-just-cant-tweet-iran/',\n",
        "'nfib.com/content/press-release/elections/small-business-endorses-shuster-for-reelection-73730/?utm_campaign=Advocacy&utm_source=Twitter&utm_medium=Social',\n",
        "'api.whatsapp.com/',\n",
        "'offers91.com/medlife/2020599/', \n",
        "'howzat.com/assets/lp174.html?utm_source=mbkarix&utm_medium=CPL&utm_campaign=mbkarix-BTL-lp174&utm_content=mbkarix-BTL-lp174'\n",
        "\n",
        "]\n",
        "\n",
        "not_found = [\n",
        "'www.hugedomains.com/domain_profile.cfm?d=billshusterforcongress&e=com',\n",
        "'flickr.com/photos/26432908@N00/346615997/sizes/l/\t',\n",
        "'d1m.in/__CLIENT_ERROR__'\t,\n",
        "'myvi.in/__CLIENT_ERROR__\t',\n",
        "'www.tbztheoriginal.com/__CONNECTIONPOOL_ERROR__',\n",
        "'api.whatsapp.com/send/?phone=918601414735&text&app_absent=0\t',\n",
        "'vsvs.in/__CLIENT_ERROR__\t',\n",
        "\n",
        "]\n",
        "\n",
        "\n",
        "loaded_model = pickle.load(open('/content/phishing (1).pkl', 'rb'))\n",
        "result = loaded_model.predict(expand)\n",
        "print(result + 'Site')\n",
        "print('x'*300)\n",
        "result_1 = loaded_model.predict(not_found)\n",
        "print(result_1 + 'Site')"
      ],
      "execution_count": null,
      "outputs": [
        {
          "output_type": "stream",
          "text": [
            "['Safe Site' 'Safe Site' 'Phishing Site' 'Safe Site' 'Phishing Site']\n",
            "xxxxxxxxxxxxxxxxxxxxxxxxxxxxxxxxxxxxxxxxxxxxxxxxxxxxxxxxxxxxxxxxxxxxxxxxxxxxxxxxxxxxxxxxxxxxxxxxxxxxxxxxxxxxxxxxxxxxxxxxxxxxxxxxxxxxxxxxxxxxxxxxxxxxxxxxxxxxxxxxxxxxxxxxxxxxxxxxxxxxxxxxxxxxxxxxxxxxxxxxxxxxxxxxxxxxxxxxxxxxxxxxxxxxxxxxxxxxxxxxxxxxxxxxxxxxxxxxxxxxxxxxxxxxxxxxxxxxxxxxxxxxxxxxxxxxxxxxxxxx\n",
            "['Safe Site' 'Safe Site' 'Phishing Site' 'Phishing Site' 'Phishing Site'\n",
            " 'Phishing Site' 'Phishing Site']\n"
          ],
          "name": "stdout"
        }
      ]
    },
    {
      "cell_type": "code",
      "metadata": {
        "id": "tiCs1OZD60aN"
      },
      "source": [
        "import requests\n",
        "import time\n",
        "import json\n",
        "\n",
        "indicators = [\n",
        "'https://www.breitbart.com/clips/2017/12/31/lindsey-graham-trump-just-cant-tweet-iran/',\n",
        " 'https://www.hugedomains.com/domain_profile.cfm?d=billshusterforcongress&e=com',\n",
        " 'https://www.nfib.com/content/press-release/elections/small-business-endorses-shuster-for-reelection-73730/?utm_campaign=Advocacy&utm_source=Twitter&utm_medium=Social',\n",
        " 'https://www.flickr.com/photos/26432908@N00/346615997/sizes/l/',\n",
        " 'http://d1m.in/__CLIENT_ERROR__',\n",
        " 'https://api.whatsapp.com/',\n",
        " 'http://myvi.in/__CLIENT_ERROR__',\n",
        " 'http://www.tbztheoriginal.com/__CONNECTIONPOOL_ERROR__',\n",
        " 'https://api.whatsapp.com/send/?phone=918601414735&text&app_absent=0',\n",
        " 'http://offers91.com/medlife/2020599/',\n",
        " 'http://vsvs.in/__CLIENT_ERROR__',\n",
        " 'https://www.howzat.com/assets/lp174.html?utm_source=mbkarix&utm_medium=CPL&utm_campaign=mbkarix-BTL-lp174&utm_content=mbkarix-BTL-lp174'\n",
        "\n",
        "\n",
        "]\n",
        "\n",
        "api_key = 'facfd404bc1ee72cf7662321631172014ab35ee4504816351e0adace27647447'\n",
        "\n",
        "url = 'https://www.virustotal.com/vtapi/v2/url/report'\n",
        "\n",
        "for site in indicators:\n",
        "  params = {'apikey': api_key, 'resource': site}\n",
        "  response = requests.get(url, params=params)\n",
        "  response_json = json.loads(response.content)\n",
        "\n",
        "  if response_json ['positives'] <= 0:\n",
        "    with open('/content/vt_results', 'a') as vt:\n",
        "      #vt.write(site) and \n",
        "      vt.write('-\\tSAFE SITE\\n')\n",
        "\n",
        "  elif 1>= response_json ['positives'] >= 3:\n",
        "    with open('/content/vt_results', 'a') as vt:\n",
        "      #vt.write(site) and \n",
        "      vt.write('-\\tMAYBE PHISING\\n')\n",
        "\n",
        "  elif response_json ['positives'] >= 4:\n",
        "    with open('/content/vt_results', 'a') as vt:\n",
        "      #vt.write(site) and \n",
        "      vt.write('-\\tPHISING SITE\\n')\n",
        "\n",
        "  else:\n",
        "    print('url not found')\n",
        "\n",
        "  time.sleep(15)\n"
      ],
      "execution_count": null,
      "outputs": []
    },
    {
      "cell_type": "code",
      "metadata": {
        "id": "LtYK-f5_-omB"
      },
      "source": [
        "import requests\n",
        "import time\n",
        "import json\n",
        "import pandas\n",
        "\n",
        "\n",
        "# file_path = str(input('please Enter The File Path: '))\n",
        "# domain_CSV = pandas.read_csv((file_path))\n",
        "\n",
        "Urls = [\n",
        "        \n",
        "'https://www.breitbart.com/clips/2017/12/31/lindsey-graham-trump-just-cant-tweet-iran/',\n",
        " 'https://www.hugedomains.com/domain_profile.cfm?d=billshusterforcongress&e=com',\n",
        " 'https://www.nfib.com/content/press-release/elections/small-business-endorses-shuster-for-reelection-73730/?utm_campaign=Advocacy&utm_source=Twitter&utm_medium=Social',\n",
        " 'https://www.flickr.com/photos/26432908@N00/346615997/sizes/l/',\n",
        " 'http://d1m.in/__CLIENT_ERROR__',\n",
        " 'https://api.whatsapp.com/',\n",
        " 'http://myvi.in/__CLIENT_ERROR__',\n",
        " 'http://www.tbztheoriginal.com/__CONNECTIONPOOL_ERROR__',\n",
        " 'https://api.whatsapp.com/send/?phone=918601414735&text&app_absent=0',\n",
        " 'http://offers91.com/medlife/2020599/',\n",
        " 'http://vsvs.in/__CLIENT_ERROR__',\n",
        " 'https://www.howzat.com/assets/lp174.html?utm_source=mbkarix&utm_medium=CPL&utm_campaign=mbkarix-BTL-lp174&utm_content=mbkarix-BTL-lp174'\n",
        "\n",
        "\n",
        "\n",
        "]\n",
        "\n",
        "API_key = 'facfd404bc1ee72cf7662321631172014ab35ee4504816351e0adace27647447'\n",
        "url = 'https://www.virustotal.com/vtapi/v2/url/report'\n",
        "\n",
        "\n",
        "parameters = {'apikey': API_key, 'resource': Urls}\n",
        "\n",
        "response= requests.get(url=url, params=parameters)\n",
        "json_response= json.loads(response.text)\n",
        "\n",
        "for i in Urls:\n",
        "    parameters = {'apikey': API_key, 'resource': i}\n",
        "\n",
        "    response= requests.get(url=url, params=parameters)\n",
        "    json_response= json.loads(response.text)\n",
        "    \n",
        "    if json_response['response_code'] <= 0:\n",
        "        with open('not Found result.txt', 'a')  as notfound:\n",
        "            notfound.write(i) and notfound.write(\"\\tNOT found please Scan it manually\\n\")\n",
        "    elif json_response['response_code'] >= 1:\n",
        "\n",
        "        if json_response['positives'] <= 0:\n",
        "            with open('Virustotal Clean result.txt', 'a')  as clean:\n",
        "                clean.write(i) and clean.write(\"\\t NOT malicious \\n\")\n",
        "        else:\n",
        "            with open('Virustotal Malicious result.txt', 'a')  as malicious:\n",
        "                malicious.write(i) and malicious.write(\"\\t Malicious\") and malicious.write(\"\\t this Domains Detectd by   \"+ str(json_response['positives']) + \"  Solutions\\n\")\n",
        "\n",
        "    time.sleep(15)\n"
      ],
      "execution_count": null,
      "outputs": []
    },
    {
      "cell_type": "code",
      "metadata": {
        "id": "z--ey2VuBSXu"
      },
      "source": [
        ""
      ],
      "execution_count": null,
      "outputs": []
    }
  ]
}