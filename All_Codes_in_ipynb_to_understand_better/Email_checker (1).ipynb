{
  "nbformat": 4,
  "nbformat_minor": 0,
  "metadata": {
    "colab": {
      "name": "Email_checker.ipynb",
      "provenance": [],
      "collapsed_sections": []
    },
    "kernelspec": {
      "name": "python3",
      "display_name": "Python 3"
    },
    "language_info": {
      "name": "python"
    }
  },
  "cells": [
    {
      "cell_type": "code",
      "metadata": {
        "colab": {
          "base_uri": "https://localhost:8080/"
        },
        "id": "eXBGBJrquH28",
        "outputId": "222250e0-31d8-4e53-c1e4-f8ae3d663c77"
      },
      "source": [
        "import re   \n",
        "  \n",
        "regex = '^[a-z0-9]+[\\._]?[a-z0-9]+[@]\\w+[.]\\w{2,3}$'  \n",
        "  \n",
        "def check(email):   \n",
        "  \n",
        "    if(re.search(regex,email)):   \n",
        "        print(\"Valid Email\")   \n",
        "    else:   \n",
        "        print(\"Invalid Email\")   \n",
        "      \n",
        "if __name__ == '__main__' :   \n",
        "      \n",
        "    email = \"rohit.gupta@mcnsolutions.net\"  \n",
        "    check(email)   \n",
        "  \n",
        "    email = \"praveen@c-sharpcorner.com\"  \n",
        "    check(email)   \n",
        "  \n",
        "    email = \"Pmcares@gov.in\"  \n",
        "    check(email)   "
      ],
      "execution_count": null,
      "outputs": [
        {
          "output_type": "stream",
          "text": [
            "Valid Email\n",
            "Invalid Email\n",
            "Invalid Email\n"
          ],
          "name": "stdout"
        }
      ]
    },
    {
      "cell_type": "markdown",
      "metadata": {
        "id": "IUmuibs71MbA"
      },
      "source": [
        "###Check if the host has SMTP Server and the email really exists"
      ]
    },
    {
      "cell_type": "code",
      "metadata": {
        "id": "b4iviDECyfv_"
      },
      "source": [
        "!pip install validate_email"
      ],
      "execution_count": null,
      "outputs": []
    },
    {
      "cell_type": "markdown",
      "metadata": {
        "id": "IcFeqSq-wer4"
      },
      "source": [
        "###SEE FROM THIS ONLY"
      ]
    },
    {
      "cell_type": "code",
      "metadata": {
        "id": "pftKQCM_yeO4"
      },
      "source": [
        "!pip install py3-validate-email"
      ],
      "execution_count": null,
      "outputs": []
    },
    {
      "cell_type": "code",
      "metadata": {
        "colab": {
          "base_uri": "https://localhost:8080/"
        },
        "id": "7ZPE5y88FNJw",
        "outputId": "0a9904e5-8dee-4ed5-cb6e-9f6c52091d10"
      },
      "source": [
        "from validate_email import validate_email\n",
        "ins = input('Enter The Email ID:')\n",
        "is_valid = validate_email(email_address=ins, check_format=True, check_blacklist=True, check_dns=True, check_smtp=False, smtp_debug=False)\n",
        "\n",
        "if is_valid == True:\n",
        "  print('Email id is safe')\n",
        "else:\n",
        "  print('Email id is not safe')"
      ],
      "execution_count": null,
      "outputs": [
        {
          "output_type": "stream",
          "text": [
            "Enter The Email ID:donotreply@smartdraw.com\n",
            "Email id is safe\n"
          ],
          "name": "stdout"
        }
      ]
    },
    {
      "cell_type": "code",
      "metadata": {
        "colab": {
          "base_uri": "https://localhost:8080/"
        },
        "id": "o30kSA5TFfxT",
        "outputId": "ee90fa28-1d28-4c98-c0c1-4216104f16f1"
      },
      "source": [
        "is_valid"
      ],
      "execution_count": null,
      "outputs": [
        {
          "output_type": "execute_result",
          "data": {
            "text/plain": [
              "True"
            ]
          },
          "metadata": {
            "tags": []
          },
          "execution_count": 4
        }
      ]
    },
    {
      "cell_type": "code",
      "metadata": {
        "id": "sC5ETscGHJvu"
      },
      "source": [
        ""
      ],
      "execution_count": null,
      "outputs": []
    }
  ]
}