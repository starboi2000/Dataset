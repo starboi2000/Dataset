{
  "nbformat": 4,
  "nbformat_minor": 0,
  "metadata": {
    "language_info": {
      "codemirror_mode": {
        "name": "ipython",
        "version": 3
      },
      "file_extension": ".py",
      "mimetype": "text/x-python",
      "name": "python",
      "nbconvert_exporter": "python",
      "pygments_lexer": "ipython3",
      "version": "3.7.10"
    },
    "orig_nbformat": 4,
    "kernelspec": {
      "name": "python3",
      "display_name": "Python 3.7.10 64-bit ('tensorflow': conda)"
    },
    "interpreter": {
      "hash": "8e734cf78999c412d74fcef1f761966c6eed0bb870d5a6444a853b596a36df4d"
    },
    "colab": {
      "name": "tweets_scraper making test data.ipynb",
      "provenance": [],
      "collapsed_sections": []
    },
    "accelerator": "GPU",
    "widgets": {
      "application/vnd.jupyter.widget-state+json": {
        "e9c821f161274362b8cd31349a0798b6": {
          "model_module": "@jupyter-widgets/controls",
          "model_name": "HBoxModel",
          "state": {
            "_view_name": "HBoxView",
            "_dom_classes": [],
            "_model_name": "HBoxModel",
            "_view_module": "@jupyter-widgets/controls",
            "_model_module_version": "1.5.0",
            "_view_count": null,
            "_view_module_version": "1.5.0",
            "box_style": "",
            "layout": "IPY_MODEL_440e4016ec4040e698395e394e6fb803",
            "_model_module": "@jupyter-widgets/controls",
            "children": [
              "IPY_MODEL_e421278cdbae47499c9d41acc6aebb39",
              "IPY_MODEL_9cb00db58d2a48adb176013497fd53da"
            ]
          }
        },
        "440e4016ec4040e698395e394e6fb803": {
          "model_module": "@jupyter-widgets/base",
          "model_name": "LayoutModel",
          "state": {
            "_view_name": "LayoutView",
            "grid_template_rows": null,
            "right": null,
            "justify_content": null,
            "_view_module": "@jupyter-widgets/base",
            "overflow": null,
            "_model_module_version": "1.2.0",
            "_view_count": null,
            "flex_flow": null,
            "width": null,
            "min_width": null,
            "border": null,
            "align_items": null,
            "bottom": null,
            "_model_module": "@jupyter-widgets/base",
            "top": null,
            "grid_column": null,
            "overflow_y": null,
            "overflow_x": null,
            "grid_auto_flow": null,
            "grid_area": null,
            "grid_template_columns": null,
            "flex": null,
            "_model_name": "LayoutModel",
            "justify_items": null,
            "grid_row": null,
            "max_height": null,
            "align_content": null,
            "visibility": null,
            "align_self": null,
            "height": null,
            "min_height": null,
            "padding": null,
            "grid_auto_rows": null,
            "grid_gap": null,
            "max_width": null,
            "order": null,
            "_view_module_version": "1.2.0",
            "grid_template_areas": null,
            "object_position": null,
            "object_fit": null,
            "grid_auto_columns": null,
            "margin": null,
            "display": null,
            "left": null
          }
        },
        "e421278cdbae47499c9d41acc6aebb39": {
          "model_module": "@jupyter-widgets/controls",
          "model_name": "FloatProgressModel",
          "state": {
            "_view_name": "ProgressView",
            "style": "IPY_MODEL_5e3a55e5ea6648f5aeb859ad659c717e",
            "_dom_classes": [],
            "description": "Downloading: 100%",
            "_model_name": "FloatProgressModel",
            "bar_style": "success",
            "max": 231508,
            "_view_module": "@jupyter-widgets/controls",
            "_model_module_version": "1.5.0",
            "value": 231508,
            "_view_count": null,
            "_view_module_version": "1.5.0",
            "orientation": "horizontal",
            "min": 0,
            "description_tooltip": null,
            "_model_module": "@jupyter-widgets/controls",
            "layout": "IPY_MODEL_ed2ba07d6e2f4131b5861637be45e790"
          }
        },
        "9cb00db58d2a48adb176013497fd53da": {
          "model_module": "@jupyter-widgets/controls",
          "model_name": "HTMLModel",
          "state": {
            "_view_name": "HTMLView",
            "style": "IPY_MODEL_32a70dd49d924231b82757de8fd93888",
            "_dom_classes": [],
            "description": "",
            "_model_name": "HTMLModel",
            "placeholder": "​",
            "_view_module": "@jupyter-widgets/controls",
            "_model_module_version": "1.5.0",
            "value": " 232k/232k [00:00&lt;00:00, 541kB/s]",
            "_view_count": null,
            "_view_module_version": "1.5.0",
            "description_tooltip": null,
            "_model_module": "@jupyter-widgets/controls",
            "layout": "IPY_MODEL_cafe2e5cfbd046bc853186d1bdda6413"
          }
        },
        "5e3a55e5ea6648f5aeb859ad659c717e": {
          "model_module": "@jupyter-widgets/controls",
          "model_name": "ProgressStyleModel",
          "state": {
            "_view_name": "StyleView",
            "_model_name": "ProgressStyleModel",
            "description_width": "initial",
            "_view_module": "@jupyter-widgets/base",
            "_model_module_version": "1.5.0",
            "_view_count": null,
            "_view_module_version": "1.2.0",
            "bar_color": null,
            "_model_module": "@jupyter-widgets/controls"
          }
        },
        "ed2ba07d6e2f4131b5861637be45e790": {
          "model_module": "@jupyter-widgets/base",
          "model_name": "LayoutModel",
          "state": {
            "_view_name": "LayoutView",
            "grid_template_rows": null,
            "right": null,
            "justify_content": null,
            "_view_module": "@jupyter-widgets/base",
            "overflow": null,
            "_model_module_version": "1.2.0",
            "_view_count": null,
            "flex_flow": null,
            "width": null,
            "min_width": null,
            "border": null,
            "align_items": null,
            "bottom": null,
            "_model_module": "@jupyter-widgets/base",
            "top": null,
            "grid_column": null,
            "overflow_y": null,
            "overflow_x": null,
            "grid_auto_flow": null,
            "grid_area": null,
            "grid_template_columns": null,
            "flex": null,
            "_model_name": "LayoutModel",
            "justify_items": null,
            "grid_row": null,
            "max_height": null,
            "align_content": null,
            "visibility": null,
            "align_self": null,
            "height": null,
            "min_height": null,
            "padding": null,
            "grid_auto_rows": null,
            "grid_gap": null,
            "max_width": null,
            "order": null,
            "_view_module_version": "1.2.0",
            "grid_template_areas": null,
            "object_position": null,
            "object_fit": null,
            "grid_auto_columns": null,
            "margin": null,
            "display": null,
            "left": null
          }
        },
        "32a70dd49d924231b82757de8fd93888": {
          "model_module": "@jupyter-widgets/controls",
          "model_name": "DescriptionStyleModel",
          "state": {
            "_view_name": "StyleView",
            "_model_name": "DescriptionStyleModel",
            "description_width": "",
            "_view_module": "@jupyter-widgets/base",
            "_model_module_version": "1.5.0",
            "_view_count": null,
            "_view_module_version": "1.2.0",
            "_model_module": "@jupyter-widgets/controls"
          }
        },
        "cafe2e5cfbd046bc853186d1bdda6413": {
          "model_module": "@jupyter-widgets/base",
          "model_name": "LayoutModel",
          "state": {
            "_view_name": "LayoutView",
            "grid_template_rows": null,
            "right": null,
            "justify_content": null,
            "_view_module": "@jupyter-widgets/base",
            "overflow": null,
            "_model_module_version": "1.2.0",
            "_view_count": null,
            "flex_flow": null,
            "width": null,
            "min_width": null,
            "border": null,
            "align_items": null,
            "bottom": null,
            "_model_module": "@jupyter-widgets/base",
            "top": null,
            "grid_column": null,
            "overflow_y": null,
            "overflow_x": null,
            "grid_auto_flow": null,
            "grid_area": null,
            "grid_template_columns": null,
            "flex": null,
            "_model_name": "LayoutModel",
            "justify_items": null,
            "grid_row": null,
            "max_height": null,
            "align_content": null,
            "visibility": null,
            "align_self": null,
            "height": null,
            "min_height": null,
            "padding": null,
            "grid_auto_rows": null,
            "grid_gap": null,
            "max_width": null,
            "order": null,
            "_view_module_version": "1.2.0",
            "grid_template_areas": null,
            "object_position": null,
            "object_fit": null,
            "grid_auto_columns": null,
            "margin": null,
            "display": null,
            "left": null
          }
        },
        "57af504b75d44bafa4eaa3d851e7bb4a": {
          "model_module": "@jupyter-widgets/controls",
          "model_name": "HBoxModel",
          "state": {
            "_view_name": "HBoxView",
            "_dom_classes": [],
            "_model_name": "HBoxModel",
            "_view_module": "@jupyter-widgets/controls",
            "_model_module_version": "1.5.0",
            "_view_count": null,
            "_view_module_version": "1.5.0",
            "box_style": "",
            "layout": "IPY_MODEL_1366e5de278249499324c02787f74048",
            "_model_module": "@jupyter-widgets/controls",
            "children": [
              "IPY_MODEL_fc24856baec54951b50583729078d5a5",
              "IPY_MODEL_f797ff174b934171b6624c45ce5df5e5"
            ]
          }
        },
        "1366e5de278249499324c02787f74048": {
          "model_module": "@jupyter-widgets/base",
          "model_name": "LayoutModel",
          "state": {
            "_view_name": "LayoutView",
            "grid_template_rows": null,
            "right": null,
            "justify_content": null,
            "_view_module": "@jupyter-widgets/base",
            "overflow": null,
            "_model_module_version": "1.2.0",
            "_view_count": null,
            "flex_flow": null,
            "width": null,
            "min_width": null,
            "border": null,
            "align_items": null,
            "bottom": null,
            "_model_module": "@jupyter-widgets/base",
            "top": null,
            "grid_column": null,
            "overflow_y": null,
            "overflow_x": null,
            "grid_auto_flow": null,
            "grid_area": null,
            "grid_template_columns": null,
            "flex": null,
            "_model_name": "LayoutModel",
            "justify_items": null,
            "grid_row": null,
            "max_height": null,
            "align_content": null,
            "visibility": null,
            "align_self": null,
            "height": null,
            "min_height": null,
            "padding": null,
            "grid_auto_rows": null,
            "grid_gap": null,
            "max_width": null,
            "order": null,
            "_view_module_version": "1.2.0",
            "grid_template_areas": null,
            "object_position": null,
            "object_fit": null,
            "grid_auto_columns": null,
            "margin": null,
            "display": null,
            "left": null
          }
        },
        "fc24856baec54951b50583729078d5a5": {
          "model_module": "@jupyter-widgets/controls",
          "model_name": "FloatProgressModel",
          "state": {
            "_view_name": "ProgressView",
            "style": "IPY_MODEL_fb7ecd3078eb446db25ecc4d00d02305",
            "_dom_classes": [],
            "description": "Downloading: 100%",
            "_model_name": "FloatProgressModel",
            "bar_style": "success",
            "max": 28,
            "_view_module": "@jupyter-widgets/controls",
            "_model_module_version": "1.5.0",
            "value": 28,
            "_view_count": null,
            "_view_module_version": "1.5.0",
            "orientation": "horizontal",
            "min": 0,
            "description_tooltip": null,
            "_model_module": "@jupyter-widgets/controls",
            "layout": "IPY_MODEL_c863d46d6ccd4f2f90ed72ffd51b4960"
          }
        },
        "f797ff174b934171b6624c45ce5df5e5": {
          "model_module": "@jupyter-widgets/controls",
          "model_name": "HTMLModel",
          "state": {
            "_view_name": "HTMLView",
            "style": "IPY_MODEL_6a74df19968c4ae19588481e4f9447f1",
            "_dom_classes": [],
            "description": "",
            "_model_name": "HTMLModel",
            "placeholder": "​",
            "_view_module": "@jupyter-widgets/controls",
            "_model_module_version": "1.5.0",
            "value": " 28.0/28.0 [00:00&lt;00:00, 195B/s]",
            "_view_count": null,
            "_view_module_version": "1.5.0",
            "description_tooltip": null,
            "_model_module": "@jupyter-widgets/controls",
            "layout": "IPY_MODEL_ca8203c7ca2e4e6591b7329b0890ce3c"
          }
        },
        "fb7ecd3078eb446db25ecc4d00d02305": {
          "model_module": "@jupyter-widgets/controls",
          "model_name": "ProgressStyleModel",
          "state": {
            "_view_name": "StyleView",
            "_model_name": "ProgressStyleModel",
            "description_width": "initial",
            "_view_module": "@jupyter-widgets/base",
            "_model_module_version": "1.5.0",
            "_view_count": null,
            "_view_module_version": "1.2.0",
            "bar_color": null,
            "_model_module": "@jupyter-widgets/controls"
          }
        },
        "c863d46d6ccd4f2f90ed72ffd51b4960": {
          "model_module": "@jupyter-widgets/base",
          "model_name": "LayoutModel",
          "state": {
            "_view_name": "LayoutView",
            "grid_template_rows": null,
            "right": null,
            "justify_content": null,
            "_view_module": "@jupyter-widgets/base",
            "overflow": null,
            "_model_module_version": "1.2.0",
            "_view_count": null,
            "flex_flow": null,
            "width": null,
            "min_width": null,
            "border": null,
            "align_items": null,
            "bottom": null,
            "_model_module": "@jupyter-widgets/base",
            "top": null,
            "grid_column": null,
            "overflow_y": null,
            "overflow_x": null,
            "grid_auto_flow": null,
            "grid_area": null,
            "grid_template_columns": null,
            "flex": null,
            "_model_name": "LayoutModel",
            "justify_items": null,
            "grid_row": null,
            "max_height": null,
            "align_content": null,
            "visibility": null,
            "align_self": null,
            "height": null,
            "min_height": null,
            "padding": null,
            "grid_auto_rows": null,
            "grid_gap": null,
            "max_width": null,
            "order": null,
            "_view_module_version": "1.2.0",
            "grid_template_areas": null,
            "object_position": null,
            "object_fit": null,
            "grid_auto_columns": null,
            "margin": null,
            "display": null,
            "left": null
          }
        },
        "6a74df19968c4ae19588481e4f9447f1": {
          "model_module": "@jupyter-widgets/controls",
          "model_name": "DescriptionStyleModel",
          "state": {
            "_view_name": "StyleView",
            "_model_name": "DescriptionStyleModel",
            "description_width": "",
            "_view_module": "@jupyter-widgets/base",
            "_model_module_version": "1.5.0",
            "_view_count": null,
            "_view_module_version": "1.2.0",
            "_model_module": "@jupyter-widgets/controls"
          }
        },
        "ca8203c7ca2e4e6591b7329b0890ce3c": {
          "model_module": "@jupyter-widgets/base",
          "model_name": "LayoutModel",
          "state": {
            "_view_name": "LayoutView",
            "grid_template_rows": null,
            "right": null,
            "justify_content": null,
            "_view_module": "@jupyter-widgets/base",
            "overflow": null,
            "_model_module_version": "1.2.0",
            "_view_count": null,
            "flex_flow": null,
            "width": null,
            "min_width": null,
            "border": null,
            "align_items": null,
            "bottom": null,
            "_model_module": "@jupyter-widgets/base",
            "top": null,
            "grid_column": null,
            "overflow_y": null,
            "overflow_x": null,
            "grid_auto_flow": null,
            "grid_area": null,
            "grid_template_columns": null,
            "flex": null,
            "_model_name": "LayoutModel",
            "justify_items": null,
            "grid_row": null,
            "max_height": null,
            "align_content": null,
            "visibility": null,
            "align_self": null,
            "height": null,
            "min_height": null,
            "padding": null,
            "grid_auto_rows": null,
            "grid_gap": null,
            "max_width": null,
            "order": null,
            "_view_module_version": "1.2.0",
            "grid_template_areas": null,
            "object_position": null,
            "object_fit": null,
            "grid_auto_columns": null,
            "margin": null,
            "display": null,
            "left": null
          }
        },
        "e47792af2f134f8f994c127a9d47b2fc": {
          "model_module": "@jupyter-widgets/controls",
          "model_name": "HBoxModel",
          "state": {
            "_view_name": "HBoxView",
            "_dom_classes": [],
            "_model_name": "HBoxModel",
            "_view_module": "@jupyter-widgets/controls",
            "_model_module_version": "1.5.0",
            "_view_count": null,
            "_view_module_version": "1.5.0",
            "box_style": "",
            "layout": "IPY_MODEL_968b52243eb84cff866f3e1c7677e95d",
            "_model_module": "@jupyter-widgets/controls",
            "children": [
              "IPY_MODEL_9da544c4b1a548f0b3cfba56a5fc5a21",
              "IPY_MODEL_b24496e8acd44cf999bd83217098a7b8"
            ]
          }
        },
        "968b52243eb84cff866f3e1c7677e95d": {
          "model_module": "@jupyter-widgets/base",
          "model_name": "LayoutModel",
          "state": {
            "_view_name": "LayoutView",
            "grid_template_rows": null,
            "right": null,
            "justify_content": null,
            "_view_module": "@jupyter-widgets/base",
            "overflow": null,
            "_model_module_version": "1.2.0",
            "_view_count": null,
            "flex_flow": null,
            "width": null,
            "min_width": null,
            "border": null,
            "align_items": null,
            "bottom": null,
            "_model_module": "@jupyter-widgets/base",
            "top": null,
            "grid_column": null,
            "overflow_y": null,
            "overflow_x": null,
            "grid_auto_flow": null,
            "grid_area": null,
            "grid_template_columns": null,
            "flex": null,
            "_model_name": "LayoutModel",
            "justify_items": null,
            "grid_row": null,
            "max_height": null,
            "align_content": null,
            "visibility": null,
            "align_self": null,
            "height": null,
            "min_height": null,
            "padding": null,
            "grid_auto_rows": null,
            "grid_gap": null,
            "max_width": null,
            "order": null,
            "_view_module_version": "1.2.0",
            "grid_template_areas": null,
            "object_position": null,
            "object_fit": null,
            "grid_auto_columns": null,
            "margin": null,
            "display": null,
            "left": null
          }
        },
        "9da544c4b1a548f0b3cfba56a5fc5a21": {
          "model_module": "@jupyter-widgets/controls",
          "model_name": "FloatProgressModel",
          "state": {
            "_view_name": "ProgressView",
            "style": "IPY_MODEL_5aeb8577afea420f903e4250e67ac3b8",
            "_dom_classes": [],
            "description": "Downloading: 100%",
            "_model_name": "FloatProgressModel",
            "bar_style": "success",
            "max": 466062,
            "_view_module": "@jupyter-widgets/controls",
            "_model_module_version": "1.5.0",
            "value": 466062,
            "_view_count": null,
            "_view_module_version": "1.5.0",
            "orientation": "horizontal",
            "min": 0,
            "description_tooltip": null,
            "_model_module": "@jupyter-widgets/controls",
            "layout": "IPY_MODEL_d581eca374b84f9bafce211a8a45d52d"
          }
        },
        "b24496e8acd44cf999bd83217098a7b8": {
          "model_module": "@jupyter-widgets/controls",
          "model_name": "HTMLModel",
          "state": {
            "_view_name": "HTMLView",
            "style": "IPY_MODEL_71975920e8fb424e83fe3b1f81822195",
            "_dom_classes": [],
            "description": "",
            "_model_name": "HTMLModel",
            "placeholder": "​",
            "_view_module": "@jupyter-widgets/controls",
            "_model_module_version": "1.5.0",
            "value": " 466k/466k [00:00&lt;00:00, 3.81MB/s]",
            "_view_count": null,
            "_view_module_version": "1.5.0",
            "description_tooltip": null,
            "_model_module": "@jupyter-widgets/controls",
            "layout": "IPY_MODEL_125db2e6f3f44b29bee9c500b30929a1"
          }
        },
        "5aeb8577afea420f903e4250e67ac3b8": {
          "model_module": "@jupyter-widgets/controls",
          "model_name": "ProgressStyleModel",
          "state": {
            "_view_name": "StyleView",
            "_model_name": "ProgressStyleModel",
            "description_width": "initial",
            "_view_module": "@jupyter-widgets/base",
            "_model_module_version": "1.5.0",
            "_view_count": null,
            "_view_module_version": "1.2.0",
            "bar_color": null,
            "_model_module": "@jupyter-widgets/controls"
          }
        },
        "d581eca374b84f9bafce211a8a45d52d": {
          "model_module": "@jupyter-widgets/base",
          "model_name": "LayoutModel",
          "state": {
            "_view_name": "LayoutView",
            "grid_template_rows": null,
            "right": null,
            "justify_content": null,
            "_view_module": "@jupyter-widgets/base",
            "overflow": null,
            "_model_module_version": "1.2.0",
            "_view_count": null,
            "flex_flow": null,
            "width": null,
            "min_width": null,
            "border": null,
            "align_items": null,
            "bottom": null,
            "_model_module": "@jupyter-widgets/base",
            "top": null,
            "grid_column": null,
            "overflow_y": null,
            "overflow_x": null,
            "grid_auto_flow": null,
            "grid_area": null,
            "grid_template_columns": null,
            "flex": null,
            "_model_name": "LayoutModel",
            "justify_items": null,
            "grid_row": null,
            "max_height": null,
            "align_content": null,
            "visibility": null,
            "align_self": null,
            "height": null,
            "min_height": null,
            "padding": null,
            "grid_auto_rows": null,
            "grid_gap": null,
            "max_width": null,
            "order": null,
            "_view_module_version": "1.2.0",
            "grid_template_areas": null,
            "object_position": null,
            "object_fit": null,
            "grid_auto_columns": null,
            "margin": null,
            "display": null,
            "left": null
          }
        },
        "71975920e8fb424e83fe3b1f81822195": {
          "model_module": "@jupyter-widgets/controls",
          "model_name": "DescriptionStyleModel",
          "state": {
            "_view_name": "StyleView",
            "_model_name": "DescriptionStyleModel",
            "description_width": "",
            "_view_module": "@jupyter-widgets/base",
            "_model_module_version": "1.5.0",
            "_view_count": null,
            "_view_module_version": "1.2.0",
            "_model_module": "@jupyter-widgets/controls"
          }
        },
        "125db2e6f3f44b29bee9c500b30929a1": {
          "model_module": "@jupyter-widgets/base",
          "model_name": "LayoutModel",
          "state": {
            "_view_name": "LayoutView",
            "grid_template_rows": null,
            "right": null,
            "justify_content": null,
            "_view_module": "@jupyter-widgets/base",
            "overflow": null,
            "_model_module_version": "1.2.0",
            "_view_count": null,
            "flex_flow": null,
            "width": null,
            "min_width": null,
            "border": null,
            "align_items": null,
            "bottom": null,
            "_model_module": "@jupyter-widgets/base",
            "top": null,
            "grid_column": null,
            "overflow_y": null,
            "overflow_x": null,
            "grid_auto_flow": null,
            "grid_area": null,
            "grid_template_columns": null,
            "flex": null,
            "_model_name": "LayoutModel",
            "justify_items": null,
            "grid_row": null,
            "max_height": null,
            "align_content": null,
            "visibility": null,
            "align_self": null,
            "height": null,
            "min_height": null,
            "padding": null,
            "grid_auto_rows": null,
            "grid_gap": null,
            "max_width": null,
            "order": null,
            "_view_module_version": "1.2.0",
            "grid_template_areas": null,
            "object_position": null,
            "object_fit": null,
            "grid_auto_columns": null,
            "margin": null,
            "display": null,
            "left": null
          }
        },
        "d08f28a150cd4a0fac9a422e903f285b": {
          "model_module": "@jupyter-widgets/controls",
          "model_name": "HBoxModel",
          "state": {
            "_view_name": "HBoxView",
            "_dom_classes": [],
            "_model_name": "HBoxModel",
            "_view_module": "@jupyter-widgets/controls",
            "_model_module_version": "1.5.0",
            "_view_count": null,
            "_view_module_version": "1.5.0",
            "box_style": "",
            "layout": "IPY_MODEL_d254db7a55994a3b86647ebf0fde2105",
            "_model_module": "@jupyter-widgets/controls",
            "children": [
              "IPY_MODEL_2e10a3aed3fa4c0f950c6a4effbf444f",
              "IPY_MODEL_37f09d4ce4134a08aea7ecf218cec302"
            ]
          }
        },
        "d254db7a55994a3b86647ebf0fde2105": {
          "model_module": "@jupyter-widgets/base",
          "model_name": "LayoutModel",
          "state": {
            "_view_name": "LayoutView",
            "grid_template_rows": null,
            "right": null,
            "justify_content": null,
            "_view_module": "@jupyter-widgets/base",
            "overflow": null,
            "_model_module_version": "1.2.0",
            "_view_count": null,
            "flex_flow": null,
            "width": null,
            "min_width": null,
            "border": null,
            "align_items": null,
            "bottom": null,
            "_model_module": "@jupyter-widgets/base",
            "top": null,
            "grid_column": null,
            "overflow_y": null,
            "overflow_x": null,
            "grid_auto_flow": null,
            "grid_area": null,
            "grid_template_columns": null,
            "flex": null,
            "_model_name": "LayoutModel",
            "justify_items": null,
            "grid_row": null,
            "max_height": null,
            "align_content": null,
            "visibility": null,
            "align_self": null,
            "height": null,
            "min_height": null,
            "padding": null,
            "grid_auto_rows": null,
            "grid_gap": null,
            "max_width": null,
            "order": null,
            "_view_module_version": "1.2.0",
            "grid_template_areas": null,
            "object_position": null,
            "object_fit": null,
            "grid_auto_columns": null,
            "margin": null,
            "display": null,
            "left": null
          }
        },
        "2e10a3aed3fa4c0f950c6a4effbf444f": {
          "model_module": "@jupyter-widgets/controls",
          "model_name": "FloatProgressModel",
          "state": {
            "_view_name": "ProgressView",
            "style": "IPY_MODEL_cc9f8c353ae34e749eb8474791e63038",
            "_dom_classes": [],
            "description": "Downloading: 100%",
            "_model_name": "FloatProgressModel",
            "bar_style": "success",
            "max": 570,
            "_view_module": "@jupyter-widgets/controls",
            "_model_module_version": "1.5.0",
            "value": 570,
            "_view_count": null,
            "_view_module_version": "1.5.0",
            "orientation": "horizontal",
            "min": 0,
            "description_tooltip": null,
            "_model_module": "@jupyter-widgets/controls",
            "layout": "IPY_MODEL_f90b0bd5141643f181365f5afb327a21"
          }
        },
        "37f09d4ce4134a08aea7ecf218cec302": {
          "model_module": "@jupyter-widgets/controls",
          "model_name": "HTMLModel",
          "state": {
            "_view_name": "HTMLView",
            "style": "IPY_MODEL_1a87823768074499badf808587477fae",
            "_dom_classes": [],
            "description": "",
            "_model_name": "HTMLModel",
            "placeholder": "​",
            "_view_module": "@jupyter-widgets/controls",
            "_model_module_version": "1.5.0",
            "value": " 570/570 [00:00&lt;00:00, 11.9kB/s]",
            "_view_count": null,
            "_view_module_version": "1.5.0",
            "description_tooltip": null,
            "_model_module": "@jupyter-widgets/controls",
            "layout": "IPY_MODEL_8ce47dfc3b494760ad5f43e945c57acd"
          }
        },
        "cc9f8c353ae34e749eb8474791e63038": {
          "model_module": "@jupyter-widgets/controls",
          "model_name": "ProgressStyleModel",
          "state": {
            "_view_name": "StyleView",
            "_model_name": "ProgressStyleModel",
            "description_width": "initial",
            "_view_module": "@jupyter-widgets/base",
            "_model_module_version": "1.5.0",
            "_view_count": null,
            "_view_module_version": "1.2.0",
            "bar_color": null,
            "_model_module": "@jupyter-widgets/controls"
          }
        },
        "f90b0bd5141643f181365f5afb327a21": {
          "model_module": "@jupyter-widgets/base",
          "model_name": "LayoutModel",
          "state": {
            "_view_name": "LayoutView",
            "grid_template_rows": null,
            "right": null,
            "justify_content": null,
            "_view_module": "@jupyter-widgets/base",
            "overflow": null,
            "_model_module_version": "1.2.0",
            "_view_count": null,
            "flex_flow": null,
            "width": null,
            "min_width": null,
            "border": null,
            "align_items": null,
            "bottom": null,
            "_model_module": "@jupyter-widgets/base",
            "top": null,
            "grid_column": null,
            "overflow_y": null,
            "overflow_x": null,
            "grid_auto_flow": null,
            "grid_area": null,
            "grid_template_columns": null,
            "flex": null,
            "_model_name": "LayoutModel",
            "justify_items": null,
            "grid_row": null,
            "max_height": null,
            "align_content": null,
            "visibility": null,
            "align_self": null,
            "height": null,
            "min_height": null,
            "padding": null,
            "grid_auto_rows": null,
            "grid_gap": null,
            "max_width": null,
            "order": null,
            "_view_module_version": "1.2.0",
            "grid_template_areas": null,
            "object_position": null,
            "object_fit": null,
            "grid_auto_columns": null,
            "margin": null,
            "display": null,
            "left": null
          }
        },
        "1a87823768074499badf808587477fae": {
          "model_module": "@jupyter-widgets/controls",
          "model_name": "DescriptionStyleModel",
          "state": {
            "_view_name": "StyleView",
            "_model_name": "DescriptionStyleModel",
            "description_width": "",
            "_view_module": "@jupyter-widgets/base",
            "_model_module_version": "1.5.0",
            "_view_count": null,
            "_view_module_version": "1.2.0",
            "_model_module": "@jupyter-widgets/controls"
          }
        },
        "8ce47dfc3b494760ad5f43e945c57acd": {
          "model_module": "@jupyter-widgets/base",
          "model_name": "LayoutModel",
          "state": {
            "_view_name": "LayoutView",
            "grid_template_rows": null,
            "right": null,
            "justify_content": null,
            "_view_module": "@jupyter-widgets/base",
            "overflow": null,
            "_model_module_version": "1.2.0",
            "_view_count": null,
            "flex_flow": null,
            "width": null,
            "min_width": null,
            "border": null,
            "align_items": null,
            "bottom": null,
            "_model_module": "@jupyter-widgets/base",
            "top": null,
            "grid_column": null,
            "overflow_y": null,
            "overflow_x": null,
            "grid_auto_flow": null,
            "grid_area": null,
            "grid_template_columns": null,
            "flex": null,
            "_model_name": "LayoutModel",
            "justify_items": null,
            "grid_row": null,
            "max_height": null,
            "align_content": null,
            "visibility": null,
            "align_self": null,
            "height": null,
            "min_height": null,
            "padding": null,
            "grid_auto_rows": null,
            "grid_gap": null,
            "max_width": null,
            "order": null,
            "_view_module_version": "1.2.0",
            "grid_template_areas": null,
            "object_position": null,
            "object_fit": null,
            "grid_auto_columns": null,
            "margin": null,
            "display": null,
            "left": null
          }
        }
      }
    }
  },
  "cells": [
    {
      "cell_type": "code",
      "metadata": {
        "colab": {
          "base_uri": "https://localhost:8080/"
        },
        "id": "Lx6E0g3eTnf2",
        "outputId": "d454477c-52eb-4d74-d96e-f3c2d19dbc8a"
      },
      "source": [
        "from google.colab import drive\n",
        "drive.mount('/content/drive')"
      ],
      "execution_count": null,
      "outputs": [
        {
          "output_type": "stream",
          "text": [
            "Drive already mounted at /content/drive; to attempt to forcibly remount, call drive.mount(\"/content/drive\", force_remount=True).\n"
          ],
          "name": "stdout"
        }
      ]
    },
    {
      "cell_type": "code",
      "metadata": {
        "id": "87dD65ImODu0"
      },
      "source": [
        "!pip install transformers"
      ],
      "execution_count": null,
      "outputs": []
    },
    {
      "cell_type": "code",
      "metadata": {
        "id": "k9_Wk3GWSylo"
      },
      "source": [
        "!pip install --upgrade git+https://github.com/twintproject/twint.git@origin/master#egg=twint"
      ],
      "execution_count": null,
      "outputs": []
    },
    {
      "cell_type": "code",
      "metadata": {
        "id": "Cna8KRQVNYue"
      },
      "source": [
        "import twint\n",
        "import nest_asyncio\n",
        "nest_asyncio.apply()\n",
        "c = twint.Config()\n",
        "\n",
        "def scrape_user():\n",
        "    print (\"Fetching Tweets\")\n",
        "    c = twint.Config()\n",
        "    c.Username = input('Enter the id name: ') \n",
        "    c.Language = 'en'\n",
        "    # choose beginning time (narrow results)\n",
        "    # c.Since = input('Date (format: \"%Y-%m-%d %H:%M:%S\"): ')\n",
        "    c.Pandas = True\n",
        "    c.Limit = 100\n",
        "    twint.run.Search(c)\n",
        "    tweets = twint.storage.panda.Tweets_df\n",
        "    return tweets\n"
      ],
      "execution_count": null,
      "outputs": []
    },
    {
      "cell_type": "code",
      "metadata": {
        "tags": [
          "outputPrepend"
        ],
        "id": "3kqxHIEjNYuh",
        "colab": {
          "base_uri": "https://localhost:8080/"
        },
        "outputId": "7f6b0b44-c5ca-48ec-f39d-521525065960"
      },
      "source": [
        "tt = scrape_user()\n",
        "tlist = []"
      ],
      "execution_count": null,
      "outputs": [
        {
          "output_type": "stream",
          "text": [
            "Fetching Tweets\n",
            "Enter the id name: Cristiano\n",
            "1418257821041414145 2021-07-22 17:13:09 +0000 <Cristiano> My beautiful queen ❤️  https://t.co/Jmbld6ySq7\n",
            "1416076947680026633 2021-07-16 16:47:08 +0000 <Cristiano> A good weekend to everyone 😎🙏🏽  https://t.co/BRklRcvbxI\n",
            "1414933377434767361 2021-07-13 13:03:00 +0000 <Cristiano> My love 💙  https://t.co/PH7gPrWYxT\n",
            "1414194896219648000 2021-07-11 12:08:32 +0000 <Cristiano> Se você tiver o “ter” sem o “ser”, não pertence a você. 😉 #LR  https://t.co/hD7jvmmUew\n",
            "1413187283512176642 2021-07-08 17:24:38 +0000 <Cristiano> Peace of mind 🌊  https://t.co/LuCcZ8DlaC\n",
            "1412804774886612994 2021-07-07 16:04:41 +0000 <Cristiano> What a magical date - 07.07 to introduce you to my new hotel @PestanaCR7 Times Square, in New York 🤩!  Book now and discover the coolest new hotel, in the best location in town!  #PestanaCR7TimesSquare #PestanaCR7  https://t.co/iD2JL8wPVA\n",
            "1412517448222400517 2021-07-06 21:02:57 +0000 <Cristiano> My baby boy ❤️🙏🏽  https://t.co/GboZaWgoKf\n",
            "1412109801862176769 2021-07-05 18:03:07 +0000 <Cristiano> 🤔  https://t.co/DBZatY7zTU\n",
            "1411713682376216576 2021-07-04 15:49:04 +0000 <Cristiano> It’s time to rest with my loves ⚓️💙  https://t.co/maxx9zsUYR\n",
            "1408863983084478474 2021-06-26 19:05:23 +0000 <Cristiano> One of the greatest impacts I can have is to on and off the field.  With the CR7 Nike Mercurial Superfly “Spark Positivity\", I hope kids are inspired to chase their dreams.   Get it in select cities and retailers on 6/28⚡🎇  https://t.co/lR8CC3gaLe\n",
            "1408704413565325316 2021-06-26 08:31:19 +0000 <Cristiano> Let's go👍👍🙏🇵🇹  https://t.co/lKGNRJUHss\n",
            "1408439846457196548 2021-06-25 15:00:01 +0000 <Cristiano> Need to defend a major title with my country and I need to maintain my physical performance. With so many physical exercises, really, I could take a good use of clear-headed. Keeping a clear head helps me to be on top of my game #clearheaded #fearless #clearmen  https://t.co/e2tzWrwWZr\n",
            "1407818354208002055 2021-06-23 21:50:26 +0000 <Cristiano> Parabéns equipa! 👏🏽 Obrigado a todos pelo o apoio incondicional! 🇵🇹🌍🙌🏽 #AcreditemTantoComoNos #vamoscomtudo  https://t.co/QkQwv8iH2n\n",
            "1407436218997084160 2021-06-22 20:31:58 +0000 <Cristiano> 🇵🇹❤️💪🏽 #AcreditemTantoComoNos #vamoscomtudo  https://t.co/YyWYfVWkFo\n",
            "1405440466540273664 2021-06-17 08:21:33 +0000 <Cristiano> Muitos parabéns, meu amor!🎂🎉🎊 És um orgulho para o Papá! 11 anos de muitas alegrias e sorrisos! Que lutes sempre pelos teus sonhos🙏🏻Amamos-te muito ❤️ #blessed  https://t.co/vJ6ajWXF8j\n",
            "1405090902847242241 2021-06-16 09:12:31 +0000 <Cristiano> Grande vitória, equipa! Vamos em busca do nosso objectivo! Força Portugal! Vamos com tudo para dar mais uma alegria aos portugueses que tanto nos têm apoiado!  🏆💪🏽⚽️🇵🇹 #vamoscomtudo  https://t.co/ZFNkqVTeUw\n",
            "1404118301970780160 2021-06-13 16:47:45 +0000 <Cristiano> Eyes on the ball 👀⚽️💪🏽  https://t.co/rH0BgRMdY5\n",
            "1403381513589116932 2021-06-11 16:00:01 +0000 <Cristiano> Don’t miss a goal in the European Championships! Download the @Livescore app  https://t.co/4lzGWzX9Qf  https://t.co/dTmdx0Z5Ts\n",
            "1401277948087439362 2021-06-05 20:41:11 +0000 <Cristiano> Muitos parabéns meus amores!🎂🎊❤️❤️  #blessed 🙏🏽  https://t.co/LVNT3PTyXn\n",
            "1400931901695795200 2021-06-04 21:46:08 +0000 <Cristiano> Bom trabalho EQUIPA! 🇵🇹👏🏽 #campeoesdaeuropa  https://t.co/Cx3827VKee\n",
            "1400524228290650118 2021-06-03 18:46:11 +0000 <Cristiano> 🇵🇹 #VamosComTudo  https://t.co/YysMkHeoQW\n",
            "1399988465815666689 2021-06-02 07:17:15 +0000 <Cristiano> My body is my weapon. It’s the most important thing to me. In football, we are always told to eat well and train well to have a longer professional career, but to me, recovery is a key ingredient. That's why I choose the best in recovery – @Therabody  https://t.co/G8Uwy67miQ\n",
            "1395143962772623361 2021-05-19 22:26:55 +0000 <Cristiano> Non potrei essere più felice di vincere un altro titolo al servizio di questo grande club! Fino Alla Fine! Forza Juve! 🏆🏳️🏴🙏🏽  https://t.co/KAOOCQJvhK\n",
            "1394201435546472452 2021-05-17 08:01:39 +0000 <Cristiano> Excited to have signed for @livescore  https://t.co/6TAhDmJK3b\n",
            "1393632041271496706 2021-05-15 18:19:05 +0000 <Cristiano> FINO ALLA FINE 🏳️🏴💪🏽  https://t.co/TcO0CmP4De\n",
            "1392887361449648139 2021-05-13 17:00:00 +0000 <Cristiano> Sai perché l’Università eCampus è la tua scelta perfetta?  Perché è online da sempre, con lezioni ed esami a distanza e, se vuoi, anche un tutor personale che ti accompagna passo dopo passo come un vero allenatore.  Ti aspetto!  @uni_ecampus  https://t.co/76lGUgIosZ\n",
            "1392829676863827969 2021-05-13 13:10:47 +0000 <Cristiano> Don’t stop here! 😉👊🏽  https://t.co/aVf3G2VC1H\n",
            "1390325956678758403 2021-05-06 15:21:53 +0000 <Cristiano> 👩‍❤️‍👨😘 #lovelymoments  https://t.co/0gsASXfQkU\n",
            "1390000124957446147 2021-05-05 17:47:09 +0000 <Cristiano> The usual 🤷🏽‍♂️😅 ssssiiiimmmm 💪🏽 #winningteam  https://t.co/7zVUU0lAgW\n",
            "1386978504923885569 2021-04-27 09:40:19 +0000 <Cristiano> El éxito ocurre cuando tus sueños son más grandes que tus excusas. 😉💪🏽  https://t.co/UHazCqZps2\n",
            "1384985403392995332 2021-04-21 21:40:26 +0000 <Cristiano> Obiettivo raggiunto! Avanti cosi💪🏽👊🏽 #finoallafine  https://t.co/pTFzN7K4BK\n",
            "1384173952860233743 2021-04-19 15:56:01 +0000 <Cristiano> 🏳️🏴 #workdone #keepfighting  https://t.co/d6S9IUinF8\n",
            "1382723754653007875 2021-04-15 15:53:27 +0000 <Cristiano> Free your mind!😉  https://t.co/H51AO5CzQy\n",
            "1381557056243691520 2021-04-12 10:37:24 +0000 <Cristiano> Work done! 💪🏽😘  https://t.co/lpODJMmn3M\n",
            "1381279825256714240 2021-04-11 16:15:47 +0000 <Cristiano> Avanti Cosi! 🏳️🏴💪🏽 #finoallafine  https://t.co/Qb8NuNpF9G\n",
            "1379903300812832769 2021-04-07 21:05:58 +0000 <Cristiano> Grandi ragazzi, 3 punti importantissimi !👏🏽 Abbiamo bisogno di questo spirito até ao final! 🏳️🏴💪🏽 #finoallafine  https://t.co/PIjEiOHAgm\n",
            "1379446925523570692 2021-04-06 14:52:30 +0000 <Cristiano> 🏳️🏴👏🏽 #juventus  https://t.co/GkNBLt9Kz0\n",
            "1377019810282881027 2021-03-30 22:08:01 +0000 <Cristiano> Vitória importante rumo ao nosso objectivo. Parabéns Equipa! 💪🏼🇵🇹 #todosportugal  https://t.co/acWTqvemeD\n",
            "1376596593277816834 2021-03-29 18:06:18 +0000 <Cristiano> 🇵🇹❤️  https://t.co/xZJltnCgaR\n",
            "1375064846467796993 2021-03-25 12:39:41 +0000 <Cristiano> Muito importante começar a nossa qualificação para o Campeonato do Mundo com uma vitoria! Parabéns equipa 🇵🇹💪🏽  https://t.co/PlyuzvPdku\n",
            "1374373370674831365 2021-03-23 14:52:00 +0000 <Cristiano> 𝐏𝐎𝐑𝐓𝐔𝐆𝐀𝐋!🇵🇹❤️  https://t.co/lX3bGfyMpb\n",
            "1372939732544536582 2021-03-19 15:55:14 +0000 <Cristiano> 𝙏𝙝𝙚 𝙬𝙚𝙚𝙠𝙚𝙣𝙙 𝙞𝙨 𝙘𝙤𝙢𝙞𝙣𝙜! ⚽️👊🏽 #forzajuve  https://t.co/e1SPoZV3FS\n",
            "1368915262209220609 2021-03-08 13:23:26 +0000 <Cristiano> 𝑭𝒊𝒏𝒐 𝑨𝒍𝒍𝒂 𝑭𝒊𝒏𝒆! 🏳️🏴🙏🏽💪🏽 #forzajuve #championsleague  https://t.co/By50J1GG28\n",
            "1367448356314832896 2021-03-04 12:14:28 +0000 <Cristiano> Did you grab a pair?! Can’t wait to see what all of you have created⚡  Only a few days left to customize my CR7 AF1 with #NikeByYou Available now  https://t.co/ahCFbRixof #CR7ByYou #TeamNike  https://t.co/QWoqpKIvLf\n",
            "1367191022963425283 2021-03-03 19:11:55 +0000 <Cristiano> Recovery time! 💪🏽  https://t.co/1NduH6HkFi\n",
            "1366882482126278661 2021-03-02 22:45:53 +0000 <Cristiano> Grandi ragazzi! 🏳️🏴💪🏽#finoallafine  https://t.co/LjCyMY1zod\n",
            "1363984962270158850 2021-02-22 22:52:11 +0000 <Cristiano> Vittoria importante! Felice di aver dato il mio contributo! Avanti così ragazzi! 🚀 🏳️🏴💪🏽  https://t.co/FC9PCpK7bh\n",
            "1363129203047223296 2021-02-20 14:11:42 +0000 <Cristiano> Thank you for the endless love and support! To celebrate my birthday month, my gift back to you is the opportunity to customize your own CR7 AF1 with #NikeByYou.⭐   Launching Monday, February 22, but you can start designing NOW:  https://t.co/ahCFbRixof   #CR7byYou #TeamNike  https://t.co/OAYW1y7dym\n",
            "1361666128645398528 2021-02-16 13:17:58 +0000 <Cristiano> Tomorrow we have a very importante game against a very strong team and I can only hope that it may be the beggining of the long walk we want to take until the final. Respect for the opponent, ambition for the victory and 100% focus on our goals. Let’s go, guys! Fino Alla Fine! 💪🏽  https://t.co/ukrV7tM3S4\n",
            "1360722571042426883 2021-02-13 22:48:36 +0000 <Cristiano> Non sarà questa sconfitta ad abatterci! Alziamo la testa e pensiamo alla champions ! 🏳️🏴 #finoallafine  https://t.co/lF8GJL4DbG\n",
            "1359909069423865856 2021-02-11 16:56:02 +0000 <Cristiano> Moments ❤️  https://t.co/viQfGEfxqs\n",
            "1359263318431723525 2021-02-09 22:10:03 +0000 <Cristiano> Vaaammooosss Juve!🏳️🏴 Questo è lo spirito! FINALE #coppaitalia  #finoallafine 💪🏽👊🏽  https://t.co/XrwpPQXHid\n",
            "1358137564587319299 2021-02-06 19:36:43 +0000 <Cristiano> Happy to score and help the team against a tough opponent! 3 important points!  Well done lads 👏🏽💪🏽 #finoallafine  https://t.co/bVHENpx2X6\n",
            "1357379984399212545 2021-02-04 17:26:21 +0000 <Cristiano> Done ⚽️💪🏽 Have a good day!😉👊🏽  https://t.co/DN9lo4gMbS\n",
            "1356733030962987008 2021-02-02 22:35:36 +0000 <Cristiano> Grande vittoria di squadra! Abbiamo bisogno di questo spirito #finoallafine 🏳️🏴💪🏽  https://t.co/lNyV5hGE2n\n",
            "1355924395064233986 2021-01-31 17:02:22 +0000 <Cristiano> Home sweet home! ❤️😍  https://t.co/7MaSXDfTYm\n",
            "1355599316300292097 2021-01-30 19:30:37 +0000 <Cristiano> Altri 3 punti importantissimi ! Avanti così 🏳️🏴💪🏽 #finoallafine  https://t.co/l5HfUkfLcS\n",
            "1354806671432798222 2021-01-28 15:00:56 +0000 <Cristiano> Winning team! The normal 🤷🏽‍♂️💪🏽😅  https://t.co/ydfIaBDDXm\n",
            "1354421378917814275 2021-01-27 13:29:55 +0000 <Cristiano> Felicidades ao amor da minha vida ❤️  https://t.co/2xTR9GKmUZ\n",
            "1353365706340003842 2021-01-24 15:35:03 +0000 <Cristiano> Vittoria molto importante! Siamo sulla strada giusta!  Avanti così 🏳️🏴💪🏽#finoallafine  https://t.co/iLnf4De22D\n",
            "1352026659445157894 2021-01-20 22:54:09 +0000 <Cristiano> Very happy with my 4th title in Italy... We are back! This is the Juve we love, this is the team we trust and this is the spirit that will lead to the wins we want! Well done, guys! Fino Alla Fine! 🏆🏳️🏴💪🏽  https://t.co/NoU2ux39gW\n",
            "1348398962391326720 2021-01-10 22:38:59 +0000 <Cristiano> Altri 3 punti importantissimi! Felice di aver dato il mio contributo! 🏳️🏴💪🏽  https://t.co/jR2IRe58sk\n",
            "1346972806005858309 2021-01-07 00:11:57 +0000 <Cristiano> Complimenti ragazzi per un’altra importante vittoria! Avanti così 🏳️🏴💪🏽👊🏽#finoallafine #ForzaJuve  https://t.co/ePthOLEhmQ\n",
            "1345867464400371727 2021-01-03 22:59:43 +0000 <Cristiano> Grandi ragazzi!👏🏽 Abbiamo iniziato il 2021 nel migliore dei modi! 🏳️🏴💪🏽 #finoallafine  https://t.co/7EBU6GhHjT\n",
            "1345294475300630535 2021-01-02 09:02:51 +0000 <Cristiano> A New Year for new beginnings and goals. Let’s work hard together to tone our bodies with SIXPAD for 2021. @SixpadHomeGym #SIXPADHOMEGYM #SIXPAD  https://t.co/hVt82z6Dlw  https://t.co/DEpzJTkiQa\n",
            "1344769621199564800 2020-12-31 22:17:16 +0000 <Cristiano> 2020 was not an easy year, there’s no doubt about it. No one can be indifferent to the pain and suffering that COVID-19 brought upon the world. But now it’s time to bounce back and show that, together, we can make a difference. Happy New Year!🙏🏽❤️  https://t.co/7n1i0ARjiK\n",
            "1344768939600056326 2020-12-31 22:14:34 +0000 <Cristiano> Muitos parabéns mãe, desejo-lhe toda a felicidade do mundo com muita saúde! 🎂🥂❤️  https://t.co/rF2GI4T1i5\n",
            "1344341403564974081 2020-12-30 17:55:41 +0000 <Cristiano> A short break that I’ll allways remember for the best reasons. Good times and great memories with my family, my friends and my warm fans from Dubai. But now it’s time to get back to work! The batteries are fully charged so that I can return stronger and more motivated than ever.  https://t.co/fHpWVoIScr\n",
            "1343885490391539712 2020-12-29 11:44:03 +0000 <Cristiano> Caption... 🤔  https://t.co/cIFxiPr6CC\n",
            "1343643930970234888 2020-12-28 19:44:11 +0000 <Cristiano> 🏆💪🏽  https://t.co/WifWxrvDD4\n",
            "1343643790737891336 2020-12-28 19:43:38 +0000 <Cristiano> Perfect combination! ❤️🏆  https://t.co/YVcD9cD3Y7\n",
            "1343643597036548102 2020-12-28 19:42:51 +0000 <Cristiano> Thanks for your love and support ❤️  https://t.co/Xip8eWxzCt\n",
            "1343277423371186178 2020-12-27 19:27:49 +0000 <Cristiano> Couldn’t be happier with tonight’s award! As I’m about to celebrate my 20th year as a professional footballer, Globe Soccer Player Of The Century is a recognition that I receive with so much joy and pride! @Globe_Soccer #globesoccer  https://t.co/sAIl3V8ezz\n",
            "1342772141708562432 2020-12-26 10:00:00 +0000 <Cristiano> One last Christmas gift: Today we reopen @PestanaCR7 Funchal and it’s feels soooo good to be back!  https://t.co/2O4VRyoSod\n",
            "1342175621464682498 2020-12-24 18:29:39 +0000 <Cristiano> We wish you a Merry Christmas!! Full of love, health and happiness🎅🏻🎄❤️  https://t.co/Xpb7wu2kmU\n",
            "1340725769518116871 2020-12-20 18:28:27 +0000 <Cristiano> I am honored to win the @goldenfootofficial and to be immortalised on the Champion Promenade in Monaco, together with some of the greatest football legends of all time! I am truly humbled and want to thank the fans all over the world for having voted for me #goldenfoot2020  https://t.co/HEWgjDUxgV\n",
            "1340415982192488448 2020-12-19 21:57:28 +0000 <Cristiano> Good to get back to victories and happy to help the team win with two goals! 💪🏽 #finoallafine #forzajuve  https://t.co/sOqRrMcr0M\n",
            "1339997524841672704 2020-12-18 18:14:40 +0000 <Cristiano> There is no secret to success. It’s hard work, matched with passion and support that elevates you to the top #HerbalifeNutrition  @Herbalife  https://t.co/l3UfPZlOUL\n",
            "1339320735865712640 2020-12-16 21:25:21 +0000 <Cristiano> Not the result we wanted, but now it's time to recover well and focus on the next game! 🏳️🏴👊🏽 #finoallafine  https://t.co/InODwc3ANw\n",
            "1338591389534314498 2020-12-14 21:07:11 +0000 <Cristiano> I’m very honoured to be part of France Football’s All Time 11. What an amazing Dream Team... They all deserve my respect and admiration and I’m obviously proud to be amongst such extraordinary players. Thank you!  https://t.co/VHpuSdw89P\n",
            "1338422100638490624 2020-12-14 09:54:30 +0000 <Cristiano> I'm honored and proud to be among the finalists for the Globe Soccer Player of the Year and Player of the Century awards. It's always a pleasure and absolute joy to receive such public recognition from football fans all around the world.😀👏🏽  https://t.co/YkWlnlswhh\n",
            "1338204378440888320 2020-12-13 19:29:21 +0000 <Cristiano> What better way to celebrate my 100th game for Juventus, than scoring two more goals for the team? I’m very proud of reaching this number with the Vecchia Signora jersey, but guess what: I also have my mind already set on the 100 goals for Juve. Fino Alla Fine!🏳️🏴💪🏽  https://t.co/4X6nn8QSvO\n",
            "1336764001125085184 2020-12-09 20:05:48 +0000 <Cristiano> We all miss the supporters in the stadiums and hopefully things will change very soon... But until then, the show must go on!😉  https://t.co/ppLEVWFcmJ\n",
            "1336437110555947013 2020-12-08 22:26:51 +0000 <Cristiano> Always great to return to Spain and to Catalunya, always hard to play in Camp Nou against one of the best teams I ever faced. Today we were a team of Champions! A true, strong and united family! Playing like this, we have nothing to fear until the end of the season... Let’s go!  https://t.co/PivPpJ3SLh\n",
            "1335349948309757954 2020-12-05 22:26:51 +0000 <Cristiano> President Agnelli representing this amazing club in this historical moment in my carreer. Special thanks to the squad back there: I couldn’t do it without your help, guys! Let’s go! All together for all our big goals this season! Fino Alla Fine!  https://t.co/XQg7BovXRz\n",
            "1335307136319037443 2020-12-05 19:36:44 +0000 <Cristiano> Grandi ragazzi!👏🏽  Tutti insieme 🏳️🏴Fino Alla Fine 💪🏽  https://t.co/XKplzMssJq\n",
            "1334265872601505793 2020-12-02 22:39:08 +0000 <Cristiano> 𝟕𝟓𝟎 goals, 𝟕𝟓𝟎 happy moments, 𝟕𝟓𝟎 smiles in the faces of our supporters. Thank you to all the players and coaches that helped me reach this amazing number, thank you to all my loyal opponents that made me work harder and harder everyday.  https://t.co/ZuS4GDOzeh\n",
            "1333470859399294977 2020-11-30 18:00:02 +0000 <Cristiano> I co-created this true #Legendshampoo with @Clear.haircare after 12 years of amazing partnership. High performance shampoo made for legends. Did I mention it smells amazing too? 😌 #ComeBackStronger  #Legendshampoo #ClearMen  https://t.co/oXoF21FM1H\n",
            "1332384144555433986 2020-11-27 18:01:49 +0000 <Cristiano> Approved?! 🎸🤔  https://t.co/MPDjXGof0T\n",
            "1331652917317787648 2020-11-25 17:36:11 +0000 <Cristiano> Hoje despeço-me de um amigo e o Mundo despede-se de um génio eterno. Um dos melhores de todos os tempos. Um mágico inigualável. Parte demasiado cedo, mas deixa um legado sem limites e um vazio que jamais será preenchido. Descansa em paz, craque. Nunca serás esquecido.🙏🏽  https://t.co/WTS21uxmdL\n",
            "1331379441696731140 2020-11-24 23:29:29 +0000 <Cristiano> Fino Alla Fine!💪🏽  https://t.co/irotF4VWeW\n",
            "1329410000167563276 2020-11-19 13:03:37 +0000 <Cristiano> The new SIXPAD HOME GYM has launched exclusively in Japan! Turn your house into a futuristic gym with cutting-edge EMS training. I can’t wait for its release in the rest of the world! #SIXPAD #SIXPADHOMEGYM  https://t.co/GMyW1QBtFC\n",
            "1328411603503640576 2020-11-16 18:56:21 +0000 <Cristiano> 💚❤️  https://t.co/VRUxEWegiB\n",
            "1327556363434725376 2020-11-14 10:17:56 +0000 <Cristiano> @DjokerNole not bad bro🤔😅\n",
            "1327324494248239106 2020-11-13 18:56:34 +0000 <Cristiano> P𝐫𝐞𝐩𝐚𝐫𝐚𝐝𝐨𝐬! 🇵🇹💪🏽 #todosportugal  https://t.co/mBNpqBNq0p\n",
            "1326853175274561537 2020-11-12 11:43:43 +0000 <Cristiano> Gracias por llegar a nuestras vidas y llenarlos de luz con tus sonrisas ❤️  Feliz cumpleaños mi princesa Alana 👸🏻🎂🙏🏽Te ama papá! 😘  https://t.co/MtkrZn4hQu\n",
            "1326664085308575744 2020-11-11 23:12:20 +0000 <Cristiano> Feliz por atingir mais uma marca histórica com as cores do nosso país! 🇵🇹👏🏽  𝟏𝟎𝟎° 𝐕𝐈𝐓Ó𝐑𝐈𝐀 𝐈𝐍𝐓𝐄𝐑𝐍𝐀𝐂𝐈𝐎𝐍𝐀𝐋!💪🏽  https://t.co/F7wK9wMKnT\n",
            "1326170869840949248 2020-11-10 14:32:29 +0000 <Cristiano> Feliz por estar de volta a casa! 🇵🇹💪🏽 #todosportugal  https://t.co/e0ylgFrRuZ\n",
            "1325467261239431170 2020-11-08 15:56:35 +0000 <Cristiano> Head up and believe in the work we’re doing! 💪🏽 #finoallafine  https://t.co/jyfc8WpaFX\n",
            "1324642588352221185 2020-11-06 09:19:38 +0000 <Cristiano> Excited about this collaboration with @clear . A legend has been made. Can’t wait to share with all of you here 😎 #ComeBackStronger  #Madelegend #legendshampoo #ClearMen  https://t.co/nMLI24bJfL\n"
          ],
          "name": "stdout"
        }
      ]
    },
    {
      "cell_type": "code",
      "metadata": {
        "colab": {
          "base_uri": "https://localhost:8080/"
        },
        "id": "4HEwwyNNNYuj",
        "outputId": "cfeb6cda-d09e-474c-db6a-3b5ee37d6ac8"
      },
      "source": [
        "tt['tweet']"
      ],
      "execution_count": null,
      "outputs": [
        {
          "output_type": "execute_result",
          "data": {
            "text/plain": [
              "0        My beautiful queen ❤️  https://t.co/Jmbld6ySq7\n",
              "1     A good weekend to everyone 😎🙏🏽  https://t.co/B...\n",
              "2                    My love 💙  https://t.co/PH7gPrWYxT\n",
              "3     Se você tiver o “ter” sem o “ser”, não pertenc...\n",
              "4              Peace of mind 🌊  https://t.co/LuCcZ8DlaC\n",
              "                            ...                        \n",
              "95    Gracias por llegar a nuestras vidas y llenarlo...\n",
              "96    Feliz por atingir mais uma marca histórica com...\n",
              "97    Feliz por estar de volta a casa! 🇵🇹💪🏽 #todospo...\n",
              "98    Head up and believe in the work we’re doing! 💪...\n",
              "99    Excited about this collaboration with @clear ....\n",
              "Name: tweet, Length: 100, dtype: object"
            ]
          },
          "metadata": {
            "tags": []
          },
          "execution_count": 9
        }
      ]
    },
    {
      "cell_type": "code",
      "metadata": {
        "colab": {
          "base_uri": "https://localhost:8080/"
        },
        "id": "X9_c9n0nfHJt",
        "outputId": "8b395db2-311a-4464-a051-88189b9a7294"
      },
      "source": [
        "import tensorflow as tf\n",
        "\n",
        "model = tf.keras.models.load_model('/content/drive/MyDrive/best_model')\n",
        "\n",
        "# view model architecture to confirm we have save and loaded correctly\n",
        "model.summary()"
      ],
      "execution_count": null,
      "outputs": [
        {
          "output_type": "stream",
          "text": [
            "Model: \"model\"\n",
            "__________________________________________________________________________________________________\n",
            "Layer (type)                    Output Shape         Param #     Connected to                     \n",
            "==================================================================================================\n",
            "input_ids (InputLayer)          [(None, 512)]        0                                            \n",
            "__________________________________________________________________________________________________\n",
            "attention_mask (InputLayer)     [(None, 512)]        0                                            \n",
            "__________________________________________________________________________________________________\n",
            "bert (Custom>TFBertMainLayer)   {'last_hidden_state' 109482240   input_ids[0][0]                  \n",
            "                                                                 attention_mask[0][0]             \n",
            "__________________________________________________________________________________________________\n",
            "dense (Dense)                   (None, 1024)         787456      bert[0][1]                       \n",
            "__________________________________________________________________________________________________\n",
            "dense_1 (Dense)                 (None, 512)          524800      dense[0][0]                      \n",
            "__________________________________________________________________________________________________\n",
            "dense_2 (Dense)                 (None, 256)          131328      dense_1[0][0]                    \n",
            "__________________________________________________________________________________________________\n",
            "dense_3 (Dense)                 (None, 128)          32896       dense_2[0][0]                    \n",
            "__________________________________________________________________________________________________\n",
            "dense_4 (Dense)                 (None, 128)          16512       dense_3[0][0]                    \n",
            "__________________________________________________________________________________________________\n",
            "dense_5 (Dense)                 (None, 64)           8256        dense_4[0][0]                    \n",
            "__________________________________________________________________________________________________\n",
            "dense_6 (Dense)                 (None, 32)           2080        dense_5[0][0]                    \n",
            "__________________________________________________________________________________________________\n",
            "dropout_37 (Dropout)            (None, 32)           0           dense_6[0][0]                    \n",
            "__________________________________________________________________________________________________\n",
            "outputs (Dense)                 (None, 7)            231         dropout_37[0][0]                 \n",
            "==================================================================================================\n",
            "Total params: 110,985,799\n",
            "Trainable params: 1,503,559\n",
            "Non-trainable params: 109,482,240\n",
            "__________________________________________________________________________________________________\n"
          ],
          "name": "stdout"
        }
      ]
    },
    {
      "cell_type": "code",
      "metadata": {
        "id": "8RtvkBGwNYul"
      },
      "source": [
        "# def sentiment_score(tweet):\n",
        "#     tokens = tokenizer.encode(tweet, return_tensors='pt')\n",
        "#     result = model(tokens)\n",
        "#     return int(torch.argmax(result.logits))+1"
      ],
      "execution_count": null,
      "outputs": []
    },
    {
      "cell_type": "code",
      "metadata": {
        "id": "BHIBv1yqNYum"
      },
      "source": [
        "# data = [input(\"Input your mail text\")]"
      ],
      "execution_count": null,
      "outputs": []
    },
    {
      "cell_type": "code",
      "metadata": {
        "id": "drqgzWV8NYup"
      },
      "source": [
        "# infl = load_model.predict(data)[0]"
      ],
      "execution_count": null,
      "outputs": []
    },
    {
      "cell_type": "code",
      "metadata": {
        "id": "domVBGZNNYur"
      },
      "source": [
        "# infl"
      ],
      "execution_count": null,
      "outputs": []
    },
    {
      "cell_type": "code",
      "metadata": {
        "colab": {
          "base_uri": "https://localhost:8080/",
          "height": 213,
          "referenced_widgets": [
            "e9c821f161274362b8cd31349a0798b6",
            "440e4016ec4040e698395e394e6fb803",
            "e421278cdbae47499c9d41acc6aebb39",
            "9cb00db58d2a48adb176013497fd53da",
            "5e3a55e5ea6648f5aeb859ad659c717e",
            "ed2ba07d6e2f4131b5861637be45e790",
            "32a70dd49d924231b82757de8fd93888",
            "cafe2e5cfbd046bc853186d1bdda6413",
            "57af504b75d44bafa4eaa3d851e7bb4a",
            "1366e5de278249499324c02787f74048",
            "fc24856baec54951b50583729078d5a5",
            "f797ff174b934171b6624c45ce5df5e5",
            "fb7ecd3078eb446db25ecc4d00d02305",
            "c863d46d6ccd4f2f90ed72ffd51b4960",
            "6a74df19968c4ae19588481e4f9447f1",
            "ca8203c7ca2e4e6591b7329b0890ce3c",
            "e47792af2f134f8f994c127a9d47b2fc",
            "968b52243eb84cff866f3e1c7677e95d",
            "9da544c4b1a548f0b3cfba56a5fc5a21",
            "b24496e8acd44cf999bd83217098a7b8",
            "5aeb8577afea420f903e4250e67ac3b8",
            "d581eca374b84f9bafce211a8a45d52d",
            "71975920e8fb424e83fe3b1f81822195",
            "125db2e6f3f44b29bee9c500b30929a1",
            "d08f28a150cd4a0fac9a422e903f285b",
            "d254db7a55994a3b86647ebf0fde2105",
            "2e10a3aed3fa4c0f950c6a4effbf444f",
            "37f09d4ce4134a08aea7ecf218cec302",
            "cc9f8c353ae34e749eb8474791e63038",
            "f90b0bd5141643f181365f5afb327a21",
            "1a87823768074499badf808587477fae",
            "8ce47dfc3b494760ad5f43e945c57acd"
          ]
        },
        "id": "bgnHpCSGflin",
        "outputId": "e15ebd24-ca2e-45be-af5f-54835de38001"
      },
      "source": [
        "from transformers import BertTokenizer\n",
        "\n",
        "tokenizer = BertTokenizer.from_pretrained('bert-base-uncased')\n",
        "\n",
        "def prep_data(text):\n",
        "    tokens = tokenizer.encode_plus(text, max_length=512,\n",
        "                                   truncation=True, padding='max_length',\n",
        "                                   add_special_tokens=True, return_token_type_ids=False,\n",
        "                                   return_tensors='tf')\n",
        "    # tokenizer returns int32 tensors, we need to return float64, so we use tf.cast\n",
        "    return {'input_ids': tf.cast(tokens['input_ids'], tf.float64),\n",
        "            'attention_mask': tf.cast(tokens['attention_mask'], tf.float64)}"
      ],
      "execution_count": null,
      "outputs": [
        {
          "output_type": "display_data",
          "data": {
            "application/vnd.jupyter.widget-view+json": {
              "model_id": "e9c821f161274362b8cd31349a0798b6",
              "version_minor": 0,
              "version_major": 2
            },
            "text/plain": [
              "HBox(children=(FloatProgress(value=0.0, description='Downloading', max=231508.0, style=ProgressStyle(descripti…"
            ]
          },
          "metadata": {
            "tags": []
          }
        },
        {
          "output_type": "stream",
          "text": [
            "\n"
          ],
          "name": "stdout"
        },
        {
          "output_type": "display_data",
          "data": {
            "application/vnd.jupyter.widget-view+json": {
              "model_id": "57af504b75d44bafa4eaa3d851e7bb4a",
              "version_minor": 0,
              "version_major": 2
            },
            "text/plain": [
              "HBox(children=(FloatProgress(value=0.0, description='Downloading', max=28.0, style=ProgressStyle(description_w…"
            ]
          },
          "metadata": {
            "tags": []
          }
        },
        {
          "output_type": "stream",
          "text": [
            "\n"
          ],
          "name": "stdout"
        },
        {
          "output_type": "display_data",
          "data": {
            "application/vnd.jupyter.widget-view+json": {
              "model_id": "e47792af2f134f8f994c127a9d47b2fc",
              "version_minor": 0,
              "version_major": 2
            },
            "text/plain": [
              "HBox(children=(FloatProgress(value=0.0, description='Downloading', max=466062.0, style=ProgressStyle(descripti…"
            ]
          },
          "metadata": {
            "tags": []
          }
        },
        {
          "output_type": "stream",
          "text": [
            "\n"
          ],
          "name": "stdout"
        },
        {
          "output_type": "display_data",
          "data": {
            "application/vnd.jupyter.widget-view+json": {
              "model_id": "d08f28a150cd4a0fac9a422e903f285b",
              "version_minor": 0,
              "version_major": 2
            },
            "text/plain": [
              "HBox(children=(FloatProgress(value=0.0, description='Downloading', max=570.0, style=ProgressStyle(description_…"
            ]
          },
          "metadata": {
            "tags": []
          }
        },
        {
          "output_type": "stream",
          "text": [
            "\n"
          ],
          "name": "stdout"
        }
      ]
    },
    {
      "cell_type": "code",
      "metadata": {
        "colab": {
          "base_uri": "https://localhost:8080/"
        },
        "id": "EubSe1eFfmX2",
        "outputId": "2d1393dc-392e-44a7-df55-f8f2769b24aa"
      },
      "source": [
        "stmt = input()\n",
        "probs = model.predict(prep_data(stmt))[0]\n",
        "\n",
        "probs"
      ],
      "execution_count": null,
      "outputs": [
        {
          "output_type": "stream",
          "text": [
            "dd\n"
          ],
          "name": "stdout"
        },
        {
          "output_type": "execute_result",
          "data": {
            "text/plain": [
              "array([3.5075027e-05, 2.1006996e-04, 9.5064344e-05, 1.6913256e-04,\n",
              "       6.4423610e-04, 3.3572639e-04, 9.9851066e-01], dtype=float32)"
            ]
          },
          "metadata": {
            "tags": []
          },
          "execution_count": 12
        }
      ]
    },
    {
      "cell_type": "code",
      "metadata": {
        "id": "ir9Lgx_uhsaS",
        "colab": {
          "base_uri": "https://localhost:8080/"
        },
        "outputId": "90dbebe8-dfa4-453c-a369-75c34900accd"
      },
      "source": [
        "import numpy as np\n",
        "\n",
        "np.argmax(probs)"
      ],
      "execution_count": null,
      "outputs": [
        {
          "output_type": "execute_result",
          "data": {
            "text/plain": [
              "6"
            ]
          },
          "metadata": {
            "tags": []
          },
          "execution_count": 13
        }
      ]
    },
    {
      "cell_type": "code",
      "metadata": {
        "id": "qhdvRGr1hP6L"
      },
      "source": [
        "def sentiment_score(tweet):\n",
        "    prob = model.predict(prep_data(tweet))[0]\n",
        "    mona = np.argmax(prob)+1\n",
        "    if prob[int(mona)-1] >= 0.94:\n",
        "      con ='Confident'\n",
        "    # elif prob[int(mona[0])-1] >= 0.5:\n",
        "    #   con ='Moderate'\n",
        "    else:\n",
        "      con ='Not confident'\n",
        "    # return mona,prob[0][int(mona[0])-1]\n",
        "    return mona,prob[int(mona)-1],con"
      ],
      "execution_count": null,
      "outputs": []
    },
    {
      "cell_type": "code",
      "metadata": {
        "id": "VASy9W5S029O"
      },
      "source": [
        "data = ['i want to marry you']"
      ],
      "execution_count": null,
      "outputs": []
    },
    {
      "cell_type": "code",
      "metadata": {
        "id": "tupA6btm0-d0",
        "colab": {
          "base_uri": "https://localhost:8080/"
        },
        "outputId": "81a9f971-8493-4cb3-f933-bded71665971"
      },
      "source": [
        "sentiment_score(data)"
      ],
      "execution_count": null,
      "outputs": [
        {
          "output_type": "execute_result",
          "data": {
            "text/plain": [
              "(7, 0.9991487, 'Confident')"
            ]
          },
          "metadata": {
            "tags": []
          },
          "execution_count": 17
        }
      ]
    },
    {
      "cell_type": "code",
      "metadata": {
        "id": "GsFEk5SfNYut",
        "colab": {
          "base_uri": "https://localhost:8080/"
        },
        "outputId": "e468d575-cb84-4271-cca6-482b50917ce0"
      },
      "source": [
        "sentiment_score(tt['tweet'].iloc[1])"
      ],
      "execution_count": null,
      "outputs": [
        {
          "output_type": "execute_result",
          "data": {
            "text/plain": [
              "(1, 0.8953059, 'Not confident')"
            ]
          },
          "metadata": {
            "tags": []
          },
          "execution_count": 15
        }
      ]
    },
    {
      "cell_type": "code",
      "metadata": {
        "id": "fwC1lTEkNYuu"
      },
      "source": [
        "tt['sentiment']  = tt['tweet'].apply(lambda x: sentiment_score(x[:500])[0])\n"
      ],
      "execution_count": null,
      "outputs": []
    },
    {
      "cell_type": "code",
      "metadata": {
        "id": "CB--d8EEGRwX"
      },
      "source": [
        "tt['probability'] = tt['tweet'].apply(lambda x: sentiment_score(x[:500])[1])"
      ],
      "execution_count": null,
      "outputs": []
    },
    {
      "cell_type": "code",
      "metadata": {
        "id": "qc23n8D9GShw"
      },
      "source": [
        "tt['Condition'] = tt['tweet'].apply(lambda x: sentiment_score(x[:500])[2])"
      ],
      "execution_count": null,
      "outputs": []
    },
    {
      "cell_type": "code",
      "metadata": {
        "id": "B8G8Pey1NYuv",
        "colab": {
          "base_uri": "https://localhost:8080/",
          "height": 779
        },
        "outputId": "144d8444-0a5e-4d5b-d15e-fcf5565dc668"
      },
      "source": [
        "tt"
      ],
      "execution_count": null,
      "outputs": [
        {
          "output_type": "execute_result",
          "data": {
            "text/html": [
              "<div>\n",
              "<style scoped>\n",
              "    .dataframe tbody tr th:only-of-type {\n",
              "        vertical-align: middle;\n",
              "    }\n",
              "\n",
              "    .dataframe tbody tr th {\n",
              "        vertical-align: top;\n",
              "    }\n",
              "\n",
              "    .dataframe thead th {\n",
              "        text-align: right;\n",
              "    }\n",
              "</style>\n",
              "<table border=\"1\" class=\"dataframe\">\n",
              "  <thead>\n",
              "    <tr style=\"text-align: right;\">\n",
              "      <th></th>\n",
              "      <th>id</th>\n",
              "      <th>conversation_id</th>\n",
              "      <th>created_at</th>\n",
              "      <th>date</th>\n",
              "      <th>timezone</th>\n",
              "      <th>place</th>\n",
              "      <th>tweet</th>\n",
              "      <th>language</th>\n",
              "      <th>hashtags</th>\n",
              "      <th>cashtags</th>\n",
              "      <th>user_id</th>\n",
              "      <th>user_id_str</th>\n",
              "      <th>username</th>\n",
              "      <th>name</th>\n",
              "      <th>day</th>\n",
              "      <th>hour</th>\n",
              "      <th>link</th>\n",
              "      <th>urls</th>\n",
              "      <th>photos</th>\n",
              "      <th>video</th>\n",
              "      <th>thumbnail</th>\n",
              "      <th>retweet</th>\n",
              "      <th>nlikes</th>\n",
              "      <th>nreplies</th>\n",
              "      <th>nretweets</th>\n",
              "      <th>quote_url</th>\n",
              "      <th>search</th>\n",
              "      <th>near</th>\n",
              "      <th>geo</th>\n",
              "      <th>source</th>\n",
              "      <th>user_rt_id</th>\n",
              "      <th>user_rt</th>\n",
              "      <th>retweet_id</th>\n",
              "      <th>reply_to</th>\n",
              "      <th>retweet_date</th>\n",
              "      <th>translate</th>\n",
              "      <th>trans_src</th>\n",
              "      <th>trans_dest</th>\n",
              "      <th>sentiment</th>\n",
              "      <th>probability</th>\n",
              "      <th>Condition</th>\n",
              "    </tr>\n",
              "  </thead>\n",
              "  <tbody>\n",
              "    <tr>\n",
              "      <th>0</th>\n",
              "      <td>1418257821041414145</td>\n",
              "      <td>1418257821041414145</td>\n",
              "      <td>1.626974e+12</td>\n",
              "      <td>2021-07-22 17:13:09</td>\n",
              "      <td>+0000</td>\n",
              "      <td></td>\n",
              "      <td>My beautiful queen ❤️  https://t.co/Jmbld6ySq7</td>\n",
              "      <td>en</td>\n",
              "      <td>[]</td>\n",
              "      <td>[]</td>\n",
              "      <td>155659213</td>\n",
              "      <td>155659213</td>\n",
              "      <td>Cristiano</td>\n",
              "      <td>Cristiano Ronaldo</td>\n",
              "      <td>4</td>\n",
              "      <td>17</td>\n",
              "      <td>https://twitter.com/Cristiano/status/141825782...</td>\n",
              "      <td>[]</td>\n",
              "      <td>[https://pbs.twimg.com/media/E66p-BrXIAMhsTS.jpg]</td>\n",
              "      <td>1</td>\n",
              "      <td>https://pbs.twimg.com/media/E66p-BrXIAMhsTS.jpg</td>\n",
              "      <td>False</td>\n",
              "      <td>450689</td>\n",
              "      <td>6422</td>\n",
              "      <td>18890</td>\n",
              "      <td></td>\n",
              "      <td>None</td>\n",
              "      <td></td>\n",
              "      <td></td>\n",
              "      <td></td>\n",
              "      <td></td>\n",
              "      <td></td>\n",
              "      <td></td>\n",
              "      <td>[]</td>\n",
              "      <td></td>\n",
              "      <td></td>\n",
              "      <td></td>\n",
              "      <td></td>\n",
              "      <td>5</td>\n",
              "      <td>0.787187</td>\n",
              "      <td>Not confident</td>\n",
              "    </tr>\n",
              "    <tr>\n",
              "      <th>1</th>\n",
              "      <td>1416076947680026633</td>\n",
              "      <td>1416076947680026633</td>\n",
              "      <td>1.626454e+12</td>\n",
              "      <td>2021-07-16 16:47:08</td>\n",
              "      <td>+0000</td>\n",
              "      <td></td>\n",
              "      <td>A good weekend to everyone 😎🙏🏽  https://t.co/B...</td>\n",
              "      <td>en</td>\n",
              "      <td>[]</td>\n",
              "      <td>[]</td>\n",
              "      <td>155659213</td>\n",
              "      <td>155659213</td>\n",
              "      <td>Cristiano</td>\n",
              "      <td>Cristiano Ronaldo</td>\n",
              "      <td>5</td>\n",
              "      <td>16</td>\n",
              "      <td>https://twitter.com/Cristiano/status/141607694...</td>\n",
              "      <td>[]</td>\n",
              "      <td>[https://pbs.twimg.com/media/E6bqeiUXoAk6z5L.jpg]</td>\n",
              "      <td>1</td>\n",
              "      <td>https://pbs.twimg.com/media/E6bqeiUXoAk6z5L.jpg</td>\n",
              "      <td>False</td>\n",
              "      <td>469456</td>\n",
              "      <td>8034</td>\n",
              "      <td>19990</td>\n",
              "      <td></td>\n",
              "      <td>None</td>\n",
              "      <td></td>\n",
              "      <td></td>\n",
              "      <td></td>\n",
              "      <td></td>\n",
              "      <td></td>\n",
              "      <td></td>\n",
              "      <td>[]</td>\n",
              "      <td></td>\n",
              "      <td></td>\n",
              "      <td></td>\n",
              "      <td></td>\n",
              "      <td>1</td>\n",
              "      <td>0.895306</td>\n",
              "      <td>Not confident</td>\n",
              "    </tr>\n",
              "    <tr>\n",
              "      <th>2</th>\n",
              "      <td>1414933377434767361</td>\n",
              "      <td>1414933377434767361</td>\n",
              "      <td>1.626181e+12</td>\n",
              "      <td>2021-07-13 13:03:00</td>\n",
              "      <td>+0000</td>\n",
              "      <td></td>\n",
              "      <td>My love 💙  https://t.co/PH7gPrWYxT</td>\n",
              "      <td>en</td>\n",
              "      <td>[]</td>\n",
              "      <td>[]</td>\n",
              "      <td>155659213</td>\n",
              "      <td>155659213</td>\n",
              "      <td>Cristiano</td>\n",
              "      <td>Cristiano Ronaldo</td>\n",
              "      <td>2</td>\n",
              "      <td>13</td>\n",
              "      <td>https://twitter.com/Cristiano/status/141493337...</td>\n",
              "      <td>[]</td>\n",
              "      <td>[https://pbs.twimg.com/media/E6LaZ7PXsAIss3M.jpg]</td>\n",
              "      <td>1</td>\n",
              "      <td>https://pbs.twimg.com/media/E6LaZ7PXsAIss3M.jpg</td>\n",
              "      <td>False</td>\n",
              "      <td>537655</td>\n",
              "      <td>6528</td>\n",
              "      <td>21653</td>\n",
              "      <td></td>\n",
              "      <td>None</td>\n",
              "      <td></td>\n",
              "      <td></td>\n",
              "      <td></td>\n",
              "      <td></td>\n",
              "      <td></td>\n",
              "      <td></td>\n",
              "      <td>[]</td>\n",
              "      <td></td>\n",
              "      <td></td>\n",
              "      <td></td>\n",
              "      <td></td>\n",
              "      <td>5</td>\n",
              "      <td>0.609789</td>\n",
              "      <td>Not confident</td>\n",
              "    </tr>\n",
              "    <tr>\n",
              "      <th>3</th>\n",
              "      <td>1414194896219648000</td>\n",
              "      <td>1414194896219648000</td>\n",
              "      <td>1.626005e+12</td>\n",
              "      <td>2021-07-11 12:08:32</td>\n",
              "      <td>+0000</td>\n",
              "      <td></td>\n",
              "      <td>Se você tiver o “ter” sem o “ser”, não pertenc...</td>\n",
              "      <td>pt</td>\n",
              "      <td>[lr]</td>\n",
              "      <td>[]</td>\n",
              "      <td>155659213</td>\n",
              "      <td>155659213</td>\n",
              "      <td>Cristiano</td>\n",
              "      <td>Cristiano Ronaldo</td>\n",
              "      <td>7</td>\n",
              "      <td>12</td>\n",
              "      <td>https://twitter.com/Cristiano/status/141419489...</td>\n",
              "      <td>[]</td>\n",
              "      <td>[https://pbs.twimg.com/media/E6A6wskXIAAo7kf.jpg]</td>\n",
              "      <td>1</td>\n",
              "      <td>https://pbs.twimg.com/media/E6A6wskXIAAo7kf.jpg</td>\n",
              "      <td>False</td>\n",
              "      <td>186094</td>\n",
              "      <td>5033</td>\n",
              "      <td>9625</td>\n",
              "      <td></td>\n",
              "      <td>None</td>\n",
              "      <td></td>\n",
              "      <td></td>\n",
              "      <td></td>\n",
              "      <td></td>\n",
              "      <td></td>\n",
              "      <td></td>\n",
              "      <td>[]</td>\n",
              "      <td></td>\n",
              "      <td></td>\n",
              "      <td></td>\n",
              "      <td></td>\n",
              "      <td>5</td>\n",
              "      <td>0.565301</td>\n",
              "      <td>Not confident</td>\n",
              "    </tr>\n",
              "    <tr>\n",
              "      <th>4</th>\n",
              "      <td>1413187283512176642</td>\n",
              "      <td>1413187283512176642</td>\n",
              "      <td>1.625765e+12</td>\n",
              "      <td>2021-07-08 17:24:38</td>\n",
              "      <td>+0000</td>\n",
              "      <td></td>\n",
              "      <td>Peace of mind 🌊  https://t.co/LuCcZ8DlaC</td>\n",
              "      <td>en</td>\n",
              "      <td>[]</td>\n",
              "      <td>[]</td>\n",
              "      <td>155659213</td>\n",
              "      <td>155659213</td>\n",
              "      <td>Cristiano</td>\n",
              "      <td>Cristiano Ronaldo</td>\n",
              "      <td>4</td>\n",
              "      <td>17</td>\n",
              "      <td>https://twitter.com/Cristiano/status/141318728...</td>\n",
              "      <td>[]</td>\n",
              "      <td>[https://pbs.twimg.com/media/E5ymVsMX0AEnG8j.jpg]</td>\n",
              "      <td>1</td>\n",
              "      <td>https://pbs.twimg.com/media/E5ymVsMX0AEnG8j.jpg</td>\n",
              "      <td>False</td>\n",
              "      <td>264358</td>\n",
              "      <td>3560</td>\n",
              "      <td>11422</td>\n",
              "      <td></td>\n",
              "      <td>None</td>\n",
              "      <td></td>\n",
              "      <td></td>\n",
              "      <td></td>\n",
              "      <td></td>\n",
              "      <td></td>\n",
              "      <td></td>\n",
              "      <td>[]</td>\n",
              "      <td></td>\n",
              "      <td></td>\n",
              "      <td></td>\n",
              "      <td></td>\n",
              "      <td>5</td>\n",
              "      <td>0.745395</td>\n",
              "      <td>Not confident</td>\n",
              "    </tr>\n",
              "    <tr>\n",
              "      <th>...</th>\n",
              "      <td>...</td>\n",
              "      <td>...</td>\n",
              "      <td>...</td>\n",
              "      <td>...</td>\n",
              "      <td>...</td>\n",
              "      <td>...</td>\n",
              "      <td>...</td>\n",
              "      <td>...</td>\n",
              "      <td>...</td>\n",
              "      <td>...</td>\n",
              "      <td>...</td>\n",
              "      <td>...</td>\n",
              "      <td>...</td>\n",
              "      <td>...</td>\n",
              "      <td>...</td>\n",
              "      <td>...</td>\n",
              "      <td>...</td>\n",
              "      <td>...</td>\n",
              "      <td>...</td>\n",
              "      <td>...</td>\n",
              "      <td>...</td>\n",
              "      <td>...</td>\n",
              "      <td>...</td>\n",
              "      <td>...</td>\n",
              "      <td>...</td>\n",
              "      <td>...</td>\n",
              "      <td>...</td>\n",
              "      <td>...</td>\n",
              "      <td>...</td>\n",
              "      <td>...</td>\n",
              "      <td>...</td>\n",
              "      <td>...</td>\n",
              "      <td>...</td>\n",
              "      <td>...</td>\n",
              "      <td>...</td>\n",
              "      <td>...</td>\n",
              "      <td>...</td>\n",
              "      <td>...</td>\n",
              "      <td>...</td>\n",
              "      <td>...</td>\n",
              "      <td>...</td>\n",
              "    </tr>\n",
              "    <tr>\n",
              "      <th>95</th>\n",
              "      <td>1326853175274561537</td>\n",
              "      <td>1326853175274561537</td>\n",
              "      <td>1.605181e+12</td>\n",
              "      <td>2020-11-12 11:43:43</td>\n",
              "      <td>+0000</td>\n",
              "      <td></td>\n",
              "      <td>Gracias por llegar a nuestras vidas y llenarlo...</td>\n",
              "      <td>es</td>\n",
              "      <td>[]</td>\n",
              "      <td>[]</td>\n",
              "      <td>155659213</td>\n",
              "      <td>155659213</td>\n",
              "      <td>Cristiano</td>\n",
              "      <td>Cristiano Ronaldo</td>\n",
              "      <td>4</td>\n",
              "      <td>11</td>\n",
              "      <td>https://twitter.com/Cristiano/status/132685317...</td>\n",
              "      <td>[]</td>\n",
              "      <td>[https://pbs.twimg.com/media/Emnt7S-XIAAFDo_.jpg]</td>\n",
              "      <td>1</td>\n",
              "      <td>https://pbs.twimg.com/media/Emnt7S-XIAAFDo_.jpg</td>\n",
              "      <td>False</td>\n",
              "      <td>233988</td>\n",
              "      <td>2693</td>\n",
              "      <td>5824</td>\n",
              "      <td></td>\n",
              "      <td>None</td>\n",
              "      <td></td>\n",
              "      <td></td>\n",
              "      <td></td>\n",
              "      <td></td>\n",
              "      <td></td>\n",
              "      <td></td>\n",
              "      <td>[]</td>\n",
              "      <td></td>\n",
              "      <td></td>\n",
              "      <td></td>\n",
              "      <td></td>\n",
              "      <td>5</td>\n",
              "      <td>0.738190</td>\n",
              "      <td>Not confident</td>\n",
              "    </tr>\n",
              "    <tr>\n",
              "      <th>96</th>\n",
              "      <td>1326664085308575744</td>\n",
              "      <td>1326664085308575744</td>\n",
              "      <td>1.605136e+12</td>\n",
              "      <td>2020-11-11 23:12:20</td>\n",
              "      <td>+0000</td>\n",
              "      <td></td>\n",
              "      <td>Feliz por atingir mais uma marca histórica com...</td>\n",
              "      <td>pt</td>\n",
              "      <td>[]</td>\n",
              "      <td>[]</td>\n",
              "      <td>155659213</td>\n",
              "      <td>155659213</td>\n",
              "      <td>Cristiano</td>\n",
              "      <td>Cristiano Ronaldo</td>\n",
              "      <td>3</td>\n",
              "      <td>23</td>\n",
              "      <td>https://twitter.com/Cristiano/status/132666408...</td>\n",
              "      <td>[]</td>\n",
              "      <td>[https://pbs.twimg.com/media/EmlB83rXMAQJGpR.j...</td>\n",
              "      <td>1</td>\n",
              "      <td>https://pbs.twimg.com/media/EmlB83rXMAQJGpR.jpg</td>\n",
              "      <td>False</td>\n",
              "      <td>190823</td>\n",
              "      <td>1944</td>\n",
              "      <td>9687</td>\n",
              "      <td></td>\n",
              "      <td>None</td>\n",
              "      <td></td>\n",
              "      <td></td>\n",
              "      <td></td>\n",
              "      <td></td>\n",
              "      <td></td>\n",
              "      <td></td>\n",
              "      <td>[]</td>\n",
              "      <td></td>\n",
              "      <td></td>\n",
              "      <td></td>\n",
              "      <td></td>\n",
              "      <td>5</td>\n",
              "      <td>0.413295</td>\n",
              "      <td>Not confident</td>\n",
              "    </tr>\n",
              "    <tr>\n",
              "      <th>97</th>\n",
              "      <td>1326170869840949248</td>\n",
              "      <td>1326170869840949248</td>\n",
              "      <td>1.605019e+12</td>\n",
              "      <td>2020-11-10 14:32:29</td>\n",
              "      <td>+0000</td>\n",
              "      <td></td>\n",
              "      <td>Feliz por estar de volta a casa! 🇵🇹💪🏽 #todospo...</td>\n",
              "      <td>pt</td>\n",
              "      <td>[todosportugal]</td>\n",
              "      <td>[]</td>\n",
              "      <td>155659213</td>\n",
              "      <td>155659213</td>\n",
              "      <td>Cristiano</td>\n",
              "      <td>Cristiano Ronaldo</td>\n",
              "      <td>2</td>\n",
              "      <td>14</td>\n",
              "      <td>https://twitter.com/Cristiano/status/132617086...</td>\n",
              "      <td>[]</td>\n",
              "      <td>[https://pbs.twimg.com/media/EmeBX1wXYAA0QRV.j...</td>\n",
              "      <td>1</td>\n",
              "      <td>https://pbs.twimg.com/media/EmeBX1wXYAA0QRV.jpg</td>\n",
              "      <td>False</td>\n",
              "      <td>147625</td>\n",
              "      <td>1787</td>\n",
              "      <td>5892</td>\n",
              "      <td></td>\n",
              "      <td>None</td>\n",
              "      <td></td>\n",
              "      <td></td>\n",
              "      <td></td>\n",
              "      <td></td>\n",
              "      <td></td>\n",
              "      <td></td>\n",
              "      <td>[]</td>\n",
              "      <td></td>\n",
              "      <td></td>\n",
              "      <td></td>\n",
              "      <td></td>\n",
              "      <td>5</td>\n",
              "      <td>0.623682</td>\n",
              "      <td>Not confident</td>\n",
              "    </tr>\n",
              "    <tr>\n",
              "      <th>98</th>\n",
              "      <td>1325467261239431170</td>\n",
              "      <td>1325467261239431170</td>\n",
              "      <td>1.604851e+12</td>\n",
              "      <td>2020-11-08 15:56:35</td>\n",
              "      <td>+0000</td>\n",
              "      <td></td>\n",
              "      <td>Head up and believe in the work we’re doing! 💪...</td>\n",
              "      <td>en</td>\n",
              "      <td>[finoallafine]</td>\n",
              "      <td>[]</td>\n",
              "      <td>155659213</td>\n",
              "      <td>155659213</td>\n",
              "      <td>Cristiano</td>\n",
              "      <td>Cristiano Ronaldo</td>\n",
              "      <td>7</td>\n",
              "      <td>15</td>\n",
              "      <td>https://twitter.com/Cristiano/status/132546726...</td>\n",
              "      <td>[]</td>\n",
              "      <td>[https://pbs.twimg.com/media/EmUBcnbWEAAr9Ri.j...</td>\n",
              "      <td>1</td>\n",
              "      <td>https://pbs.twimg.com/media/EmUBcnbWEAAr9Ri.jpg</td>\n",
              "      <td>False</td>\n",
              "      <td>186214</td>\n",
              "      <td>2400</td>\n",
              "      <td>6786</td>\n",
              "      <td></td>\n",
              "      <td>None</td>\n",
              "      <td></td>\n",
              "      <td></td>\n",
              "      <td></td>\n",
              "      <td></td>\n",
              "      <td></td>\n",
              "      <td></td>\n",
              "      <td>[]</td>\n",
              "      <td></td>\n",
              "      <td></td>\n",
              "      <td></td>\n",
              "      <td></td>\n",
              "      <td>5</td>\n",
              "      <td>0.532002</td>\n",
              "      <td>Not confident</td>\n",
              "    </tr>\n",
              "    <tr>\n",
              "      <th>99</th>\n",
              "      <td>1324642588352221185</td>\n",
              "      <td>1324642588352221185</td>\n",
              "      <td>1.604654e+12</td>\n",
              "      <td>2020-11-06 09:19:38</td>\n",
              "      <td>+0000</td>\n",
              "      <td></td>\n",
              "      <td>Excited about this collaboration with @clear ....</td>\n",
              "      <td>en</td>\n",
              "      <td>[comebackstronger, madelegend, legendshampoo, ...</td>\n",
              "      <td>[]</td>\n",
              "      <td>155659213</td>\n",
              "      <td>155659213</td>\n",
              "      <td>Cristiano</td>\n",
              "      <td>Cristiano Ronaldo</td>\n",
              "      <td>5</td>\n",
              "      <td>09</td>\n",
              "      <td>https://twitter.com/Cristiano/status/132464258...</td>\n",
              "      <td>[]</td>\n",
              "      <td>[]</td>\n",
              "      <td>1</td>\n",
              "      <td>https://pbs.twimg.com/ext_tw_video_thumb/13246...</td>\n",
              "      <td>False</td>\n",
              "      <td>49982</td>\n",
              "      <td>1415</td>\n",
              "      <td>2000</td>\n",
              "      <td></td>\n",
              "      <td>None</td>\n",
              "      <td></td>\n",
              "      <td></td>\n",
              "      <td></td>\n",
              "      <td></td>\n",
              "      <td></td>\n",
              "      <td></td>\n",
              "      <td>[]</td>\n",
              "      <td></td>\n",
              "      <td></td>\n",
              "      <td></td>\n",
              "      <td></td>\n",
              "      <td>5</td>\n",
              "      <td>0.459502</td>\n",
              "      <td>Not confident</td>\n",
              "    </tr>\n",
              "  </tbody>\n",
              "</table>\n",
              "<p>100 rows × 41 columns</p>\n",
              "</div>"
            ],
            "text/plain": [
              "                     id      conversation_id  ...  probability      Condition\n",
              "0   1418257821041414145  1418257821041414145  ...     0.787187  Not confident\n",
              "1   1416076947680026633  1416076947680026633  ...     0.895306  Not confident\n",
              "2   1414933377434767361  1414933377434767361  ...     0.609789  Not confident\n",
              "3   1414194896219648000  1414194896219648000  ...     0.565301  Not confident\n",
              "4   1413187283512176642  1413187283512176642  ...     0.745395  Not confident\n",
              "..                  ...                  ...  ...          ...            ...\n",
              "95  1326853175274561537  1326853175274561537  ...     0.738190  Not confident\n",
              "96  1326664085308575744  1326664085308575744  ...     0.413295  Not confident\n",
              "97  1326170869840949248  1326170869840949248  ...     0.623682  Not confident\n",
              "98  1325467261239431170  1325467261239431170  ...     0.532002  Not confident\n",
              "99  1324642588352221185  1324642588352221185  ...     0.459502  Not confident\n",
              "\n",
              "[100 rows x 41 columns]"
            ]
          },
          "metadata": {
            "tags": []
          },
          "execution_count": 19
        }
      ]
    },
    {
      "cell_type": "code",
      "metadata": {
        "id": "Q7xXNa6rNYuv"
      },
      "source": [
        "import pandas as pd"
      ],
      "execution_count": null,
      "outputs": []
    },
    {
      "cell_type": "code",
      "metadata": {
        "id": "WEgH-sT8NYuw"
      },
      "source": [
        "tt.to_excel(\"cial6_tinder_tweet_10000.xlsx\")"
      ],
      "execution_count": null,
      "outputs": []
    },
    {
      "cell_type": "code",
      "metadata": {
        "id": "wTJgvX4OCgUv"
      },
      "source": [
        "# tt.iloc[:, [7,39,40,41]].values"
      ],
      "execution_count": null,
      "outputs": []
    },
    {
      "cell_type": "code",
      "metadata": {
        "id": "xZKuqX0F_PVE"
      },
      "source": [
        "dataset = pd.read_excel('/content/cial6_tinder_tweet_10000.xlsx')\n",
        "X_train = dataset.iloc[:, [7,39,40,41]].values"
      ],
      "execution_count": null,
      "outputs": []
    },
    {
      "cell_type": "code",
      "metadata": {
        "colab": {
          "base_uri": "https://localhost:8080/",
          "height": 419
        },
        "id": "V4lB4C7yDZ4S",
        "outputId": "c772ba1c-426c-4b4d-8a5c-aae585b79115"
      },
      "source": [
        "title = ['Tweet', 'Sentiment', 'Probability', 'Confidence']\n",
        "\n",
        "df = pd.DataFrame(X_train, columns = title)\n",
        "df"
      ],
      "execution_count": null,
      "outputs": [
        {
          "output_type": "execute_result",
          "data": {
            "text/html": [
              "<div>\n",
              "<style scoped>\n",
              "    .dataframe tbody tr th:only-of-type {\n",
              "        vertical-align: middle;\n",
              "    }\n",
              "\n",
              "    .dataframe tbody tr th {\n",
              "        vertical-align: top;\n",
              "    }\n",
              "\n",
              "    .dataframe thead th {\n",
              "        text-align: right;\n",
              "    }\n",
              "</style>\n",
              "<table border=\"1\" class=\"dataframe\">\n",
              "  <thead>\n",
              "    <tr style=\"text-align: right;\">\n",
              "      <th></th>\n",
              "      <th>Tweet</th>\n",
              "      <th>Sentiment</th>\n",
              "      <th>Probability</th>\n",
              "      <th>Confidence</th>\n",
              "    </tr>\n",
              "  </thead>\n",
              "  <tbody>\n",
              "    <tr>\n",
              "      <th>0</th>\n",
              "      <td>My beautiful queen ❤️  https://t.co/Jmbld6ySq7</td>\n",
              "      <td>5</td>\n",
              "      <td>0.787187</td>\n",
              "      <td>Not confident</td>\n",
              "    </tr>\n",
              "    <tr>\n",
              "      <th>1</th>\n",
              "      <td>A good weekend to everyone 😎🙏🏽  https://t.co/B...</td>\n",
              "      <td>1</td>\n",
              "      <td>0.895306</td>\n",
              "      <td>Not confident</td>\n",
              "    </tr>\n",
              "    <tr>\n",
              "      <th>2</th>\n",
              "      <td>My love 💙  https://t.co/PH7gPrWYxT</td>\n",
              "      <td>5</td>\n",
              "      <td>0.609789</td>\n",
              "      <td>Not confident</td>\n",
              "    </tr>\n",
              "    <tr>\n",
              "      <th>3</th>\n",
              "      <td>Se você tiver o “ter” sem o “ser”, não pertenc...</td>\n",
              "      <td>5</td>\n",
              "      <td>0.565301</td>\n",
              "      <td>Not confident</td>\n",
              "    </tr>\n",
              "    <tr>\n",
              "      <th>4</th>\n",
              "      <td>Peace of mind 🌊  https://t.co/LuCcZ8DlaC</td>\n",
              "      <td>5</td>\n",
              "      <td>0.745395</td>\n",
              "      <td>Not confident</td>\n",
              "    </tr>\n",
              "    <tr>\n",
              "      <th>...</th>\n",
              "      <td>...</td>\n",
              "      <td>...</td>\n",
              "      <td>...</td>\n",
              "      <td>...</td>\n",
              "    </tr>\n",
              "    <tr>\n",
              "      <th>95</th>\n",
              "      <td>Gracias por llegar a nuestras vidas y llenarlo...</td>\n",
              "      <td>5</td>\n",
              "      <td>0.73819</td>\n",
              "      <td>Not confident</td>\n",
              "    </tr>\n",
              "    <tr>\n",
              "      <th>96</th>\n",
              "      <td>Feliz por atingir mais uma marca histórica com...</td>\n",
              "      <td>5</td>\n",
              "      <td>0.413295</td>\n",
              "      <td>Not confident</td>\n",
              "    </tr>\n",
              "    <tr>\n",
              "      <th>97</th>\n",
              "      <td>Feliz por estar de volta a casa! 🇵🇹💪🏽 #todospo...</td>\n",
              "      <td>5</td>\n",
              "      <td>0.623682</td>\n",
              "      <td>Not confident</td>\n",
              "    </tr>\n",
              "    <tr>\n",
              "      <th>98</th>\n",
              "      <td>Head up and believe in the work we’re doing! 💪...</td>\n",
              "      <td>5</td>\n",
              "      <td>0.532002</td>\n",
              "      <td>Not confident</td>\n",
              "    </tr>\n",
              "    <tr>\n",
              "      <th>99</th>\n",
              "      <td>Excited about this collaboration with @clear ....</td>\n",
              "      <td>5</td>\n",
              "      <td>0.459502</td>\n",
              "      <td>Not confident</td>\n",
              "    </tr>\n",
              "  </tbody>\n",
              "</table>\n",
              "<p>100 rows × 4 columns</p>\n",
              "</div>"
            ],
            "text/plain": [
              "                                                Tweet  ...     Confidence\n",
              "0      My beautiful queen ❤️  https://t.co/Jmbld6ySq7  ...  Not confident\n",
              "1   A good weekend to everyone 😎🙏🏽  https://t.co/B...  ...  Not confident\n",
              "2                  My love 💙  https://t.co/PH7gPrWYxT  ...  Not confident\n",
              "3   Se você tiver o “ter” sem o “ser”, não pertenc...  ...  Not confident\n",
              "4            Peace of mind 🌊  https://t.co/LuCcZ8DlaC  ...  Not confident\n",
              "..                                                ...  ...            ...\n",
              "95  Gracias por llegar a nuestras vidas y llenarlo...  ...  Not confident\n",
              "96  Feliz por atingir mais uma marca histórica com...  ...  Not confident\n",
              "97  Feliz por estar de volta a casa! 🇵🇹💪🏽 #todospo...  ...  Not confident\n",
              "98  Head up and believe in the work we’re doing! 💪...  ...  Not confident\n",
              "99  Excited about this collaboration with @clear ....  ...  Not confident\n",
              "\n",
              "[100 rows x 4 columns]"
            ]
          },
          "metadata": {
            "tags": []
          },
          "execution_count": 24
        }
      ]
    },
    {
      "cell_type": "code",
      "metadata": {
        "id": "yjGljjV_AIM_"
      },
      "source": [
        "# pd.DataFrame(X_train).to_excel(\"tesla_tweets.xlsx\", header=False, index=False)\n",
        "\n",
        "df.to_excel(\"/content/cial6_tinder_tweet_10000.xlsx\")"
      ],
      "execution_count": null,
      "outputs": []
    },
    {
      "cell_type": "code",
      "metadata": {
        "colab": {
          "base_uri": "https://localhost:8080/"
        },
        "id": "SNF2XI1dLTLy",
        "outputId": "e0a7fac0-5057-4aca-dd08-5a48976bd89e"
      },
      "source": [
        "# df = pd.DataFrame(dataset, columns= ['Tweet','Sentiment','Prabability', 'Confidence'])\n",
        "confident_tesla = df.loc[df['Confidence'] == 'Confident']\n",
        "print (confident_tesla)"
      ],
      "execution_count": null,
      "outputs": [
        {
          "output_type": "stream",
          "text": [
            "                                                Tweet  ... Confidence\n",
            "28  The usual 🤷🏽‍♂️😅 ssssiiiimmmm 💪🏽 #winningteam ...  ...  Confident\n",
            "73  One last Christmas gift: Today we reopen @Pest...  ...  Confident\n",
            "74  We wish you a Merry Christmas!! Full of love, ...  ...  Confident\n",
            "\n",
            "[3 rows x 4 columns]\n"
          ],
          "name": "stdout"
        }
      ]
    },
    {
      "cell_type": "code",
      "metadata": {
        "id": "OxOJxCSOSfky"
      },
      "source": [
        "confident_tesla.to_excel(\"/content/test_data(Marriott Hotels).xlsx\")"
      ],
      "execution_count": null,
      "outputs": []
    },
    {
      "cell_type": "code",
      "metadata": {
        "id": "IlPjUdHhUKrR"
      },
      "source": [
        ""
      ],
      "execution_count": null,
      "outputs": []
    }
  ]
}