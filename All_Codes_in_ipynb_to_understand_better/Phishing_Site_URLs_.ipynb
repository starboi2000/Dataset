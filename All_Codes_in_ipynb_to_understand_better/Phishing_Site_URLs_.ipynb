{
  "nbformat": 4,
  "nbformat_minor": 0,
  "metadata": {
    "kernelspec": {
      "display_name": "Python 3",
      "language": "python",
      "name": "python3"
    },
    "language_info": {
      "codemirror_mode": {
        "name": "ipython",
        "version": 3
      },
      "file_extension": ".py",
      "mimetype": "text/x-python",
      "name": "python",
      "nbconvert_exporter": "python",
      "pygments_lexer": "ipython3",
      "version": "3.8.0"
    },
    "varInspector": {
      "cols": {
        "lenName": 16,
        "lenType": 16,
        "lenVar": 40
      },
      "kernels_config": {
        "python": {
          "delete_cmd_postfix": "",
          "delete_cmd_prefix": "del ",
          "library": "var_list.py",
          "varRefreshCmd": "print(var_dic_list())"
        },
        "r": {
          "delete_cmd_postfix": ") ",
          "delete_cmd_prefix": "rm(",
          "library": "var_list.r",
          "varRefreshCmd": "cat(var_dic_list()) "
        }
      },
      "types_to_exclude": [
        "module",
        "function",
        "builtin_function_or_method",
        "instance",
        "_Feature"
      ],
      "window_display": false
    },
    "colab": {
      "name": "Phishing Site URLs .ipynb",
      "provenance": [],
      "collapsed_sections": [
        "mGr80KF_OhEu"
      ]
    },
    "accelerator": "GPU"
  },
  "cells": [
    {
      "cell_type": "markdown",
      "metadata": {
        "id": "Wc3mt-4zOhEX"
      },
      "source": [
        "##### * Importing some useful libraries"
      ]
    },
    {
      "cell_type": "code",
      "metadata": {
        "colab": {
          "base_uri": "https://localhost:8080/",
          "height": 35
        },
        "id": "z3UrloBt5E7w",
        "outputId": "32a7261c-f38c-4c03-be82-5ccec0c41d37"
      },
      "source": [
        "import tensorflow as tf\n",
        "tf.test.gpu_device_name()"
      ],
      "execution_count": null,
      "outputs": [
        {
          "output_type": "execute_result",
          "data": {
            "application/vnd.google.colaboratory.intrinsic+json": {
              "type": "string"
            },
            "text/plain": [
              "'/device:GPU:0'"
            ]
          },
          "metadata": {
            "tags": []
          },
          "execution_count": 2
        }
      ]
    },
    {
      "cell_type": "code",
      "metadata": {
        "scrolled": true,
        "id": "C__uyX1aOhEY"
      },
      "source": [
        "import pandas as pd # use for data manipulation and analysis\n",
        "import numpy as np # use for multi-dimensional array and matrix\n",
        "\n",
        "import seaborn as sns # use for high-level interface for drawing attractive and informative statistical graphics \n",
        "import matplotlib.pyplot as plt # It provides an object-oriented API for embedding plots into applications\n",
        "%matplotlib inline \n",
        "# It sets the backend of matplotlib to the 'inline' backend:\n",
        "import time # calculate time \n",
        "\n",
        "from sklearn.linear_model import LogisticRegression # algo use to predict good or bad\n",
        "from sklearn.naive_bayes import MultinomialNB # nlp algo use to predict good or bad\n",
        "\n",
        "from sklearn.model_selection import train_test_split # spliting the data between feature and target\n",
        "from sklearn.metrics import classification_report # gives whole report about metrics (e.g, recall,precision,f1_score,c_m)\n",
        "from sklearn.metrics import confusion_matrix # gives info about actual and predict\n",
        "from nltk.tokenize import RegexpTokenizer # regexp tokenizers use to split words from text  \n",
        "from nltk.stem.snowball import SnowballStemmer # stemmes words\n",
        "from sklearn.feature_extraction.text import CountVectorizer # create sparse matrix of words using regexptokenizes  \n",
        "from sklearn.pipeline import make_pipeline # use for combining all prerocessors techniuqes and algos\n",
        "\n",
        "from PIL import Image # getting images in notebook\n",
        "# from wordcloud import WordCloud, STOPWORDS, ImageColorGenerator# creates words colud\n",
        "\n",
        "from bs4 import BeautifulSoup # use for scraping the data from website\n",
        "#from selenium import webdriver # use for automation chrome \n",
        "import networkx as nx # for the creation, manipulation, and study of the structure, dynamics, and functions of complex networks.\n",
        "\n",
        "import pickle# use to dump model \n",
        "\n",
        "import warnings # ignores pink warnings \n",
        "warnings.filterwarnings('ignore')"
      ],
      "execution_count": null,
      "outputs": []
    },
    {
      "cell_type": "code",
      "metadata": {
        "scrolled": true,
        "id": "7RxdEFxcOhEa"
      },
      "source": [
        "# phishing_data1 = pd.read_csv('phishing_urls.csv',usecols=['domain','label'],encoding='latin1', error_bad_lines=False)\n",
        "# phishing_data1.columns = ['URL','Label']\n",
        "# phishing_data2 = pd.read_csv('phishing_data.csv')\n",
        "# phishing_data2.columns = ['URL','Label']\n",
        "# phishing_data3 = pd.read_csv('phishing_data2.csv')\n",
        "# phishing_data3.columns = ['URL','Label']"
      ],
      "execution_count": null,
      "outputs": []
    },
    {
      "cell_type": "code",
      "metadata": {
        "id": "TlZEA_0IOhEb"
      },
      "source": [
        "# for l in range(len(phishing_data1.Label)):\n",
        "#     if phishing_data1.Label.loc[l] == '1.0':\n",
        "#         phishing_data1.Label.loc[l] = 'bad'\n",
        "#     else:\n",
        "#         phishing_data1.Label.loc[l] = 'good'"
      ],
      "execution_count": null,
      "outputs": []
    },
    {
      "cell_type": "markdown",
      "metadata": {
        "id": "fjNAfQDnOhEb"
      },
      "source": [
        "* **Concatenate All datasets in one.**"
      ]
    },
    {
      "cell_type": "code",
      "metadata": {
        "id": "Y34aKu9IOhEc"
      },
      "source": [
        "# frames = [phishing_data1, phishing_data2, phishing_data3]\n",
        "# phishing_urls = pd.concat(frames)"
      ],
      "execution_count": null,
      "outputs": []
    },
    {
      "cell_type": "code",
      "metadata": {
        "id": "hb5dlqkwOhEc"
      },
      "source": [
        "# #saving dataset\n",
        "# phishing_urls.to_csv(r'phishing_site_urls.csv', index = False)"
      ],
      "execution_count": null,
      "outputs": []
    },
    {
      "cell_type": "markdown",
      "metadata": {
        "id": "MSCAVcBYOhEd"
      },
      "source": [
        "* **Loading the main dataset.**"
      ]
    },
    {
      "cell_type": "code",
      "metadata": {
        "id": "_FWYrNq6OhEd"
      },
      "source": [
        "phish_data = pd.read_csv('/content/phishing_site_urls.csv')"
      ],
      "execution_count": null,
      "outputs": []
    },
    {
      "cell_type": "code",
      "metadata": {
        "scrolled": false,
        "colab": {
          "base_uri": "https://localhost:8080/",
          "height": 204
        },
        "id": "t95WItOJOhEe",
        "outputId": "bc81f0ad-705f-484d-e9db-2d737c004c11"
      },
      "source": [
        "phish_data.head()"
      ],
      "execution_count": null,
      "outputs": [
        {
          "output_type": "execute_result",
          "data": {
            "text/html": [
              "<div>\n",
              "<style scoped>\n",
              "    .dataframe tbody tr th:only-of-type {\n",
              "        vertical-align: middle;\n",
              "    }\n",
              "\n",
              "    .dataframe tbody tr th {\n",
              "        vertical-align: top;\n",
              "    }\n",
              "\n",
              "    .dataframe thead th {\n",
              "        text-align: right;\n",
              "    }\n",
              "</style>\n",
              "<table border=\"1\" class=\"dataframe\">\n",
              "  <thead>\n",
              "    <tr style=\"text-align: right;\">\n",
              "      <th></th>\n",
              "      <th>URL</th>\n",
              "      <th>Label</th>\n",
              "    </tr>\n",
              "  </thead>\n",
              "  <tbody>\n",
              "    <tr>\n",
              "      <th>0</th>\n",
              "      <td>nobell.it/70ffb52d079109dca5664cce6f317373782/...</td>\n",
              "      <td>Phishing</td>\n",
              "    </tr>\n",
              "    <tr>\n",
              "      <th>1</th>\n",
              "      <td>www.dghjdgf.com/paypal.co.uk/cycgi-bin/webscrc...</td>\n",
              "      <td>Phishing</td>\n",
              "    </tr>\n",
              "    <tr>\n",
              "      <th>2</th>\n",
              "      <td>serviciosbys.com/paypal.cgi.bin.get-into.herf....</td>\n",
              "      <td>Phishing</td>\n",
              "    </tr>\n",
              "    <tr>\n",
              "      <th>3</th>\n",
              "      <td>mail.printakid.com/www.online.americanexpress....</td>\n",
              "      <td>Phishing</td>\n",
              "    </tr>\n",
              "    <tr>\n",
              "      <th>4</th>\n",
              "      <td>thewhiskeydregs.com/wp-content/themes/widescre...</td>\n",
              "      <td>Phishing</td>\n",
              "    </tr>\n",
              "  </tbody>\n",
              "</table>\n",
              "</div>"
            ],
            "text/plain": [
              "                                                 URL      Label\n",
              "0  nobell.it/70ffb52d079109dca5664cce6f317373782/...  Phishing \n",
              "1  www.dghjdgf.com/paypal.co.uk/cycgi-bin/webscrc...  Phishing \n",
              "2  serviciosbys.com/paypal.cgi.bin.get-into.herf....  Phishing \n",
              "3  mail.printakid.com/www.online.americanexpress....  Phishing \n",
              "4  thewhiskeydregs.com/wp-content/themes/widescre...  Phishing "
            ]
          },
          "metadata": {
            "tags": []
          },
          "execution_count": 8
        }
      ]
    },
    {
      "cell_type": "code",
      "metadata": {
        "colab": {
          "base_uri": "https://localhost:8080/",
          "height": 204
        },
        "id": "BoYWvZRWOhEg",
        "outputId": "088d09dd-43c0-4e1f-b8d2-147c06cc5265"
      },
      "source": [
        "phish_data.tail()"
      ],
      "execution_count": null,
      "outputs": [
        {
          "output_type": "execute_result",
          "data": {
            "text/html": [
              "<div>\n",
              "<style scoped>\n",
              "    .dataframe tbody tr th:only-of-type {\n",
              "        vertical-align: middle;\n",
              "    }\n",
              "\n",
              "    .dataframe tbody tr th {\n",
              "        vertical-align: top;\n",
              "    }\n",
              "\n",
              "    .dataframe thead th {\n",
              "        text-align: right;\n",
              "    }\n",
              "</style>\n",
              "<table border=\"1\" class=\"dataframe\">\n",
              "  <thead>\n",
              "    <tr style=\"text-align: right;\">\n",
              "      <th></th>\n",
              "      <th>URL</th>\n",
              "      <th>Label</th>\n",
              "    </tr>\n",
              "  </thead>\n",
              "  <tbody>\n",
              "    <tr>\n",
              "      <th>549341</th>\n",
              "      <td>23.227.196.215/</td>\n",
              "      <td>Phishing</td>\n",
              "    </tr>\n",
              "    <tr>\n",
              "      <th>549342</th>\n",
              "      <td>apple-checker.org/</td>\n",
              "      <td>Phishing</td>\n",
              "    </tr>\n",
              "    <tr>\n",
              "      <th>549343</th>\n",
              "      <td>apple-iclods.org/</td>\n",
              "      <td>Phishing</td>\n",
              "    </tr>\n",
              "    <tr>\n",
              "      <th>549344</th>\n",
              "      <td>apple-uptoday.org/</td>\n",
              "      <td>Phishing</td>\n",
              "    </tr>\n",
              "    <tr>\n",
              "      <th>549345</th>\n",
              "      <td>apple-search.info</td>\n",
              "      <td>Phishing</td>\n",
              "    </tr>\n",
              "  </tbody>\n",
              "</table>\n",
              "</div>"
            ],
            "text/plain": [
              "                       URL      Label\n",
              "549341     23.227.196.215/  Phishing \n",
              "549342  apple-checker.org/  Phishing \n",
              "549343   apple-iclods.org/  Phishing \n",
              "549344  apple-uptoday.org/  Phishing \n",
              "549345   apple-search.info  Phishing "
            ]
          },
          "metadata": {
            "tags": []
          },
          "execution_count": 9
        }
      ]
    },
    {
      "cell_type": "code",
      "metadata": {
        "scrolled": false,
        "colab": {
          "base_uri": "https://localhost:8080/"
        },
        "id": "0fmtS3ZWOhEh",
        "outputId": "73a9e1a8-4b75-4e10-b89f-680566899709"
      },
      "source": [
        "phish_data.info()"
      ],
      "execution_count": null,
      "outputs": [
        {
          "output_type": "stream",
          "text": [
            "<class 'pandas.core.frame.DataFrame'>\n",
            "RangeIndex: 549352 entries, 0 to 549351\n",
            "Data columns (total 2 columns):\n",
            " #   Column  Non-Null Count   Dtype \n",
            "---  ------  --------------   ----- \n",
            " 0   URL     549352 non-null  object\n",
            " 1   Label   549352 non-null  object\n",
            "dtypes: object(2)\n",
            "memory usage: 8.4+ MB\n"
          ],
          "name": "stdout"
        }
      ]
    },
    {
      "cell_type": "code",
      "metadata": {
        "scrolled": true,
        "colab": {
          "base_uri": "https://localhost:8080/"
        },
        "id": "S5OQO8nDOhEi",
        "outputId": "0f393642-9b76-45b6-f963-a3dd91fcbe1d"
      },
      "source": [
        "phish_data.isnull().sum() # there is no missing values"
      ],
      "execution_count": null,
      "outputs": [
        {
          "output_type": "execute_result",
          "data": {
            "text/plain": [
              "URL      0\n",
              "Label    0\n",
              "dtype: int64"
            ]
          },
          "metadata": {
            "tags": []
          },
          "execution_count": 6
        }
      ]
    },
    {
      "cell_type": "markdown",
      "metadata": {
        "id": "qMelv58lOhEi"
      },
      "source": [
        "* **Checking the classes are balanced or imbalances**"
      ]
    },
    {
      "cell_type": "code",
      "metadata": {
        "id": "w7qFu3R6OhEj"
      },
      "source": [
        "#create a dataframe of classes counts\n",
        "label_counts = pd.DataFrame(phish_data.Label.value_counts())"
      ],
      "execution_count": null,
      "outputs": []
    },
    {
      "cell_type": "code",
      "metadata": {
        "colab": {
          "base_uri": "https://localhost:8080/",
          "height": 282
        },
        "id": "OFcC1ugvOhEj",
        "outputId": "98e6c6ee-7994-4ad3-b022-953c21123e4d"
      },
      "source": [
        "#visualizing target_col\n",
        "sns.set_style('darkgrid')\n",
        "sns.barplot(label_counts.index,label_counts.Label)"
      ],
      "execution_count": null,
      "outputs": [
        {
          "output_type": "execute_result",
          "data": {
            "text/plain": [
              "<matplotlib.axes._subplots.AxesSubplot at 0x7fa2376200d0>"
            ]
          },
          "metadata": {
            "tags": []
          },
          "execution_count": 8
        },
        {
          "output_type": "display_data",
          "data": {
            "image/png": "[encoded data removed]",
            "text/plain": [
              "<Figure size 432x288 with 1 Axes>"
            ]
          },
          "metadata": {
            "tags": []
          }
        }
      ]
    },
    {
      "cell_type": "markdown",
      "metadata": {
        "id": "thlVRRpaOhEk"
      },
      "source": [
        "### Preprocessing"
      ]
    },
    {
      "cell_type": "markdown",
      "metadata": {
        "id": "GdlmEqUkOhEk"
      },
      "source": [
        "### we have to vectorize our URLs. "
      ]
    },
    {
      "cell_type": "markdown",
      "metadata": {
        "id": "u8fFCbUdOhEk"
      },
      "source": [
        "#### RegexpTokenizer\n",
        "* A tokenizer that splits a string using a regular expression, which matches either the tokens or the separators between tokens."
      ]
    },
    {
      "cell_type": "code",
      "metadata": {
        "id": "BwoeHeDiOhEl"
      },
      "source": [
        "tokenizer = RegexpTokenizer(r'[A-Za-z]+')"
      ],
      "execution_count": null,
      "outputs": []
    },
    {
      "cell_type": "code",
      "metadata": {
        "colab": {
          "base_uri": "https://localhost:8080/",
          "height": 35
        },
        "id": "9E8Vw-ZmOhEl",
        "outputId": "7de7d2a1-bc9f-424b-9b33-91ea33dadadc"
      },
      "source": [
        "phish_data.URL[1]"
      ],
      "execution_count": null,
      "outputs": [
        {
          "output_type": "execute_result",
          "data": {
            "application/vnd.google.colaboratory.intrinsic+json": {
              "type": "string"
            },
            "text/plain": [
              "'www.dghjdgf.com/paypal.co.uk/cycgi-bin/webscrcmd=_home-customer&nav=1/loading.php'"
            ]
          },
          "metadata": {
            "tags": []
          },
          "execution_count": 10
        }
      ]
    },
    {
      "cell_type": "code",
      "metadata": {
        "colab": {
          "base_uri": "https://localhost:8080/"
        },
        "id": "vzGF2FcIOhEl",
        "outputId": "2ab34c00-92f8-4031-a994-b1d12b547aca"
      },
      "source": [
        "# this will be pull letter which matches to expression\n",
        "tokenizer.tokenize(phish_data.URL[1]) # using first row"
      ],
      "execution_count": null,
      "outputs": [
        {
          "output_type": "execute_result",
          "data": {
            "text/plain": [
              "['www',\n",
              " 'dghjdgf',\n",
              " 'com',\n",
              " 'paypal',\n",
              " 'co',\n",
              " 'uk',\n",
              " 'cycgi',\n",
              " 'bin',\n",
              " 'webscrcmd',\n",
              " 'home',\n",
              " 'customer',\n",
              " 'nav',\n",
              " 'loading',\n",
              " 'php']"
            ]
          },
          "metadata": {
            "tags": []
          },
          "execution_count": 11
        }
      ]
    },
    {
      "cell_type": "code",
      "metadata": {
        "colab": {
          "base_uri": "https://localhost:8080/"
        },
        "id": "1VpjI-c1OhEm",
        "outputId": "0673c01f-dc74-403e-f3a0-160a48b26e49"
      },
      "source": [
        "print('Getting words tokenized ...')\n",
        "t0= time.perf_counter()\n",
        "phish_data['text_tokenized'] = phish_data.URL.map(lambda t: tokenizer.tokenize(t)) # doing with all rows\n",
        "t1 = time.perf_counter() - t0\n",
        "print('Time taken',t1 ,'sec')"
      ],
      "execution_count": null,
      "outputs": [
        {
          "output_type": "stream",
          "text": [
            "Getting words tokenized ...\n",
            "Time taken 2.1848471559999894 sec\n"
          ],
          "name": "stdout"
        }
      ]
    },
    {
      "cell_type": "code",
      "metadata": {
        "colab": {
          "base_uri": "https://localhost:8080/",
          "height": 204
        },
        "id": "bX0ID1PaOhEm",
        "outputId": "36bebad2-becf-4e8b-9d67-50e68d6ea418"
      },
      "source": [
        "phish_data.sample(5)"
      ],
      "execution_count": null,
      "outputs": [
        {
          "output_type": "execute_result",
          "data": {
            "text/html": [
              "<div>\n",
              "<style scoped>\n",
              "    .dataframe tbody tr th:only-of-type {\n",
              "        vertical-align: middle;\n",
              "    }\n",
              "\n",
              "    .dataframe tbody tr th {\n",
              "        vertical-align: top;\n",
              "    }\n",
              "\n",
              "    .dataframe thead th {\n",
              "        text-align: right;\n",
              "    }\n",
              "</style>\n",
              "<table border=\"1\" class=\"dataframe\">\n",
              "  <thead>\n",
              "    <tr style=\"text-align: right;\">\n",
              "      <th></th>\n",
              "      <th>URL</th>\n",
              "      <th>Label</th>\n",
              "      <th>text_tokenized</th>\n",
              "    </tr>\n",
              "  </thead>\n",
              "  <tbody>\n",
              "    <tr>\n",
              "      <th>183034</th>\n",
              "      <td>encyclopedia.farlex.com/pilot+running</td>\n",
              "      <td>Safe</td>\n",
              "      <td>[encyclopedia, farlex, com, pilot, running]</td>\n",
              "    </tr>\n",
              "    <tr>\n",
              "      <th>542469</th>\n",
              "      <td>185.82.217.229/module/9079dae8e107342d8f3747fa...</td>\n",
              "      <td>Phishing</td>\n",
              "      <td>[module, dae, e, d, f, fa, ab, a]</td>\n",
              "    </tr>\n",
              "    <tr>\n",
              "      <th>260286</th>\n",
              "      <td>wn.com/Chicago_Fire_SC</td>\n",
              "      <td>Safe</td>\n",
              "      <td>[wn, com, Chicago, Fire, SC]</td>\n",
              "    </tr>\n",
              "    <tr>\n",
              "      <th>347079</th>\n",
              "      <td>goodreads.com/book/show/2411128.All_Souls_Night</td>\n",
              "      <td>Safe</td>\n",
              "      <td>[goodreads, com, book, show, All, Souls, Night]</td>\n",
              "    </tr>\n",
              "    <tr>\n",
              "      <th>188052</th>\n",
              "      <td>finance.yahoo.com/q?s=ZION</td>\n",
              "      <td>Safe</td>\n",
              "      <td>[finance, yahoo, com, q, s, ZION]</td>\n",
              "    </tr>\n",
              "  </tbody>\n",
              "</table>\n",
              "</div>"
            ],
            "text/plain": [
              "                                                      URL  ...                                   text_tokenized\n",
              "183034              encyclopedia.farlex.com/pilot+running  ...      [encyclopedia, farlex, com, pilot, running]\n",
              "542469  185.82.217.229/module/9079dae8e107342d8f3747fa...  ...                [module, dae, e, d, f, fa, ab, a]\n",
              "260286                             wn.com/Chicago_Fire_SC  ...                     [wn, com, Chicago, Fire, SC]\n",
              "347079    goodreads.com/book/show/2411128.All_Souls_Night  ...  [goodreads, com, book, show, All, Souls, Night]\n",
              "188052                         finance.yahoo.com/q?s=ZION  ...                [finance, yahoo, com, q, s, ZION]\n",
              "\n",
              "[5 rows x 3 columns]"
            ]
          },
          "metadata": {
            "tags": []
          },
          "execution_count": 13
        }
      ]
    },
    {
      "cell_type": "markdown",
      "metadata": {
        "id": "9bs7vDr0OhEn"
      },
      "source": [
        "#### SnowballStemmer\n"
      ]
    },
    {
      "cell_type": "code",
      "metadata": {
        "id": "5bptXgKEOhEn"
      },
      "source": [
        "stemmer = SnowballStemmer(\"english\") # choose a language"
      ],
      "execution_count": null,
      "outputs": []
    },
    {
      "cell_type": "code",
      "metadata": {
        "colab": {
          "base_uri": "https://localhost:8080/"
        },
        "id": "EuD-C299OhEn",
        "outputId": "106adad0-32fc-445e-af06-9d4e4482ea92"
      },
      "source": [
        "print('Getting words stemmed ...')\n",
        "t0= time.perf_counter()\n",
        "phish_data['text_stemmed'] = phish_data['text_tokenized'].map(lambda l: [stemmer.stem(word) for word in l])\n",
        "t1= time.perf_counter() - t0\n",
        "print('Time taken',t1 ,'sec')"
      ],
      "execution_count": null,
      "outputs": [
        {
          "output_type": "stream",
          "text": [
            "Getting words stemmed ...\n",
            "Time taken 44.795126057999994 sec\n"
          ],
          "name": "stdout"
        }
      ]
    },
    {
      "cell_type": "code",
      "metadata": {
        "scrolled": true,
        "colab": {
          "base_uri": "https://localhost:8080/",
          "height": 289
        },
        "id": "UnAUEHAaOhEo",
        "outputId": "7dd7de45-d9f0-4907-bd15-735d819a68ae"
      },
      "source": [
        "phish_data.sample(5)"
      ],
      "execution_count": null,
      "outputs": [
        {
          "output_type": "execute_result",
          "data": {
            "text/html": [
              "<div>\n",
              "<style scoped>\n",
              "    .dataframe tbody tr th:only-of-type {\n",
              "        vertical-align: middle;\n",
              "    }\n",
              "\n",
              "    .dataframe tbody tr th {\n",
              "        vertical-align: top;\n",
              "    }\n",
              "\n",
              "    .dataframe thead th {\n",
              "        text-align: right;\n",
              "    }\n",
              "</style>\n",
              "<table border=\"1\" class=\"dataframe\">\n",
              "  <thead>\n",
              "    <tr style=\"text-align: right;\">\n",
              "      <th></th>\n",
              "      <th>URL</th>\n",
              "      <th>Label</th>\n",
              "      <th>text_tokenized</th>\n",
              "      <th>text_stemmed</th>\n",
              "    </tr>\n",
              "  </thead>\n",
              "  <tbody>\n",
              "    <tr>\n",
              "      <th>261995</th>\n",
              "      <td>world.mitrasites.com/imgs/athletics-at-the-197...</td>\n",
              "      <td>Safe</td>\n",
              "      <td>[world, mitrasites, com, imgs, athletics, at, ...</td>\n",
              "      <td>[world, mitrasit, com, img, athlet, at, the, s...</td>\n",
              "    </tr>\n",
              "    <tr>\n",
              "      <th>518821</th>\n",
              "      <td>mcyengineering.com/modules/webstat/deutsche_te...</td>\n",
              "      <td>Phishing</td>\n",
              "      <td>[mcyengineering, com, modules, webstat, deutsc...</td>\n",
              "      <td>[mcyengin, com, modul, webstat, deutsch, telek...</td>\n",
              "    </tr>\n",
              "    <tr>\n",
              "      <th>338071</th>\n",
              "      <td>findagrave.com/cgi-bin/fg.cgi?page=gr&amp;GRid=693...</td>\n",
              "      <td>Safe</td>\n",
              "      <td>[findagrave, com, cgi, bin, fg, cgi, page, gr,...</td>\n",
              "      <td>[findagrav, com, cgi, bin, fg, cgi, page, gr, ...</td>\n",
              "    </tr>\n",
              "    <tr>\n",
              "      <th>149766</th>\n",
              "      <td>bleacherreport.com/articles/370142-is-the-phoe...</td>\n",
              "      <td>Safe</td>\n",
              "      <td>[bleacherreport, com, articles, is, the, phoen...</td>\n",
              "      <td>[bleacherreport, com, articl, is, the, phoenix...</td>\n",
              "    </tr>\n",
              "    <tr>\n",
              "      <th>464574</th>\n",
              "      <td>wikimapia.org/11984504/Ecole-Sup%C3%A9rieure-d...</td>\n",
              "      <td>Safe</td>\n",
              "      <td>[wikimapia, org, Ecole, Sup, C, A, rieure, de,...</td>\n",
              "      <td>[wikimapia, org, ecol, sup, c, a, rieur, de, t...</td>\n",
              "    </tr>\n",
              "  </tbody>\n",
              "</table>\n",
              "</div>"
            ],
            "text/plain": [
              "                                                      URL  ...                                       text_stemmed\n",
              "261995  world.mitrasites.com/imgs/athletics-at-the-197...  ...  [world, mitrasit, com, img, athlet, at, the, s...\n",
              "518821  mcyengineering.com/modules/webstat/deutsche_te...  ...  [mcyengin, com, modul, webstat, deutsch, telek...\n",
              "338071  findagrave.com/cgi-bin/fg.cgi?page=gr&GRid=693...  ...  [findagrav, com, cgi, bin, fg, cgi, page, gr, ...\n",
              "149766  bleacherreport.com/articles/370142-is-the-phoe...  ...  [bleacherreport, com, articl, is, the, phoenix...\n",
              "464574  wikimapia.org/11984504/Ecole-Sup%C3%A9rieure-d...  ...  [wikimapia, org, ecol, sup, c, a, rieur, de, t...\n",
              "\n",
              "[5 rows x 4 columns]"
            ]
          },
          "metadata": {
            "tags": []
          },
          "execution_count": 16
        }
      ]
    },
    {
      "cell_type": "code",
      "metadata": {
        "colab": {
          "base_uri": "https://localhost:8080/"
        },
        "id": "RaVVsJD0OhEo",
        "outputId": "5b901523-57eb-45c6-c595-8e8665262860"
      },
      "source": [
        "print('Getting joiningwords ...')\n",
        "t0= time.perf_counter()\n",
        "phish_data['text_sent'] = phish_data['text_stemmed'].map(lambda l: ' '.join(l))\n",
        "t1= time.perf_counter() - t0\n",
        "print('Time taken',t1 ,'sec')"
      ],
      "execution_count": null,
      "outputs": [
        {
          "output_type": "stream",
          "text": [
            "Getting joiningwords ...\n",
            "Time taken 0.22702912700003708 sec\n"
          ],
          "name": "stdout"
        }
      ]
    },
    {
      "cell_type": "code",
      "metadata": {
        "colab": {
          "base_uri": "https://localhost:8080/",
          "height": 306
        },
        "id": "mfLNo0qsOhEp",
        "outputId": "7022bc55-c267-498b-8533-c53435f7ef96"
      },
      "source": [
        "phish_data.sample(5)"
      ],
      "execution_count": null,
      "outputs": [
        {
          "output_type": "execute_result",
          "data": {
            "text/html": [
              "<div>\n",
              "<style scoped>\n",
              "    .dataframe tbody tr th:only-of-type {\n",
              "        vertical-align: middle;\n",
              "    }\n",
              "\n",
              "    .dataframe tbody tr th {\n",
              "        vertical-align: top;\n",
              "    }\n",
              "\n",
              "    .dataframe thead th {\n",
              "        text-align: right;\n",
              "    }\n",
              "</style>\n",
              "<table border=\"1\" class=\"dataframe\">\n",
              "  <thead>\n",
              "    <tr style=\"text-align: right;\">\n",
              "      <th></th>\n",
              "      <th>URL</th>\n",
              "      <th>Label</th>\n",
              "      <th>text_tokenized</th>\n",
              "      <th>text_stemmed</th>\n",
              "      <th>text_sent</th>\n",
              "    </tr>\n",
              "  </thead>\n",
              "  <tbody>\n",
              "    <tr>\n",
              "      <th>81326</th>\n",
              "      <td>www.stephen.com/ad/ad.html</td>\n",
              "      <td>Safe</td>\n",
              "      <td>[www, stephen, com, ad, ad, html]</td>\n",
              "      <td>[www, stephen, com, ad, ad, html]</td>\n",
              "      <td>www stephen com ad ad html</td>\n",
              "    </tr>\n",
              "    <tr>\n",
              "      <th>136712</th>\n",
              "      <td>rimis.lt/wp-includes</td>\n",
              "      <td>Phishing</td>\n",
              "      <td>[rimis, lt, wp, includes]</td>\n",
              "      <td>[rimi, lt, wp, includ]</td>\n",
              "      <td>rimi lt wp includ</td>\n",
              "    </tr>\n",
              "    <tr>\n",
              "      <th>533432</th>\n",
              "      <td>sonaeyou1.web.fc2.com/vfzrxb9</td>\n",
              "      <td>Phishing</td>\n",
              "      <td>[sonaeyou, web, fc, com, vfzrxb]</td>\n",
              "      <td>[sonaeyou, web, fc, com, vfzrxb]</td>\n",
              "      <td>sonaeyou web fc com vfzrxb</td>\n",
              "    </tr>\n",
              "    <tr>\n",
              "      <th>275092</th>\n",
              "      <td>amazon.com/Firecracker/dp/B000S57AJQ</td>\n",
              "      <td>Safe</td>\n",
              "      <td>[amazon, com, Firecracker, dp, B, S, AJQ]</td>\n",
              "      <td>[amazon, com, firecrack, dp, b, s, ajq]</td>\n",
              "      <td>amazon com firecrack dp b s ajq</td>\n",
              "    </tr>\n",
              "    <tr>\n",
              "      <th>153122</th>\n",
              "      <td>brickpostreview.blogspot.com/2009/04/snitch-by...</td>\n",
              "      <td>Safe</td>\n",
              "      <td>[brickpostreview, blogspot, com, snitch, by, n...</td>\n",
              "      <td>[brickpostreview, blogspot, com, snitch, by, n...</td>\n",
              "      <td>brickpostreview blogspot com snitch by norah m...</td>\n",
              "    </tr>\n",
              "  </tbody>\n",
              "</table>\n",
              "</div>"
            ],
            "text/plain": [
              "                                                      URL  ...                                          text_sent\n",
              "81326                          www.stephen.com/ad/ad.html  ...                         www stephen com ad ad html\n",
              "136712                               rimis.lt/wp-includes  ...                                  rimi lt wp includ\n",
              "533432                      sonaeyou1.web.fc2.com/vfzrxb9  ...                         sonaeyou web fc com vfzrxb\n",
              "275092               amazon.com/Firecracker/dp/B000S57AJQ  ...                    amazon com firecrack dp b s ajq\n",
              "153122  brickpostreview.blogspot.com/2009/04/snitch-by...  ...  brickpostreview blogspot com snitch by norah m...\n",
              "\n",
              "[5 rows x 5 columns]"
            ]
          },
          "metadata": {
            "tags": []
          },
          "execution_count": 18
        }
      ]
    },
    {
      "cell_type": "markdown",
      "metadata": {
        "id": "r_OedzeROhEp"
      },
      "source": [
        "### Visualization \n",
        "**1. Visualize some important keys using word cloud**"
      ]
    },
    {
      "cell_type": "code",
      "metadata": {
        "id": "0cGV-LIDOhEp"
      },
      "source": [
        "#sliceing classes\n",
        "bad_sites = phish_data[phish_data.Label == 'Phishing']\n",
        "good_sites = phish_data[phish_data.Label == 'Safe']"
      ],
      "execution_count": null,
      "outputs": []
    },
    {
      "cell_type": "code",
      "metadata": {
        "colab": {
          "base_uri": "https://localhost:8080/",
          "height": 49
        },
        "id": "eaR_3p2UOhEq",
        "outputId": "c351cf83-698b-4512-ea53-667c4aef3bb6"
      },
      "source": [
        "bad_sites.head()"
      ],
      "execution_count": null,
      "outputs": [
        {
          "output_type": "execute_result",
          "data": {
            "text/html": [
              "<div>\n",
              "<style scoped>\n",
              "    .dataframe tbody tr th:only-of-type {\n",
              "        vertical-align: middle;\n",
              "    }\n",
              "\n",
              "    .dataframe tbody tr th {\n",
              "        vertical-align: top;\n",
              "    }\n",
              "\n",
              "    .dataframe thead th {\n",
              "        text-align: right;\n",
              "    }\n",
              "</style>\n",
              "<table border=\"1\" class=\"dataframe\">\n",
              "  <thead>\n",
              "    <tr style=\"text-align: right;\">\n",
              "      <th></th>\n",
              "      <th>URL</th>\n",
              "      <th>Label</th>\n",
              "      <th>text_tokenized</th>\n",
              "      <th>text_stemmed</th>\n",
              "      <th>text_sent</th>\n",
              "    </tr>\n",
              "  </thead>\n",
              "  <tbody>\n",
              "  </tbody>\n",
              "</table>\n",
              "</div>"
            ],
            "text/plain": [
              "Empty DataFrame\n",
              "Columns: [URL, Label, text_tokenized, text_stemmed, text_sent]\n",
              "Index: []"
            ]
          },
          "metadata": {
            "tags": []
          },
          "execution_count": 20
        }
      ]
    },
    {
      "cell_type": "code",
      "metadata": {
        "colab": {
          "base_uri": "https://localhost:8080/",
          "height": 49
        },
        "id": "uQpiAL2yOhEq",
        "outputId": "998a379d-8ce9-4fd6-f852-e2398d77cea6"
      },
      "source": [
        "good_sites.head()"
      ],
      "execution_count": null,
      "outputs": [
        {
          "output_type": "execute_result",
          "data": {
            "text/html": [
              "<div>\n",
              "<style scoped>\n",
              "    .dataframe tbody tr th:only-of-type {\n",
              "        vertical-align: middle;\n",
              "    }\n",
              "\n",
              "    .dataframe tbody tr th {\n",
              "        vertical-align: top;\n",
              "    }\n",
              "\n",
              "    .dataframe thead th {\n",
              "        text-align: right;\n",
              "    }\n",
              "</style>\n",
              "<table border=\"1\" class=\"dataframe\">\n",
              "  <thead>\n",
              "    <tr style=\"text-align: right;\">\n",
              "      <th></th>\n",
              "      <th>URL</th>\n",
              "      <th>Label</th>\n",
              "      <th>text_tokenized</th>\n",
              "      <th>text_stemmed</th>\n",
              "      <th>text_sent</th>\n",
              "    </tr>\n",
              "  </thead>\n",
              "  <tbody>\n",
              "  </tbody>\n",
              "</table>\n",
              "</div>"
            ],
            "text/plain": [
              "Empty DataFrame\n",
              "Columns: [URL, Label, text_tokenized, text_stemmed, text_sent]\n",
              "Index: []"
            ]
          },
          "metadata": {
            "tags": []
          },
          "execution_count": 21
        }
      ]
    },
    {
      "cell_type": "markdown",
      "metadata": {
        "id": "2_ajQAsLOhEt"
      },
      "source": [
        "**2. Visualize internal links, it will shows all redirect links.** "
      ]
    },
    {
      "cell_type": "markdown",
      "metadata": {
        "id": "1LV4MvyXOhEx"
      },
      "source": [
        "#### Turn the URL’s into a Dataframe\n"
      ]
    },
    {
      "cell_type": "markdown",
      "metadata": {
        "id": "UjsbddjUOhEy"
      },
      "source": [
        "### Creating Model"
      ]
    },
    {
      "cell_type": "markdown",
      "metadata": {
        "id": "YHRvReVQOhEz"
      },
      "source": [
        "#### CountVectorizer\n",
        "* CountVectorizer is used to transform a corpora of text to a vector of term / token counts."
      ]
    },
    {
      "cell_type": "code",
      "metadata": {
        "id": "lr0t0hVhOhEz"
      },
      "source": [
        "#create cv object\n",
        "cv = CountVectorizer()"
      ],
      "execution_count": null,
      "outputs": []
    },
    {
      "cell_type": "code",
      "metadata": {
        "id": "cFWvmgNJOhEz"
      },
      "source": [
        "#help(CountVectorizer())"
      ],
      "execution_count": null,
      "outputs": []
    },
    {
      "cell_type": "code",
      "metadata": {
        "id": "lc6yDyhDOhE0"
      },
      "source": [
        "feature = cv.fit_transform(phish_data.text_sent) #transform all text which we tokenize and stemed"
      ],
      "execution_count": null,
      "outputs": []
    },
    {
      "cell_type": "code",
      "metadata": {
        "scrolled": true,
        "id": "snOyF3bmOhE0",
        "colab": {
          "base_uri": "https://localhost:8080/"
        },
        "outputId": "2b5abe60-76a5-43cf-b671-03a93f9dcd76"
      },
      "source": [
        "feature[:5].toarray() # convert sparse matrix into array to print transformed features"
      ],
      "execution_count": null,
      "outputs": [
        {
          "output_type": "execute_result",
          "data": {
            "text/plain": [
              "array([[0, 0, 0, ..., 0, 0, 0],\n",
              "       [0, 0, 0, ..., 0, 0, 0],\n",
              "       [0, 0, 0, ..., 0, 0, 0],\n",
              "       [0, 0, 0, ..., 0, 0, 0],\n",
              "       [0, 0, 0, ..., 0, 0, 0]])"
            ]
          },
          "metadata": {
            "tags": []
          },
          "execution_count": 28
        }
      ]
    },
    {
      "cell_type": "markdown",
      "metadata": {
        "id": "F2Ukf21sOhE1"
      },
      "source": [
        "#### * Spliting the data "
      ]
    },
    {
      "cell_type": "code",
      "metadata": {
        "id": "2QYzWQh7OhE1",
        "colab": {
          "base_uri": "https://localhost:8080/",
          "height": 163
        },
        "outputId": "ef9c3517-4d38-45e9-9b7d-9a3f7dc70655"
      },
      "source": [
        "trainX, testX, trainY, testY = train_test_split(feature, phish_data.Label)"
      ],
      "execution_count": null,
      "outputs": [
        {
          "output_type": "error",
          "ename": "NameError",
          "evalue": "ignored",
          "traceback": [
            "\u001b[0;31m---------------------------------------------------------------------------\u001b[0m",
            "\u001b[0;31mNameError\u001b[0m                                 Traceback (most recent call last)",
            "\u001b[0;32m<ipython-input-6-5589bd702ef3>\u001b[0m in \u001b[0;36m<module>\u001b[0;34m()\u001b[0m\n\u001b[0;32m----> 1\u001b[0;31m \u001b[0mtrainX\u001b[0m\u001b[0;34m,\u001b[0m \u001b[0mtestX\u001b[0m\u001b[0;34m,\u001b[0m \u001b[0mtrainY\u001b[0m\u001b[0;34m,\u001b[0m \u001b[0mtestY\u001b[0m \u001b[0;34m=\u001b[0m \u001b[0mtrain_test_split\u001b[0m\u001b[0;34m(\u001b[0m\u001b[0mfeature\u001b[0m\u001b[0;34m,\u001b[0m \u001b[0mphish_data\u001b[0m\u001b[0;34m.\u001b[0m\u001b[0mLabel\u001b[0m\u001b[0;34m)\u001b[0m\u001b[0;34m\u001b[0m\u001b[0;34m\u001b[0m\u001b[0m\n\u001b[0m",
            "\u001b[0;31mNameError\u001b[0m: name 'feature' is not defined"
          ]
        }
      ]
    },
    {
      "cell_type": "markdown",
      "metadata": {
        "id": "_ZyNHfboOhE1"
      },
      "source": [
        "### Model Selection"
      ]
    },
    {
      "cell_type": "code",
      "metadata": {
        "id": "qE-m_cWoOhE2"
      },
      "source": [
        "# create lr object\n",
        "lr = LogisticRegression()\n",
        "# from xgboost import XGBClassifier\n",
        "#lr = XGBClassifier()\n",
        "# from sklearn.neighbors import KNeighborsClassifier\n",
        "# lr = KNeighborsClassifier\n",
        "# from sklearn import svm\n",
        "# lr1 = svm.SVC()\n",
        "# from sklearn.ensemble import RandomForestClassifier\n",
        "# lr = RandomForestClassifier()"
      ],
      "execution_count": null,
      "outputs": []
    },
    {
      "cell_type": "code",
      "metadata": {
        "id": "koSVum-BOhE2",
        "colab": {
          "base_uri": "https://localhost:8080/"
        },
        "outputId": "efe8c5d2-d468-4447-da2e-814571aa7c19"
      },
      "source": [
        "lr.fit(trainX,trainY)"
      ],
      "execution_count": null,
      "outputs": [
        {
          "output_type": "execute_result",
          "data": {
            "text/plain": [
              "LogisticRegression(C=1.0, class_weight=None, dual=False, fit_intercept=True,\n",
              "                   intercept_scaling=1, l1_ratio=None, max_iter=100,\n",
              "                   multi_class='auto', n_jobs=None, penalty='l2',\n",
              "                   random_state=None, solver='lbfgs', tol=0.0001, verbose=0,\n",
              "                   warm_start=False)"
            ]
          },
          "metadata": {
            "tags": []
          },
          "execution_count": 32
        }
      ]
    },
    {
      "cell_type": "code",
      "metadata": {
        "id": "sGgzTh8zOhE2",
        "colab": {
          "base_uri": "https://localhost:8080/"
        },
        "outputId": "62c33c8c-7bc3-4cf4-fba1-c040a4597f16"
      },
      "source": [
        "lr.score(testX,testY)"
      ],
      "execution_count": null,
      "outputs": [
        {
          "output_type": "execute_result",
          "data": {
            "text/plain": [
              "0.9628653395272976"
            ]
          },
          "metadata": {
            "tags": []
          },
          "execution_count": 33
        }
      ]
    },
    {
      "cell_type": "markdown",
      "metadata": {
        "id": "edHMG4mHOhE3"
      },
      "source": [
        ".*** Logistic Regression is giving 96% accuracy**"
      ]
    },
    {
      "cell_type": "code",
      "metadata": {
        "id": "4OCAnPU6OhE3"
      },
      "source": [
        "Scores_ml = {}\n",
        "Scores_ml['Logistic Regression'] = np.round(lr.score(testX,testY),2)"
      ],
      "execution_count": null,
      "outputs": []
    },
    {
      "cell_type": "code",
      "metadata": {
        "id": "BN8h6WNKOhE3",
        "colab": {
          "base_uri": "https://localhost:8080/",
          "height": 554
        },
        "outputId": "4cc9ddb9-abeb-4ce0-aced-78a8a62540e6"
      },
      "source": [
        "print('Training Accuracy :',lr.score(trainX,trainY))\n",
        "print('Testing Accuracy :',lr.score(testX,testY))\n",
        "con_mat = pd.DataFrame(confusion_matrix(lr.predict(testX), testY),\n",
        "            columns = ['Predicted:Bad', 'Predicted:Good'],\n",
        "            index = ['Actual:Bad', 'Actual:Good'])\n",
        "\n",
        "\n",
        "print('\\nCLASSIFICATION REPORT\\n')\n",
        "print(classification_report(lr.predict(testX), testY,\n",
        "                            target_names =['Phishing','Safe']))\n",
        "\n",
        "print('\\nCONFUSION MATRIX')\n",
        "plt.figure(figsize= (6,4))\n",
        "sns.heatmap(con_mat, annot = True,fmt='d',cmap=\"YlGnBu\")"
      ],
      "execution_count": null,
      "outputs": [
        {
          "output_type": "stream",
          "text": [
            "Training Accuracy : 0.9767216647977981\n",
            "Testing Accuracy : 0.9628653395272976\n",
            "\n",
            "CLASSIFICATION REPORT\n",
            "\n",
            "              precision    recall  f1-score   support\n",
            "\n",
            "         Bad       0.90      0.97      0.93     36305\n",
            "        Good       0.99      0.96      0.97    101033\n",
            "\n",
            "    accuracy                           0.96    137338\n",
            "   macro avg       0.94      0.96      0.95    137338\n",
            "weighted avg       0.96      0.96      0.96    137338\n",
            "\n",
            "\n",
            "CONFUSION MATRIX\n"
          ],
          "name": "stdout"
        },
        {
          "output_type": "execute_result",
          "data": {
            "text/plain": [
              "<matplotlib.axes._subplots.AxesSubplot at 0x7fa2099aac90>"
            ]
          },
          "metadata": {
            "tags": []
          },
          "execution_count": 35
        },
        {
          "output_type": "display_data",
          "data": {
            "image/png": "[encoded data removed]",
            "text/plain": [
              "<Figure size 432x288 with 2 Axes>"
            ]
          },
          "metadata": {
            "tags": []
          }
        }
      ]
    },
    {
      "cell_type": "markdown",
      "metadata": {
        "id": "SXqZVMG6OhE4"
      },
      "source": [
        "### MultinomialNB\n",
        "* Applying Multinomial Naive Bayes to NLP Problems. Naive Bayes Classifier Algorithm is a family of probabilistic algorithms based on applying Bayes' theorem with the “naive” assumption of conditional independence between every pair of a feature."
      ]
    },
    {
      "cell_type": "code",
      "metadata": {
        "id": "juYPC-1rOhE5"
      },
      "source": [
        "# create mnb object\n",
        "mnb = MultinomialNB()"
      ],
      "execution_count": null,
      "outputs": []
    },
    {
      "cell_type": "code",
      "metadata": {
        "id": "3I-K6_JeOhE5",
        "colab": {
          "base_uri": "https://localhost:8080/"
        },
        "outputId": "8fa30175-c8b9-44c3-8dae-f203a6ec80dc"
      },
      "source": [
        "mnb.fit(trainX,trainY)"
      ],
      "execution_count": null,
      "outputs": [
        {
          "output_type": "execute_result",
          "data": {
            "text/plain": [
              "MultinomialNB(alpha=1.0, class_prior=None, fit_prior=True)"
            ]
          },
          "metadata": {
            "tags": []
          },
          "execution_count": 37
        }
      ]
    },
    {
      "cell_type": "code",
      "metadata": {
        "id": "gAKDOQziOhE5",
        "colab": {
          "base_uri": "https://localhost:8080/"
        },
        "outputId": "8c10fbda-d5b4-4697-b058-2abc167265ba"
      },
      "source": [
        "mnb.score(testX,testY)"
      ],
      "execution_count": null,
      "outputs": [
        {
          "output_type": "execute_result",
          "data": {
            "text/plain": [
              "0.9579650206060959"
            ]
          },
          "metadata": {
            "tags": []
          },
          "execution_count": 38
        }
      ]
    },
    {
      "cell_type": "markdown",
      "metadata": {
        "id": "MhKKu0veOhE6"
      },
      "source": [
        "*** MultinomialNB gives us 95% accuracy**  "
      ]
    },
    {
      "cell_type": "code",
      "metadata": {
        "id": "luYeLS6UOhE6"
      },
      "source": [
        "Scores_ml['MultinomialNB'] = np.round(mnb.score(testX,testY),2)"
      ],
      "execution_count": null,
      "outputs": []
    },
    {
      "cell_type": "code",
      "metadata": {
        "id": "Hjk3-e5uOhE6",
        "colab": {
          "base_uri": "https://localhost:8080/",
          "height": 554
        },
        "outputId": "3908e7cd-712d-475d-de01-7ce523bd37be"
      },
      "source": [
        "print('Training Accuracy :',mnb.score(trainX,trainY))\n",
        "print('Testing Accuracy :',mnb.score(testX,testY))\n",
        "con_mat = pd.DataFrame(confusion_matrix(mnb.predict(testX), testY),\n",
        "            columns = ['Predicted:Bad', 'Predicted:Good'],\n",
        "            index = ['Actual:Bad', 'Actual:Good'])\n",
        "\n",
        "\n",
        "print('\\nCLASSIFICATION REPORT\\n')\n",
        "print(classification_report(mnb.predict(testX), testY,\n",
        "                            target_names =['Phishing','Safe']))\n",
        "\n",
        "print('\\nCONFUSION MATRIX')\n",
        "plt.figure(figsize= (6,4))\n",
        "sns.heatmap(con_mat, annot = True,fmt='d',cmap=\"YlGnBu\")"
      ],
      "execution_count": null,
      "outputs": [
        {
          "output_type": "stream",
          "text": [
            "Training Accuracy : 0.9738552573456242\n",
            "Testing Accuracy : 0.9579650206060959\n",
            "\n",
            "CLASSIFICATION REPORT\n",
            "\n",
            "              precision    recall  f1-score   support\n",
            "\n",
            "         Bad       0.92      0.94      0.93     38098\n",
            "        Good       0.97      0.97      0.97     99240\n",
            "\n",
            "    accuracy                           0.96    137338\n",
            "   macro avg       0.95      0.95      0.95    137338\n",
            "weighted avg       0.96      0.96      0.96    137338\n",
            "\n",
            "\n",
            "CONFUSION MATRIX\n"
          ],
          "name": "stdout"
        },
        {
          "output_type": "execute_result",
          "data": {
            "text/plain": [
              "<matplotlib.axes._subplots.AxesSubplot at 0x7fa2054082d0>"
            ]
          },
          "metadata": {
            "tags": []
          },
          "execution_count": 40
        },
        {
          "output_type": "display_data",
          "data": {
            "image/png": "[encoded data removed]",
            "text/plain": [
              "<Figure size 432x288 with 2 Axes>"
            ]
          },
          "metadata": {
            "tags": []
          }
        }
      ]
    },
    {
      "cell_type": "code",
      "metadata": {
        "id": "0xfC9pF1OhE7",
        "colab": {
          "base_uri": "https://localhost:8080/",
          "height": 285
        },
        "outputId": "f63f1a52-a2e4-4582-a380-534466874823"
      },
      "source": [
        "acc = pd.DataFrame.from_dict(Scores_ml,orient = 'index',columns=['Accuracy'])\n",
        "sns.set_style('darkgrid')\n",
        "sns.barplot(acc.index,acc.Accuracy)"
      ],
      "execution_count": null,
      "outputs": [
        {
          "output_type": "execute_result",
          "data": {
            "text/plain": [
              "<matplotlib.axes._subplots.AxesSubplot at 0x7fa206b7a5d0>"
            ]
          },
          "metadata": {
            "tags": []
          },
          "execution_count": 41
        },
        {
          "output_type": "display_data",
          "data": {
            "image/png": "[encoded data removed]",
            "text/plain": [
              "<Figure size 432x288 with 1 Axes>"
            ]
          },
          "metadata": {
            "tags": []
          }
        }
      ]
    },
    {
      "cell_type": "markdown",
      "metadata": {
        "id": "oY69qWJnOhE7"
      },
      "source": [
        "*** So, Logistic Regression is the best fit model, Now we make sklearn pipeline using Logistic Regression**"
      ]
    },
    {
      "cell_type": "code",
      "metadata": {
        "id": "khse_xprOhE7"
      },
      "source": [
        "pipeline_ls = make_pipeline(CountVectorizer(tokenizer = RegexpTokenizer(r'[A-Za-z]+').tokenize,stop_words='english'), LogisticRegression())\n",
        "##(r'\\b(?:http|ftp)s?://\\S*\\w|\\w+|[^\\w\\s]+') ([a-zA-Z]+)([0-9]+) -- these tolenizers giving me low accuray "
      ],
      "execution_count": null,
      "outputs": []
    },
    {
      "cell_type": "code",
      "metadata": {
        "id": "MrK-BQdKOhE8"
      },
      "source": [
        "trainX, testX, trainY, testY = train_test_split(phish_data.URL, phish_data.Label)"
      ],
      "execution_count": null,
      "outputs": []
    },
    {
      "cell_type": "code",
      "metadata": {
        "scrolled": true,
        "id": "A-TEM6K2OhE8",
        "colab": {
          "base_uri": "https://localhost:8080/"
        },
        "outputId": "a0e57c4d-8fd0-476a-fcc9-e56b58b789f1"
      },
      "source": [
        "pipeline_ls.fit(trainX,trainY)"
      ],
      "execution_count": null,
      "outputs": [
        {
          "output_type": "execute_result",
          "data": {
            "text/plain": [
              "Pipeline(memory=None,\n",
              "         steps=[('countvectorizer',\n",
              "                 CountVectorizer(analyzer='word', binary=False,\n",
              "                                 decode_error='strict',\n",
              "                                 dtype=<class 'numpy.int64'>, encoding='utf-8',\n",
              "                                 input='content', lowercase=True, max_df=1.0,\n",
              "                                 max_features=None, min_df=1,\n",
              "                                 ngram_range=(1, 1), preprocessor=None,\n",
              "                                 stop_words='english', strip_accents=None,\n",
              "                                 token_pattern='(?u)\\\\b\\\\w\\\\w+\\\\b',\n",
              "                                 tokenizer=<bo...mpty=True, flags=<RegexFlag.UNICODE|DOTALL|MULTILINE: 56>)>,\n",
              "                                 vocabulary=None)),\n",
              "                ('logisticregression',\n",
              "                 LogisticRegression(C=1.0, class_weight=None, dual=False,\n",
              "                                    fit_intercept=True, intercept_scaling=1,\n",
              "                                    l1_ratio=None, max_iter=100,\n",
              "                                    multi_class='auto', n_jobs=None,\n",
              "                                    penalty='l2', random_state=None,\n",
              "                                    solver='lbfgs', tol=0.0001, verbose=0,\n",
              "                                    warm_start=False))],\n",
              "         verbose=False)"
            ]
          },
          "metadata": {
            "tags": []
          },
          "execution_count": 44
        }
      ]
    },
    {
      "cell_type": "code",
      "metadata": {
        "id": "V-gW3p_ZOhE8",
        "colab": {
          "base_uri": "https://localhost:8080/"
        },
        "outputId": "8b2798ad-92e2-4e7f-e757-18bef1391cf7"
      },
      "source": [
        "pipeline_ls.score(testX,testY) "
      ],
      "execution_count": null,
      "outputs": [
        {
          "output_type": "execute_result",
          "data": {
            "text/plain": [
              "0.9669137456494197"
            ]
          },
          "metadata": {
            "tags": []
          },
          "execution_count": 45
        }
      ]
    },
    {
      "cell_type": "code",
      "metadata": {
        "id": "WJbKkRUyOhE9",
        "colab": {
          "base_uri": "https://localhost:8080/",
          "height": 554
        },
        "outputId": "daf8047d-e4af-4cd4-da5b-f8c9e017addb"
      },
      "source": [
        "print('Training Accuracy :',pipeline_ls.score(trainX,trainY))\n",
        "print('Testing Accuracy :',pipeline_ls.score(testX,testY))\n",
        "con_mat = pd.DataFrame(confusion_matrix(pipeline_ls.predict(testX), testY),\n",
        "            columns = ['Predicted:Bad', 'Predicted:Good'],\n",
        "            index = ['Actual:Bad', 'Actual:Good'])\n",
        "\n",
        "\n",
        "print('\\nCLASSIFICATION REPORT\\n')\n",
        "print(classification_report(pipeline_ls.predict(testX), testY,\n",
        "                            target_names =['Phishing','Safe']))\n",
        "\n",
        "print('\\nCONFUSION MATRIX')\n",
        "plt.figure(figsize= (6,4))\n",
        "sns.heatmap(con_mat, annot = True,fmt='d',cmap=\"YlGnBu\")"
      ],
      "execution_count": null,
      "outputs": [
        {
          "output_type": "stream",
          "text": [
            "Training Accuracy : 0.9807118204721199\n",
            "Testing Accuracy : 0.9669137456494197\n",
            "\n",
            "CLASSIFICATION REPORT\n",
            "\n",
            "              precision    recall  f1-score   support\n",
            "\n",
            "         Bad       0.91      0.97      0.94     36759\n",
            "        Good       0.99      0.97      0.98    100579\n",
            "\n",
            "    accuracy                           0.97    137338\n",
            "   macro avg       0.95      0.97      0.96    137338\n",
            "weighted avg       0.97      0.97      0.97    137338\n",
            "\n",
            "\n",
            "CONFUSION MATRIX\n"
          ],
          "name": "stdout"
        },
        {
          "output_type": "execute_result",
          "data": {
            "text/plain": [
              "<matplotlib.axes._subplots.AxesSubplot at 0x7fa20585dc90>"
            ]
          },
          "metadata": {
            "tags": []
          },
          "execution_count": 46
        },
        {
          "output_type": "display_data",
          "data": {
            "image/png": "[encoded data removed]",
            "text/plain": [
              "<Figure size 432x288 with 2 Axes>"
            ]
          },
          "metadata": {
            "tags": []
          }
        }
      ]
    },
    {
      "cell_type": "code",
      "metadata": {
        "id": "cScb8rX-OhE9"
      },
      "source": [
        "pickle.dump(pipeline_ls,open('phishing.pkl','wb'))"
      ],
      "execution_count": null,
      "outputs": []
    },
    {
      "cell_type": "code",
      "metadata": {
        "id": "1F_rFApTOhE-",
        "colab": {
          "base_uri": "https://localhost:8080/"
        },
        "outputId": "e84440fc-f488-43fd-8117-4300ea0b055c"
      },
      "source": [
        "loaded_model = pickle.load(open('/content/phishing.pkl', 'rb'))\n",
        "result = loaded_model.score(testX,testY)\n",
        "print(result)"
      ],
      "execution_count": null,
      "outputs": [
        {
          "output_type": "stream",
          "text": [
            "0.9669137456494197\n"
          ],
          "name": "stdout"
        }
      ]
    },
    {
      "cell_type": "code",
      "metadata": {
        "id": "eFEYzhBNOhE_"
      },
      "source": [
        "# * Bad links => this are phishing sites\n",
        "# yeniik.com.tr/wp-admin/js/login.alibaba.com/login.jsp.php\n",
        "# fazan-pacir.rs/temp/libraries/ipad\n",
        "# www.tubemoviez.exe\n",
        "# svision-online.de/mgfi/administrator/components/com_babackup/classes/fx29id1.txt\n",
        "\n",
        "# * Good links => this are not phishing sites\n",
        "# www.youtube.com/\n",
        "# youtube.com/watch?v=qI0TQJI3vdU\n",
        "# www.retailhellunderground.com/\n",
        "# restorevisioncenters.com/html/technology.html\n",
        "\n",
        "\n",
        "# youtube.com/"
      ],
      "execution_count": null,
      "outputs": []
    },
    {
      "cell_type": "code",
      "metadata": {
        "scrolled": true,
        "id": "e9pYa5HlOhE_",
        "colab": {
          "base_uri": "https://localhost:8080/"
        },
        "outputId": "311f87cd-fdc6-473c-cada-47c7d7f9a19c"
      },
      "source": [
        "import pickle\n",
        "predict_bad = ['yeniik.com.tr/wp-admin/js/login.alibaba.com/login.jsp.php','fazan-pacir.rs/temp/libraries/ipad','tubemoviez.exe','svision-online.de/mgfi/administrator/components/com_babackup/classes/fx29id1.txt']\n",
        "predict_good = ['coursera.org/specializations/learn-sql-basics-data-science','youtube.com/watch?v=qI0TQJI3vdU','retailhellunderground.com/','restorevisioncenters.com/html/technology.html']\n",
        "loaded_model = pickle.load(open('/content/phishing.pkl', 'rb'))\n",
        "result = loaded_model.predict(predict_bad)\n",
        "result2 = loaded_model.predict(predict_good)\n",
        "print('This is a '+result + 'Site')\n",
        "print(\"*\"*300)\n",
        "print('This is a '+result2 + 'Site')"
      ],
      "execution_count": null,
      "outputs": [
        {
          "output_type": "stream",
          "text": [
            "['This is a Phishing Site' 'This is a Phishing Site'\n",
            " 'This is a Phishing Site' 'This is a Phishing Site']\n",
            "************************************************************************************************************************************************************************************************************************************************************************************************************\n",
            "['This is a Safe Site' 'This is a Safe Site' 'This is a Safe Site'\n",
            " 'This is a Safe Site']\n"
          ],
          "name": "stdout"
        }
      ]
    },
    {
      "cell_type": "code",
      "metadata": {
        "id": "3dvaxBJ9OhFB",
        "colab": {
          "base_uri": "https://localhost:8080/"
        },
        "outputId": "fed4c846-1526-4729-b577-9b8c8bc875ab"
      },
      "source": [
        "import pickle\n",
        "site1 = str(input(\"Please enter the site without the 'http' and 'www' part (eg- youtube.com/):\\n\")).lower()\n",
        "predict1 = []\n",
        "loaded_model = pickle.load(open('/content/phishing.pkl', 'rb'))\n",
        "predict1.append(site1)\n",
        "result = loaded_model.predict(predict1)\n",
        "if result == 'Phishing ':\n",
        "  if (predict1[0][4]) == 's':\n",
        "    print(\"Safe\")\n",
        "  else:\n",
        "    print('Phising')\n",
        "else:\n",
        "  print(result)\n"
      ],
      "execution_count": null,
      "outputs": [
        {
          "output_type": "stream",
          "text": [
            "Please enter the site without the 'http' and 'www' part (eg- youtube.com/):\n",
            "https://www.youtube.com/watch?v=N69ZEImqQ60&list=RDDhD-NhTBO1A&index=3\n",
            "['Safe ']\n"
          ],
          "name": "stdout"
        }
      ]
    },
    {
      "cell_type": "code",
      "metadata": {
        "id": "4CUDHWJIqYAz"
      },
      "source": [
        ""
      ],
      "execution_count": null,
      "outputs": []
    }
  ]
}